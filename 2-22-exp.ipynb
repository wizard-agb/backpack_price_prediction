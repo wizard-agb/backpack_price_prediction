{
 "cells": [
  {
   "cell_type": "code",
   "execution_count": 64,
   "metadata": {
    "execution": {
     "iopub.execute_input": "2025-02-08T21:12:22.735981Z",
     "iopub.status.busy": "2025-02-08T21:12:22.735496Z",
     "iopub.status.idle": "2025-02-08T21:12:28.843126Z",
     "shell.execute_reply": "2025-02-08T21:12:28.841894Z",
     "shell.execute_reply.started": "2025-02-08T21:12:22.735944Z"
    },
    "trusted": true
   },
   "outputs": [],
   "source": [
    "import pandas as pd\n",
    "import seaborn as sns\n",
    "import numpy as np\n",
    "import matplotlib.pyplot as plt\n",
    "from datetime import datetime\n",
    "\n",
    "from sklearn.experimental import enable_iterative_imputer\n",
    "from sklearn.impute import IterativeImputer\n",
    "from sklearn.impute import KNNImputer, SimpleImputer\n",
    "from category_encoders import TargetEncoder\n",
    "from sklearn.preprocessing import OneHotEncoder, StandardScaler, KBinsDiscretizer, LabelEncoder\n",
    "from sklearn.model_selection import train_test_split, GridSearchCV, KFold, ParameterGrid\n",
    "from sklearn.decomposition import PCA\n",
    "\n",
    "\n",
    "#import knn classifier\n",
    "from sklearn.neighbors import KNeighborsClassifier\n",
    "from sklearn.ensemble import RandomForestRegressor, GradientBoostingRegressor, StackingRegressor, RandomForestClassifier\n",
    "import catboost as cb\n",
    "import xgboost as xgb\n",
    "import lightgbm as lgb\n",
    "\n",
    "from sklearn.metrics import mean_absolute_error,  mean_squared_error, r2_score, accuracy_score\n",
    "\n",
    "# import tensorflow as tf\n",
    "# from keras.models import Sequential\n",
    "# from keras.layers import Dense, Dropout\n",
    "# from tensorflow.keras.callbacks import EarlyStopping\n",
    "# from tensorflow.keras import regularizers\n",
    "# from keras import initializers\n",
    "# from keras.layers import BatchNormalization\n",
    "# from tensorflow.keras.constraints import MaxNorm\n",
    "# from kerastuner.tuners import Hyperband\n",
    "\n",
    "# from tensorflow.keras.optimizers import Adam\n",
    "\n",
    "# import shap\n",
    "# from lime import lime_tabular\n"
   ]
  },
  {
   "cell_type": "code",
   "execution_count": 65,
   "metadata": {
    "execution": {
     "iopub.execute_input": "2025-02-08T21:12:28.845929Z",
     "iopub.status.busy": "2025-02-08T21:12:28.845111Z",
     "iopub.status.idle": "2025-02-08T21:12:39.159189Z",
     "shell.execute_reply": "2025-02-08T21:12:39.157926Z",
     "shell.execute_reply.started": "2025-02-08T21:12:28.845893Z"
    },
    "trusted": true
   },
   "outputs": [],
   "source": [
    "train = pd.read_csv('data/train.csv')\n",
    "train_extra = pd.read_csv('data/training_extra.csv')\n",
    "test = pd.read_csv('data/test.csv')\n",
    "train_noisy = pd.read_csv('data/Noisy_Student_Bag_Price_Prediction_Dataset.csv')\n"
   ]
  },
  {
   "cell_type": "code",
   "execution_count": 66,
   "metadata": {
    "execution": {
     "iopub.execute_input": "2025-02-08T21:12:39.160976Z",
     "iopub.status.busy": "2025-02-08T21:12:39.160667Z",
     "iopub.status.idle": "2025-02-08T21:12:39.665946Z",
     "shell.execute_reply": "2025-02-08T21:12:39.664804Z",
     "shell.execute_reply.started": "2025-02-08T21:12:39.160948Z"
    },
    "trusted": true
   },
   "outputs": [
    {
     "data": {
      "text/html": [
       "<div>\n",
       "<style scoped>\n",
       "    .dataframe tbody tr th:only-of-type {\n",
       "        vertical-align: middle;\n",
       "    }\n",
       "\n",
       "    .dataframe tbody tr th {\n",
       "        vertical-align: top;\n",
       "    }\n",
       "\n",
       "    .dataframe thead th {\n",
       "        text-align: right;\n",
       "    }\n",
       "</style>\n",
       "<table border=\"1\" class=\"dataframe\">\n",
       "  <thead>\n",
       "    <tr style=\"text-align: right;\">\n",
       "      <th></th>\n",
       "      <th>id</th>\n",
       "      <th>Brand</th>\n",
       "      <th>Material</th>\n",
       "      <th>Size</th>\n",
       "      <th>Compartments</th>\n",
       "      <th>Laptop Compartment</th>\n",
       "      <th>Waterproof</th>\n",
       "      <th>Style</th>\n",
       "      <th>Color</th>\n",
       "      <th>Weight Capacity (kg)</th>\n",
       "      <th>Price</th>\n",
       "    </tr>\n",
       "  </thead>\n",
       "  <tbody>\n",
       "    <tr>\n",
       "      <th>0</th>\n",
       "      <td>0</td>\n",
       "      <td>Jansport</td>\n",
       "      <td>Leather</td>\n",
       "      <td>Medium</td>\n",
       "      <td>7.0</td>\n",
       "      <td>Yes</td>\n",
       "      <td>No</td>\n",
       "      <td>Tote</td>\n",
       "      <td>Black</td>\n",
       "      <td>11.611723</td>\n",
       "      <td>112.15875</td>\n",
       "    </tr>\n",
       "    <tr>\n",
       "      <th>1</th>\n",
       "      <td>1</td>\n",
       "      <td>Jansport</td>\n",
       "      <td>Canvas</td>\n",
       "      <td>Small</td>\n",
       "      <td>10.0</td>\n",
       "      <td>Yes</td>\n",
       "      <td>Yes</td>\n",
       "      <td>Messenger</td>\n",
       "      <td>Green</td>\n",
       "      <td>27.078537</td>\n",
       "      <td>68.88056</td>\n",
       "    </tr>\n",
       "    <tr>\n",
       "      <th>2</th>\n",
       "      <td>2</td>\n",
       "      <td>Under Armour</td>\n",
       "      <td>Leather</td>\n",
       "      <td>Small</td>\n",
       "      <td>2.0</td>\n",
       "      <td>Yes</td>\n",
       "      <td>No</td>\n",
       "      <td>Messenger</td>\n",
       "      <td>Red</td>\n",
       "      <td>16.643760</td>\n",
       "      <td>39.17320</td>\n",
       "    </tr>\n",
       "    <tr>\n",
       "      <th>3</th>\n",
       "      <td>3</td>\n",
       "      <td>Nike</td>\n",
       "      <td>Nylon</td>\n",
       "      <td>Small</td>\n",
       "      <td>8.0</td>\n",
       "      <td>Yes</td>\n",
       "      <td>No</td>\n",
       "      <td>Messenger</td>\n",
       "      <td>Green</td>\n",
       "      <td>12.937220</td>\n",
       "      <td>80.60793</td>\n",
       "    </tr>\n",
       "    <tr>\n",
       "      <th>4</th>\n",
       "      <td>4</td>\n",
       "      <td>Adidas</td>\n",
       "      <td>Canvas</td>\n",
       "      <td>Medium</td>\n",
       "      <td>1.0</td>\n",
       "      <td>Yes</td>\n",
       "      <td>Yes</td>\n",
       "      <td>Messenger</td>\n",
       "      <td>Green</td>\n",
       "      <td>17.749338</td>\n",
       "      <td>86.02312</td>\n",
       "    </tr>\n",
       "  </tbody>\n",
       "</table>\n",
       "</div>"
      ],
      "text/plain": [
       "   id         Brand Material    Size  Compartments Laptop Compartment  \\\n",
       "0   0      Jansport  Leather  Medium           7.0                Yes   \n",
       "1   1      Jansport   Canvas   Small          10.0                Yes   \n",
       "2   2  Under Armour  Leather   Small           2.0                Yes   \n",
       "3   3          Nike    Nylon   Small           8.0                Yes   \n",
       "4   4        Adidas   Canvas  Medium           1.0                Yes   \n",
       "\n",
       "  Waterproof      Style  Color  Weight Capacity (kg)      Price  \n",
       "0         No       Tote  Black             11.611723  112.15875  \n",
       "1        Yes  Messenger  Green             27.078537   68.88056  \n",
       "2         No  Messenger    Red             16.643760   39.17320  \n",
       "3         No  Messenger  Green             12.937220   80.60793  \n",
       "4        Yes  Messenger  Green             17.749338   86.02312  "
      ]
     },
     "execution_count": 66,
     "metadata": {},
     "output_type": "execute_result"
    }
   ],
   "source": [
    "train = pd.concat([train, train_extra], axis=0)\n",
    "train.reset_index(inplace=True, drop=True)\n",
    "train.head()"
   ]
  },
  {
   "cell_type": "markdown",
   "metadata": {},
   "source": [
    "### NaN Treatment"
   ]
  },
  {
   "cell_type": "code",
   "execution_count": 67,
   "metadata": {},
   "outputs": [
    {
     "data": {
      "text/plain": [
       "Index(['id', 'Brand', 'Material', 'Size', 'Compartments', 'Laptop Compartment',\n",
       "       'Waterproof', 'Style', 'Color', 'Weight Capacity (kg)', 'Price'],\n",
       "      dtype='object')"
      ]
     },
     "execution_count": 67,
     "metadata": {},
     "output_type": "execute_result"
    }
   ],
   "source": [
    "train.columns"
   ]
  },
  {
   "cell_type": "code",
   "execution_count": 68,
   "metadata": {
    "execution": {
     "iopub.execute_input": "2025-02-08T21:12:42.077877Z",
     "iopub.status.busy": "2025-02-08T21:12:42.077477Z",
     "iopub.status.idle": "2025-02-08T21:12:42.087775Z",
     "shell.execute_reply": "2025-02-08T21:12:42.086597Z",
     "shell.execute_reply.started": "2025-02-08T21:12:42.077839Z"
    },
    "trusted": true
   },
   "outputs": [
    {
     "name": "stdout",
     "output_type": "stream",
     "text": [
      "757967\n",
      "1808\n"
     ]
    }
   ],
   "source": [
    "print(train.isna().sum().sum())\n",
    "\n",
    "cat_cols = [col for col in train.columns if train[col].dtype not in ['float64', 'int64']]\n",
    "\n",
    "train[cat_cols] = train[cat_cols].fillna('Unknown')\n",
    "test[cat_cols] = test[cat_cols].fillna('Unknown')\n",
    "\n",
    "\n",
    "print(train.isna().sum().sum())"
   ]
  },
  {
   "cell_type": "code",
   "execution_count": 69,
   "metadata": {},
   "outputs": [],
   "source": [
    "# impute weight capacity\n",
    "train.fillna({'Weight Capacity (kg)': train['Weight Capacity (kg)'].mean()}, inplace=True)"
   ]
  },
  {
   "cell_type": "markdown",
   "metadata": {},
   "source": [
    "### Merge Extra set"
   ]
  },
  {
   "cell_type": "code",
   "execution_count": 70,
   "metadata": {},
   "outputs": [
    {
     "data": {
      "text/html": [
       "<div>\n",
       "<style scoped>\n",
       "    .dataframe tbody tr th:only-of-type {\n",
       "        vertical-align: middle;\n",
       "    }\n",
       "\n",
       "    .dataframe tbody tr th {\n",
       "        vertical-align: top;\n",
       "    }\n",
       "\n",
       "    .dataframe thead th {\n",
       "        text-align: right;\n",
       "    }\n",
       "</style>\n",
       "<table border=\"1\" class=\"dataframe\">\n",
       "  <thead>\n",
       "    <tr style=\"text-align: right;\">\n",
       "      <th></th>\n",
       "      <th>Brand</th>\n",
       "      <th>Material</th>\n",
       "      <th>Size</th>\n",
       "      <th>Compartments</th>\n",
       "      <th>Laptop Compartment</th>\n",
       "      <th>Waterproof</th>\n",
       "      <th>Style</th>\n",
       "      <th>Color</th>\n",
       "      <th>Weight Capacity (kg)</th>\n",
       "      <th>Price</th>\n",
       "      <th>orig_Brand</th>\n",
       "      <th>orig_Material</th>\n",
       "      <th>orig_Size</th>\n",
       "      <th>orig_Compartments</th>\n",
       "      <th>orig_Laptop Compartment</th>\n",
       "      <th>orig_Waterproof</th>\n",
       "      <th>orig_Style</th>\n",
       "      <th>orig_Color</th>\n",
       "      <th>orig_Weight Capacity (kg)</th>\n",
       "      <th>orig_Price</th>\n",
       "    </tr>\n",
       "  </thead>\n",
       "  <tbody>\n",
       "    <tr>\n",
       "      <th>0</th>\n",
       "      <td>Jansport</td>\n",
       "      <td>Leather</td>\n",
       "      <td>Medium</td>\n",
       "      <td>7.0</td>\n",
       "      <td>Yes</td>\n",
       "      <td>No</td>\n",
       "      <td>Tote</td>\n",
       "      <td>Black</td>\n",
       "      <td>11.611723</td>\n",
       "      <td>112.15875</td>\n",
       "      <td>Puma</td>\n",
       "      <td>Nylon</td>\n",
       "      <td>Small</td>\n",
       "      <td>7.0</td>\n",
       "      <td>No</td>\n",
       "      <td>Yes</td>\n",
       "      <td>Tote</td>\n",
       "      <td>Black</td>\n",
       "      <td>11.611723</td>\n",
       "      <td>39.770555</td>\n",
       "    </tr>\n",
       "    <tr>\n",
       "      <th>1</th>\n",
       "      <td>Jansport</td>\n",
       "      <td>Canvas</td>\n",
       "      <td>Small</td>\n",
       "      <td>10.0</td>\n",
       "      <td>Yes</td>\n",
       "      <td>Yes</td>\n",
       "      <td>Messenger</td>\n",
       "      <td>Green</td>\n",
       "      <td>27.078537</td>\n",
       "      <td>68.88056</td>\n",
       "      <td>NaN</td>\n",
       "      <td>NaN</td>\n",
       "      <td>NaN</td>\n",
       "      <td>NaN</td>\n",
       "      <td>NaN</td>\n",
       "      <td>NaN</td>\n",
       "      <td>NaN</td>\n",
       "      <td>NaN</td>\n",
       "      <td>NaN</td>\n",
       "      <td>NaN</td>\n",
       "    </tr>\n",
       "    <tr>\n",
       "      <th>2</th>\n",
       "      <td>Under Armour</td>\n",
       "      <td>Leather</td>\n",
       "      <td>Small</td>\n",
       "      <td>2.0</td>\n",
       "      <td>Yes</td>\n",
       "      <td>No</td>\n",
       "      <td>Messenger</td>\n",
       "      <td>Red</td>\n",
       "      <td>16.643760</td>\n",
       "      <td>39.17320</td>\n",
       "      <td>NaN</td>\n",
       "      <td>NaN</td>\n",
       "      <td>NaN</td>\n",
       "      <td>NaN</td>\n",
       "      <td>NaN</td>\n",
       "      <td>NaN</td>\n",
       "      <td>NaN</td>\n",
       "      <td>NaN</td>\n",
       "      <td>NaN</td>\n",
       "      <td>NaN</td>\n",
       "    </tr>\n",
       "    <tr>\n",
       "      <th>3</th>\n",
       "      <td>Nike</td>\n",
       "      <td>Nylon</td>\n",
       "      <td>Small</td>\n",
       "      <td>8.0</td>\n",
       "      <td>Yes</td>\n",
       "      <td>No</td>\n",
       "      <td>Messenger</td>\n",
       "      <td>Green</td>\n",
       "      <td>12.937220</td>\n",
       "      <td>80.60793</td>\n",
       "      <td>NaN</td>\n",
       "      <td>NaN</td>\n",
       "      <td>NaN</td>\n",
       "      <td>NaN</td>\n",
       "      <td>NaN</td>\n",
       "      <td>NaN</td>\n",
       "      <td>NaN</td>\n",
       "      <td>NaN</td>\n",
       "      <td>NaN</td>\n",
       "      <td>NaN</td>\n",
       "    </tr>\n",
       "    <tr>\n",
       "      <th>4</th>\n",
       "      <td>Adidas</td>\n",
       "      <td>Canvas</td>\n",
       "      <td>Medium</td>\n",
       "      <td>1.0</td>\n",
       "      <td>Yes</td>\n",
       "      <td>Yes</td>\n",
       "      <td>Messenger</td>\n",
       "      <td>Green</td>\n",
       "      <td>17.749338</td>\n",
       "      <td>86.02312</td>\n",
       "      <td>NaN</td>\n",
       "      <td>NaN</td>\n",
       "      <td>NaN</td>\n",
       "      <td>NaN</td>\n",
       "      <td>NaN</td>\n",
       "      <td>NaN</td>\n",
       "      <td>NaN</td>\n",
       "      <td>NaN</td>\n",
       "      <td>NaN</td>\n",
       "      <td>NaN</td>\n",
       "    </tr>\n",
       "  </tbody>\n",
       "</table>\n",
       "</div>"
      ],
      "text/plain": [
       "          Brand Material    Size  Compartments Laptop Compartment Waterproof  \\\n",
       "0      Jansport  Leather  Medium           7.0                Yes         No   \n",
       "1      Jansport   Canvas   Small          10.0                Yes        Yes   \n",
       "2  Under Armour  Leather   Small           2.0                Yes         No   \n",
       "3          Nike    Nylon   Small           8.0                Yes         No   \n",
       "4        Adidas   Canvas  Medium           1.0                Yes        Yes   \n",
       "\n",
       "       Style  Color  Weight Capacity (kg)      Price orig_Brand orig_Material  \\\n",
       "0       Tote  Black             11.611723  112.15875       Puma         Nylon   \n",
       "1  Messenger  Green             27.078537   68.88056        NaN           NaN   \n",
       "2  Messenger    Red             16.643760   39.17320        NaN           NaN   \n",
       "3  Messenger  Green             12.937220   80.60793        NaN           NaN   \n",
       "4  Messenger  Green             17.749338   86.02312        NaN           NaN   \n",
       "\n",
       "  orig_Size  orig_Compartments orig_Laptop Compartment orig_Waterproof  \\\n",
       "0     Small                7.0                      No             Yes   \n",
       "1       NaN                NaN                     NaN             NaN   \n",
       "2       NaN                NaN                     NaN             NaN   \n",
       "3       NaN                NaN                     NaN             NaN   \n",
       "4       NaN                NaN                     NaN             NaN   \n",
       "\n",
       "  orig_Style orig_Color  orig_Weight Capacity (kg)  orig_Price  \n",
       "0       Tote      Black                  11.611723   39.770555  \n",
       "1        NaN        NaN                        NaN         NaN  \n",
       "2        NaN        NaN                        NaN         NaN  \n",
       "3        NaN        NaN                        NaN         NaN  \n",
       "4        NaN        NaN                        NaN         NaN  "
      ]
     },
     "execution_count": 70,
     "metadata": {},
     "output_type": "execute_result"
    }
   ],
   "source": [
    "train_noisy = train_noisy.loc[(train_noisy[\"Weight Capacity (kg)\"]>5)&(train_noisy[\"Weight Capacity (kg)\"]<30)]\n",
    "train_noisy.columns = [f\"orig_{c}\" for c in train_noisy.columns]\n",
    "train = train.merge(train_noisy, left_on=\"Weight Capacity (kg)\", right_on=\"orig_Weight Capacity (kg)\", how=\"left\")\n",
    "train = train.drop(\"id\",axis=1)\n",
    "test = test.merge(train_noisy, left_on=\"Weight Capacity (kg)\", right_on=\"orig_Weight Capacity (kg)\", how=\"left\")\n",
    "train.head()\n"
   ]
  },
  {
   "cell_type": "markdown",
   "metadata": {},
   "source": [
    "### Add target encoded feature with k folds"
   ]
  },
  {
   "cell_type": "code",
   "execution_count": 71,
   "metadata": {},
   "outputs": [],
   "source": [
    "te_cols = [\"Weight Capacity (kg)\"]\n",
    "\n",
    "new_feature_cols = [feature + '_te' for feature in te_cols]"
   ]
  },
  {
   "cell_type": "code",
   "execution_count": 72,
   "metadata": {},
   "outputs": [
    {
     "name": "stdout",
     "output_type": "stream",
     "text": [
      "Weight Capacity (kg)\n"
     ]
    }
   ],
   "source": [
    "\n",
    "# Initialize KFold\n",
    "n_splits = 5\n",
    "kf = KFold(n_splits=n_splits, shuffle=True, random_state=42)\n",
    "\n",
    "for col in te_cols:\n",
    "    print(col)\n",
    "    # Create a new column to store the encoded values\n",
    "    train[col + '_te'] = np.nan\n",
    "\n",
    "    # Out-of-fold target encoding\n",
    "    for train_idx, val_idx in kf.split(train):\n",
    "        # Split data\n",
    "        train_set, val_set = train.iloc[train_idx], train.iloc[val_idx]\n",
    "        \n",
    "        # Calculate category means on training data\n",
    "        category_means = train_set.groupby(col)['Price'].mean()\n",
    "        \n",
    "        # Encode validation fold using category means from the training fold\n",
    "        train.loc[val_idx, col + '_te'] = train.loc[val_idx, col].map(category_means)\n",
    "\n",
    "    # Fill any NaN values with the overall mean target\n",
    "    overall_mean = train[col].mean()\n",
    "    \n",
    "    train.fillna({col + '_te':overall_mean}, inplace=True)  # Fill any NaN values with the overall mean target \n",
    "\n",
    "    final_category_means = train.groupby(col)['Price'].mean()\n",
    "\n",
    "    # Map the test set categories using the train set means\n",
    "    test[col + '_te'] = test[col].map(final_category_means)\n",
    "\n",
    "    # Fill NaN values in the test set with the overall mean\n",
    "    test.fillna({col + '_te':overall_mean}, inplace=True)"
   ]
  },
  {
   "cell_type": "markdown",
   "metadata": {},
   "source": [
    "### Training"
   ]
  },
  {
   "cell_type": "code",
   "execution_count": 73,
   "metadata": {},
   "outputs": [
    {
     "name": "stdout",
     "output_type": "stream",
     "text": [
      "There are 14 categorical columns:\n",
      "['Brand', 'Material', 'Size', 'Laptop Compartment', 'Waterproof', 'Style', 'Color', 'orig_Brand', 'orig_Material', 'orig_Size', 'orig_Laptop Compartment', 'orig_Waterproof', 'orig_Style', 'orig_Color']\n",
      "There are 3 numerical columns:\n",
      "['Weight Capacity (kg)', 'Weight Capacity (kg)_te', 'orig_Price']\n"
     ]
    }
   ],
   "source": [
    "CATS = []\n",
    "for c in train.columns:\n",
    "    if train[c].dtype=='object':\n",
    "        CATS.append(c)\n",
    "print(f\"There are {len(CATS)} categorical columns:\")\n",
    "print( CATS )\n",
    "NUMS = ['Weight Capacity (kg)','Weight Capacity (kg)_te','orig_Price']\n",
    "print(f\"There are {len(NUMS)} numerical columns:\")\n",
    "print( NUMS )\n",
    "FEATURES = CATS + NUMS"
   ]
  },
  {
   "cell_type": "code",
   "execution_count": 75,
   "metadata": {},
   "outputs": [
    {
     "name": "stdout",
     "output_type": "stream",
     "text": [
      "### Fold 1 ###\n",
      "[0]\tvalidation_0-rmse:38.90370\n",
      "[100]\tvalidation_0-rmse:38.65669\n",
      "[186]\tvalidation_0-rmse:38.65760\n",
      "### Fold 2 ###\n",
      "[0]\tvalidation_0-rmse:38.89989\n",
      "[100]\tvalidation_0-rmse:38.65822\n",
      "[200]\tvalidation_0-rmse:38.65883\n",
      "[266]\tvalidation_0-rmse:38.66099\n",
      "### Fold 3 ###\n",
      "[0]\tvalidation_0-rmse:38.91978\n",
      "[100]\tvalidation_0-rmse:38.66637\n",
      "[200]\tvalidation_0-rmse:38.66767\n",
      "[214]\tvalidation_0-rmse:38.66893\n",
      "### Fold 4 ###\n",
      "[0]\tvalidation_0-rmse:38.96026\n",
      "[100]\tvalidation_0-rmse:38.71441\n",
      "[188]\tvalidation_0-rmse:38.71692\n",
      "### Fold 5 ###\n",
      "[0]\tvalidation_0-rmse:38.95661\n",
      "[100]\tvalidation_0-rmse:38.70971\n",
      "[200]\tvalidation_0-rmse:38.71034\n",
      "[246]\tvalidation_0-rmse:38.71102\n",
      "### Fold 6 ###\n",
      "[0]\tvalidation_0-rmse:38.89861\n",
      "[100]\tvalidation_0-rmse:38.64984\n",
      "[185]\tvalidation_0-rmse:38.65054\n",
      "### Fold 7 ###\n",
      "[0]\tvalidation_0-rmse:38.99412\n",
      "[100]\tvalidation_0-rmse:38.74282\n",
      "[189]\tvalidation_0-rmse:38.74496\n",
      "CPU times: user 19min 58s, sys: 25.8 s, total: 20min 24s\n",
      "Wall time: 4min 41s\n"
     ]
    }
   ],
   "source": [
    "%%time\n",
    "\n",
    "FOLDS = 7\n",
    "kf = KFold(n_splits=FOLDS, shuffle=True, random_state=42)\n",
    "\n",
    "oof = np.zeros((len(train)))\n",
    "pred = np.zeros((len(test)))\n",
    "\n",
    "# OUTER K FOLD\n",
    "for i, (train_index, test_index) in enumerate(kf.split(train)):\n",
    "    print(f\"### Fold {i+1} ###\")\n",
    "\n",
    "    X_train = train.loc[train_index,FEATURES].copy()\n",
    "    y_train = train.loc[train_index,'Price']\n",
    "\n",
    "    X_valid = train.loc[test_index,FEATURES].copy()\n",
    "    y_valid = train.loc[test_index,'Price']\n",
    "\n",
    "    X_test = test[FEATURES].copy()\n",
    "\n",
    "    # CONVERT TO CATS SO XGBOOST RECOGNIZES THEM\n",
    "    X_train[CATS] = X_train[CATS].astype(\"category\")\n",
    "    X_valid[CATS] = X_valid[CATS].astype(\"category\")\n",
    "    X_test[CATS] = X_test[CATS].astype(\"category\")\n",
    "\n",
    "    # BUILD MODEL\n",
    "    model = xgb.XGBRegressor(\n",
    "        max_depth=6,  \n",
    "        colsample_bytree=0.5, \n",
    "        subsample=0.8,  \n",
    "        n_estimators=10_000,  \n",
    "        learning_rate=0.2,  \n",
    "        enable_categorical=True,\n",
    "        min_child_weight=10,\n",
    "        early_stopping_rounds=100,\n",
    "    )\n",
    "    \n",
    "    # TRAIN MODEL\n",
    "    COLS = X_train.columns\n",
    "    model.fit(\n",
    "        X_train[COLS], y_train,\n",
    "        eval_set=[(X_valid[COLS], y_valid)],  \n",
    "        verbose=100,\n",
    "    )\n",
    "\n",
    "    # PREDICT OOF AND TEST\n",
    "    oof[test_index] = model.predict(X_valid[COLS])\n",
    "    pred += model.predict(X_test[COLS])\n",
    "\n",
    "pred /= FOLDS"
   ]
  },
  {
   "cell_type": "markdown",
   "metadata": {},
   "source": [
    "### Overall CV"
   ]
  },
  {
   "cell_type": "code",
   "execution_count": 76,
   "metadata": {},
   "outputs": [
    {
     "name": "stdout",
     "output_type": "stream",
     "text": [
      "=> Overall CV Score = 38.68480767692945\n"
     ]
    }
   ],
   "source": [
    "# COMPUTE OVERALL CV SCORE\n",
    "true = train.Price.values\n",
    "s = np.sqrt(np.mean( (oof-true)**2.0 ) )\n",
    "print(f\"=> Overall CV Score = {s}\")\n"
   ]
  },
  {
   "cell_type": "markdown",
   "metadata": {},
   "source": [
    "### Feature Importance"
   ]
  },
  {
   "cell_type": "code",
   "execution_count": 77,
   "metadata": {},
   "outputs": [
    {
     "data": {
      "image/png": "[encoded data removed]",
      "text/plain": [
       "<Figure size 1000x600 with 1 Axes>"
      ]
     },
     "metadata": {},
     "output_type": "display_data"
    }
   ],
   "source": [
    "fig, ax = plt.subplots(figsize=(10, 6))\n",
    "xgb.plot_importance(model, max_num_features=100, importance_type='gain',ax=ax)\n",
    "plt.title(\"Top 100 Feature Importances (XGBoost)\")\n",
    "plt.show()"
   ]
  },
  {
   "cell_type": "code",
   "execution_count": 79,
   "metadata": {},
   "outputs": [
    {
     "data": {
      "text/html": [
       "<div>\n",
       "<style scoped>\n",
       "    .dataframe tbody tr th:only-of-type {\n",
       "        vertical-align: middle;\n",
       "    }\n",
       "\n",
       "    .dataframe tbody tr th {\n",
       "        vertical-align: top;\n",
       "    }\n",
       "\n",
       "    .dataframe thead th {\n",
       "        text-align: right;\n",
       "    }\n",
       "</style>\n",
       "<table border=\"1\" class=\"dataframe\">\n",
       "  <thead>\n",
       "    <tr style=\"text-align: right;\">\n",
       "      <th></th>\n",
       "      <th>id</th>\n",
       "      <th>Price</th>\n",
       "    </tr>\n",
       "  </thead>\n",
       "  <tbody>\n",
       "    <tr>\n",
       "      <th>0</th>\n",
       "      <td>300000</td>\n",
       "      <td>80.854758</td>\n",
       "    </tr>\n",
       "    <tr>\n",
       "      <th>1</th>\n",
       "      <td>300001</td>\n",
       "      <td>81.918771</td>\n",
       "    </tr>\n",
       "    <tr>\n",
       "      <th>2</th>\n",
       "      <td>300002</td>\n",
       "      <td>88.632773</td>\n",
       "    </tr>\n",
       "    <tr>\n",
       "      <th>3</th>\n",
       "      <td>300003</td>\n",
       "      <td>79.567390</td>\n",
       "    </tr>\n",
       "    <tr>\n",
       "      <th>4</th>\n",
       "      <td>300004</td>\n",
       "      <td>79.130877</td>\n",
       "    </tr>\n",
       "  </tbody>\n",
       "</table>\n",
       "</div>"
      ],
      "text/plain": [
       "       id      Price\n",
       "0  300000  80.854758\n",
       "1  300001  81.918771\n",
       "2  300002  88.632773\n",
       "3  300003  79.567390\n",
       "4  300004  79.130877"
      ]
     },
     "execution_count": 79,
     "metadata": {},
     "output_type": "execute_result"
    }
   ],
   "source": [
    "sub = pd.read_csv(\"./data/sample_submission.csv\")\n",
    "sub.Price = pred\n",
    "sub.to_csv(f\"submission.csv\",index=False)\n",
    "sub.head()"
   ]
  },
  {
   "cell_type": "code",
   "execution_count": null,
   "metadata": {},
   "outputs": [],
   "source": []
  }
 ],
 "metadata": {
  "kaggle": {
   "accelerator": "none",
   "dataSources": [
    {
     "databundleVersionId": 10995111,
     "sourceId": 90274,
     "sourceType": "competition"
    }
   ],
   "dockerImageVersionId": 30886,
   "isGpuEnabled": false,
   "isInternetEnabled": false,
   "language": "python",
   "sourceType": "notebook"
  },
  "kernelspec": {
   "display_name": ".venv",
   "language": "python",
   "name": "python3"
  },
  "language_info": {
   "codemirror_mode": {
    "name": "ipython",
    "version": 3
   },
   "file_extension": ".py",
   "mimetype": "text/x-python",
   "name": "python",
   "nbconvert_exporter": "python",
   "pygments_lexer": "ipython3",
   "version": "3.12.2"
  }
 },
 "nbformat": 4,
 "nbformat_minor": 4
}
