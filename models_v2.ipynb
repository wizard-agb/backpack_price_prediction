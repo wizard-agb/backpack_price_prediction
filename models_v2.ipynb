{
 "cells": [
  {
   "cell_type": "code",
   "execution_count": 2,
   "metadata": {},
   "outputs": [],
   "source": [
    "import pandas as pd\n",
    "import seaborn as sns\n",
    "import numpy as np\n",
    "import matplotlib.pyplot as plt\n",
    "from datetime import datetime\n",
    "\n",
    "from sklearn.experimental import enable_iterative_imputer\n",
    "from sklearn.impute import IterativeImputer\n",
    "from sklearn.impute import KNNImputer, SimpleImputer\n",
    "from sklearn.preprocessing import OneHotEncoder, StandardScaler, KBinsDiscretizer, TargetEncoder\n",
    "from sklearn.model_selection import train_test_split, GridSearchCV, KFold, ParameterGrid\n",
    "\n",
    "#import knn classifier\n",
    "from sklearn.neighbors import KNeighborsClassifier\n",
    "from sklearn.ensemble import RandomForestRegressor, GradientBoostingRegressor, StackingRegressor, RandomForestClassifier\n",
    "import catboost as cb\n",
    "import xgboost as xgb\n",
    "import lightgbm as lgb\n",
    "\n",
    "from sklearn.metrics import mean_absolute_error,  mean_squared_error, r2_score, root_mean_squared_error, accuracy_score\n"
   ]
  },
  {
   "cell_type": "markdown",
   "metadata": {},
   "source": [
    "### Read in data"
   ]
  },
  {
   "cell_type": "code",
   "execution_count": 191,
   "metadata": {},
   "outputs": [],
   "source": [
    "train = pd.read_csv('data/train.csv')\n",
    "train2 = pd.read_csv('data/training_extra.csv')\n",
    "test = pd.read_csv('data/test.csv')\n"
   ]
  },
  {
   "cell_type": "code",
   "execution_count": 192,
   "metadata": {},
   "outputs": [
    {
     "data": {
      "text/html": [
       "<div>\n",
       "<style scoped>\n",
       "    .dataframe tbody tr th:only-of-type {\n",
       "        vertical-align: middle;\n",
       "    }\n",
       "\n",
       "    .dataframe tbody tr th {\n",
       "        vertical-align: top;\n",
       "    }\n",
       "\n",
       "    .dataframe thead th {\n",
       "        text-align: right;\n",
       "    }\n",
       "</style>\n",
       "<table border=\"1\" class=\"dataframe\">\n",
       "  <thead>\n",
       "    <tr style=\"text-align: right;\">\n",
       "      <th></th>\n",
       "      <th>id</th>\n",
       "      <th>Brand</th>\n",
       "      <th>Material</th>\n",
       "      <th>Size</th>\n",
       "      <th>Compartments</th>\n",
       "      <th>Laptop Compartment</th>\n",
       "      <th>Waterproof</th>\n",
       "      <th>Style</th>\n",
       "      <th>Color</th>\n",
       "      <th>Weight Capacity (kg)</th>\n",
       "      <th>Price</th>\n",
       "    </tr>\n",
       "  </thead>\n",
       "  <tbody>\n",
       "    <tr>\n",
       "      <th>0</th>\n",
       "      <td>0</td>\n",
       "      <td>Jansport</td>\n",
       "      <td>Leather</td>\n",
       "      <td>Medium</td>\n",
       "      <td>7.0</td>\n",
       "      <td>Yes</td>\n",
       "      <td>No</td>\n",
       "      <td>Tote</td>\n",
       "      <td>Black</td>\n",
       "      <td>11.611723</td>\n",
       "      <td>112.15875</td>\n",
       "    </tr>\n",
       "    <tr>\n",
       "      <th>1</th>\n",
       "      <td>1</td>\n",
       "      <td>Jansport</td>\n",
       "      <td>Canvas</td>\n",
       "      <td>Small</td>\n",
       "      <td>10.0</td>\n",
       "      <td>Yes</td>\n",
       "      <td>Yes</td>\n",
       "      <td>Messenger</td>\n",
       "      <td>Green</td>\n",
       "      <td>27.078537</td>\n",
       "      <td>68.88056</td>\n",
       "    </tr>\n",
       "    <tr>\n",
       "      <th>2</th>\n",
       "      <td>2</td>\n",
       "      <td>Under Armour</td>\n",
       "      <td>Leather</td>\n",
       "      <td>Small</td>\n",
       "      <td>2.0</td>\n",
       "      <td>Yes</td>\n",
       "      <td>No</td>\n",
       "      <td>Messenger</td>\n",
       "      <td>Red</td>\n",
       "      <td>16.643760</td>\n",
       "      <td>39.17320</td>\n",
       "    </tr>\n",
       "    <tr>\n",
       "      <th>3</th>\n",
       "      <td>3</td>\n",
       "      <td>Nike</td>\n",
       "      <td>Nylon</td>\n",
       "      <td>Small</td>\n",
       "      <td>8.0</td>\n",
       "      <td>Yes</td>\n",
       "      <td>No</td>\n",
       "      <td>Messenger</td>\n",
       "      <td>Green</td>\n",
       "      <td>12.937220</td>\n",
       "      <td>80.60793</td>\n",
       "    </tr>\n",
       "    <tr>\n",
       "      <th>4</th>\n",
       "      <td>4</td>\n",
       "      <td>Adidas</td>\n",
       "      <td>Canvas</td>\n",
       "      <td>Medium</td>\n",
       "      <td>1.0</td>\n",
       "      <td>Yes</td>\n",
       "      <td>Yes</td>\n",
       "      <td>Messenger</td>\n",
       "      <td>Green</td>\n",
       "      <td>17.749338</td>\n",
       "      <td>86.02312</td>\n",
       "    </tr>\n",
       "  </tbody>\n",
       "</table>\n",
       "</div>"
      ],
      "text/plain": [
       "   id         Brand Material    Size  Compartments Laptop Compartment  \\\n",
       "0   0      Jansport  Leather  Medium           7.0                Yes   \n",
       "1   1      Jansport   Canvas   Small          10.0                Yes   \n",
       "2   2  Under Armour  Leather   Small           2.0                Yes   \n",
       "3   3          Nike    Nylon   Small           8.0                Yes   \n",
       "4   4        Adidas   Canvas  Medium           1.0                Yes   \n",
       "\n",
       "  Waterproof      Style  Color  Weight Capacity (kg)      Price  \n",
       "0         No       Tote  Black             11.611723  112.15875  \n",
       "1        Yes  Messenger  Green             27.078537   68.88056  \n",
       "2         No  Messenger    Red             16.643760   39.17320  \n",
       "3         No  Messenger  Green             12.937220   80.60793  \n",
       "4        Yes  Messenger  Green             17.749338   86.02312  "
      ]
     },
     "execution_count": 192,
     "metadata": {},
     "output_type": "execute_result"
    }
   ],
   "source": [
    "train = pd.concat([train, train2], axis=0)\n",
    "train.reset_index(inplace=True, drop=True)\n",
    "train.head()"
   ]
  },
  {
   "cell_type": "code",
   "execution_count": 17,
   "metadata": {},
   "outputs": [],
   "source": [
    "def create_submission_file(sub_df):\n",
    "    submission = pd.read_csv(\"data/sample_submission.csv\")\n",
    "    submission[\"Price\"] = sub_df[\"price\"]\n",
    "    display(submission.head(2))\n",
    "    file_name = datetime.now().strftime('submissions/submission_%Y%m%d_%H%M.csv')\n",
    "    submission.to_csv(file_name, index = False)"
   ]
  },
  {
   "cell_type": "markdown",
   "metadata": {},
   "source": [
    "### Exploratory"
   ]
  },
  {
   "cell_type": "code",
   "execution_count": 194,
   "metadata": {},
   "outputs": [
    {
     "data": {
      "text/html": [
       "<div>\n",
       "<style scoped>\n",
       "    .dataframe tbody tr th:only-of-type {\n",
       "        vertical-align: middle;\n",
       "    }\n",
       "\n",
       "    .dataframe tbody tr th {\n",
       "        vertical-align: top;\n",
       "    }\n",
       "\n",
       "    .dataframe thead th {\n",
       "        text-align: right;\n",
       "    }\n",
       "</style>\n",
       "<table border=\"1\" class=\"dataframe\">\n",
       "  <thead>\n",
       "    <tr style=\"text-align: right;\">\n",
       "      <th></th>\n",
       "      <th>id</th>\n",
       "      <th>Brand</th>\n",
       "      <th>Material</th>\n",
       "      <th>Size</th>\n",
       "      <th>Compartments</th>\n",
       "      <th>Laptop Compartment</th>\n",
       "      <th>Waterproof</th>\n",
       "      <th>Style</th>\n",
       "      <th>Color</th>\n",
       "      <th>Weight Capacity (kg)</th>\n",
       "      <th>Price</th>\n",
       "    </tr>\n",
       "  </thead>\n",
       "  <tbody>\n",
       "    <tr>\n",
       "      <th>0</th>\n",
       "      <td>0</td>\n",
       "      <td>Jansport</td>\n",
       "      <td>Leather</td>\n",
       "      <td>Medium</td>\n",
       "      <td>7.0</td>\n",
       "      <td>Yes</td>\n",
       "      <td>No</td>\n",
       "      <td>Tote</td>\n",
       "      <td>Black</td>\n",
       "      <td>11.611723</td>\n",
       "      <td>112.15875</td>\n",
       "    </tr>\n",
       "    <tr>\n",
       "      <th>1</th>\n",
       "      <td>1</td>\n",
       "      <td>Jansport</td>\n",
       "      <td>Canvas</td>\n",
       "      <td>Small</td>\n",
       "      <td>10.0</td>\n",
       "      <td>Yes</td>\n",
       "      <td>Yes</td>\n",
       "      <td>Messenger</td>\n",
       "      <td>Green</td>\n",
       "      <td>27.078537</td>\n",
       "      <td>68.88056</td>\n",
       "    </tr>\n",
       "    <tr>\n",
       "      <th>2</th>\n",
       "      <td>2</td>\n",
       "      <td>Under Armour</td>\n",
       "      <td>Leather</td>\n",
       "      <td>Small</td>\n",
       "      <td>2.0</td>\n",
       "      <td>Yes</td>\n",
       "      <td>No</td>\n",
       "      <td>Messenger</td>\n",
       "      <td>Red</td>\n",
       "      <td>16.643760</td>\n",
       "      <td>39.17320</td>\n",
       "    </tr>\n",
       "    <tr>\n",
       "      <th>3</th>\n",
       "      <td>3</td>\n",
       "      <td>Nike</td>\n",
       "      <td>Nylon</td>\n",
       "      <td>Small</td>\n",
       "      <td>8.0</td>\n",
       "      <td>Yes</td>\n",
       "      <td>No</td>\n",
       "      <td>Messenger</td>\n",
       "      <td>Green</td>\n",
       "      <td>12.937220</td>\n",
       "      <td>80.60793</td>\n",
       "    </tr>\n",
       "    <tr>\n",
       "      <th>4</th>\n",
       "      <td>4</td>\n",
       "      <td>Adidas</td>\n",
       "      <td>Canvas</td>\n",
       "      <td>Medium</td>\n",
       "      <td>1.0</td>\n",
       "      <td>Yes</td>\n",
       "      <td>Yes</td>\n",
       "      <td>Messenger</td>\n",
       "      <td>Green</td>\n",
       "      <td>17.749338</td>\n",
       "      <td>86.02312</td>\n",
       "    </tr>\n",
       "  </tbody>\n",
       "</table>\n",
       "</div>"
      ],
      "text/plain": [
       "   id         Brand Material    Size  Compartments Laptop Compartment  \\\n",
       "0   0      Jansport  Leather  Medium           7.0                Yes   \n",
       "1   1      Jansport   Canvas   Small          10.0                Yes   \n",
       "2   2  Under Armour  Leather   Small           2.0                Yes   \n",
       "3   3          Nike    Nylon   Small           8.0                Yes   \n",
       "4   4        Adidas   Canvas  Medium           1.0                Yes   \n",
       "\n",
       "  Waterproof      Style  Color  Weight Capacity (kg)      Price  \n",
       "0         No       Tote  Black             11.611723  112.15875  \n",
       "1        Yes  Messenger  Green             27.078537   68.88056  \n",
       "2         No  Messenger    Red             16.643760   39.17320  \n",
       "3         No  Messenger  Green             12.937220   80.60793  \n",
       "4        Yes  Messenger  Green             17.749338   86.02312  "
      ]
     },
     "execution_count": 194,
     "metadata": {},
     "output_type": "execute_result"
    }
   ],
   "source": [
    "train.head()"
   ]
  },
  {
   "cell_type": "code",
   "execution_count": 195,
   "metadata": {},
   "outputs": [
    {
     "data": {
      "text/html": [
       "<div>\n",
       "<style scoped>\n",
       "    .dataframe tbody tr th:only-of-type {\n",
       "        vertical-align: middle;\n",
       "    }\n",
       "\n",
       "    .dataframe tbody tr th {\n",
       "        vertical-align: top;\n",
       "    }\n",
       "\n",
       "    .dataframe thead th {\n",
       "        text-align: right;\n",
       "    }\n",
       "</style>\n",
       "<table border=\"1\" class=\"dataframe\">\n",
       "  <thead>\n",
       "    <tr style=\"text-align: right;\">\n",
       "      <th></th>\n",
       "      <th>id</th>\n",
       "      <th>Brand</th>\n",
       "      <th>Material</th>\n",
       "      <th>Size</th>\n",
       "      <th>Compartments</th>\n",
       "      <th>Laptop Compartment</th>\n",
       "      <th>Waterproof</th>\n",
       "      <th>Style</th>\n",
       "      <th>Color</th>\n",
       "      <th>Weight Capacity (kg)</th>\n",
       "    </tr>\n",
       "  </thead>\n",
       "  <tbody>\n",
       "    <tr>\n",
       "      <th>0</th>\n",
       "      <td>300000</td>\n",
       "      <td>Puma</td>\n",
       "      <td>Leather</td>\n",
       "      <td>Small</td>\n",
       "      <td>2.0</td>\n",
       "      <td>No</td>\n",
       "      <td>No</td>\n",
       "      <td>Tote</td>\n",
       "      <td>Green</td>\n",
       "      <td>20.671147</td>\n",
       "    </tr>\n",
       "    <tr>\n",
       "      <th>1</th>\n",
       "      <td>300001</td>\n",
       "      <td>Nike</td>\n",
       "      <td>Canvas</td>\n",
       "      <td>Medium</td>\n",
       "      <td>7.0</td>\n",
       "      <td>No</td>\n",
       "      <td>Yes</td>\n",
       "      <td>Backpack</td>\n",
       "      <td>Green</td>\n",
       "      <td>13.564105</td>\n",
       "    </tr>\n",
       "    <tr>\n",
       "      <th>2</th>\n",
       "      <td>300002</td>\n",
       "      <td>Adidas</td>\n",
       "      <td>Canvas</td>\n",
       "      <td>Large</td>\n",
       "      <td>9.0</td>\n",
       "      <td>No</td>\n",
       "      <td>Yes</td>\n",
       "      <td>Messenger</td>\n",
       "      <td>Blue</td>\n",
       "      <td>11.809799</td>\n",
       "    </tr>\n",
       "    <tr>\n",
       "      <th>3</th>\n",
       "      <td>300003</td>\n",
       "      <td>Adidas</td>\n",
       "      <td>Nylon</td>\n",
       "      <td>Large</td>\n",
       "      <td>1.0</td>\n",
       "      <td>Yes</td>\n",
       "      <td>No</td>\n",
       "      <td>Messenger</td>\n",
       "      <td>Green</td>\n",
       "      <td>18.477036</td>\n",
       "    </tr>\n",
       "    <tr>\n",
       "      <th>4</th>\n",
       "      <td>300004</td>\n",
       "      <td>NaN</td>\n",
       "      <td>Nylon</td>\n",
       "      <td>Large</td>\n",
       "      <td>2.0</td>\n",
       "      <td>Yes</td>\n",
       "      <td>Yes</td>\n",
       "      <td>Tote</td>\n",
       "      <td>Black</td>\n",
       "      <td>9.907953</td>\n",
       "    </tr>\n",
       "  </tbody>\n",
       "</table>\n",
       "</div>"
      ],
      "text/plain": [
       "       id   Brand Material    Size  Compartments Laptop Compartment  \\\n",
       "0  300000    Puma  Leather   Small           2.0                 No   \n",
       "1  300001    Nike   Canvas  Medium           7.0                 No   \n",
       "2  300002  Adidas   Canvas   Large           9.0                 No   \n",
       "3  300003  Adidas    Nylon   Large           1.0                Yes   \n",
       "4  300004     NaN    Nylon   Large           2.0                Yes   \n",
       "\n",
       "  Waterproof      Style  Color  Weight Capacity (kg)  \n",
       "0         No       Tote  Green             20.671147  \n",
       "1        Yes   Backpack  Green             13.564105  \n",
       "2        Yes  Messenger   Blue             11.809799  \n",
       "3         No  Messenger  Green             18.477036  \n",
       "4        Yes       Tote  Black              9.907953  "
      ]
     },
     "execution_count": 195,
     "metadata": {},
     "output_type": "execute_result"
    }
   ],
   "source": [
    "test.head()"
   ]
  },
  {
   "cell_type": "markdown",
   "metadata": {},
   "source": [
    "From initial observation it looks like we will need to encode categorical variables, and binary encode yes no variables. There are also missing values that we should deal with, but there may be some patterns that can help us with that. "
   ]
  },
  {
   "cell_type": "markdown",
   "metadata": {},
   "source": [
    "### Duplicate Values"
   ]
  },
  {
   "cell_type": "code",
   "execution_count": 196,
   "metadata": {},
   "outputs": [
    {
     "data": {
      "text/plain": [
       "0"
      ]
     },
     "execution_count": 196,
     "metadata": {},
     "output_type": "execute_result"
    }
   ],
   "source": [
    "# find duplicates \n",
    "train.duplicated().sum()"
   ]
  },
  {
   "cell_type": "code",
   "execution_count": 197,
   "metadata": {},
   "outputs": [
    {
     "data": {
      "text/plain": [
       "0"
      ]
     },
     "execution_count": 197,
     "metadata": {},
     "output_type": "execute_result"
    }
   ],
   "source": [
    "test.duplicated().sum()"
   ]
  },
  {
   "cell_type": "code",
   "execution_count": 198,
   "metadata": {},
   "outputs": [
    {
     "name": "stdout",
     "output_type": "stream",
     "text": [
      "(3994318, 11) (200000, 10)\n",
      "(3994318, 11) (200000, 10)\n"
     ]
    }
   ],
   "source": [
    "# just in case \n",
    "print(train.shape, test.shape)\n",
    "train = train.drop_duplicates()\n",
    "test = test.drop_duplicates()\n",
    "print(train.shape, test.shape)"
   ]
  },
  {
   "cell_type": "markdown",
   "metadata": {},
   "source": [
    "### Missing Values"
   ]
  },
  {
   "cell_type": "code",
   "execution_count": 199,
   "metadata": {},
   "outputs": [
    {
     "data": {
      "text/plain": [
       "id                      0.000000\n",
       "Brand                   0.031735\n",
       "Material                0.027780\n",
       "Size                    0.021977\n",
       "Compartments            0.000000\n",
       "Laptop Compartment      0.024668\n",
       "Waterproof              0.023615\n",
       "Style                   0.026082\n",
       "Color                   0.033452\n",
       "Weight Capacity (kg)    0.000453\n",
       "Price                   0.000000\n",
       "dtype: float64"
      ]
     },
     "execution_count": 199,
     "metadata": {},
     "output_type": "execute_result"
    }
   ],
   "source": [
    "train.isna().sum(axis=0) / train.shape[0]"
   ]
  },
  {
   "cell_type": "code",
   "execution_count": 200,
   "metadata": {},
   "outputs": [
    {
     "data": {
      "text/plain": [
       "id                      0.000000\n",
       "Brand                   0.031685\n",
       "Material                0.027776\n",
       "Size                    0.021977\n",
       "Compartments            0.000000\n",
       "Laptop Compartment      0.024657\n",
       "Waterproof              0.023624\n",
       "Style                   0.026043\n",
       "Color                   0.033475\n",
       "Weight Capacity (kg)    0.000452\n",
       "Price                   0.000000\n",
       "dtype: float64"
      ]
     },
     "execution_count": 200,
     "metadata": {},
     "output_type": "execute_result"
    }
   ],
   "source": [
    "train2.isna().sum(axis=0) / train2.shape[0]"
   ]
  },
  {
   "cell_type": "code",
   "execution_count": 201,
   "metadata": {},
   "outputs": [
    {
     "data": {
      "text/plain": [
       "id                      0.000000\n",
       "Brand                   0.031135\n",
       "Material                0.028065\n",
       "Size                    0.021905\n",
       "Compartments            0.000000\n",
       "Laptop Compartment      0.024810\n",
       "Waterproof              0.024055\n",
       "Style                   0.025765\n",
       "Color                   0.033925\n",
       "Weight Capacity (kg)    0.000385\n",
       "dtype: float64"
      ]
     },
     "execution_count": 201,
     "metadata": {},
     "output_type": "execute_result"
    }
   ],
   "source": [
    "test.isna().sum(axis=0) / test.shape[0]"
   ]
  },
  {
   "cell_type": "markdown",
   "metadata": {},
   "source": [
    "Always less than ~3% missing values, so thats a good sign. "
   ]
  },
  {
   "cell_type": "markdown",
   "metadata": {},
   "source": [
    "### Encode variables\n",
    "\n",
    "we create new columns for encoded variables and retain the original columns"
   ]
  },
  {
   "cell_type": "code",
   "execution_count": 202,
   "metadata": {},
   "outputs": [],
   "source": [
    "# import categorical encoder\n",
    "\n",
    "cat_cols = ['Brand', 'Material', 'Size', 'Style', 'Color']\n",
    "\n",
    "for col in cat_cols:\n",
    "    train[col + '_enc'] = train[col].astype('category').cat.codes\n",
    "    test[col + '_enc'] = test[col].astype('category').cat.codes\n"
   ]
  },
  {
   "cell_type": "code",
   "execution_count": 203,
   "metadata": {},
   "outputs": [],
   "source": [
    "binary_cols = ['Laptop Compartment', 'Waterproof']\n",
    "\n",
    "mapping = {'Yes': 1, 'No': 0}\n",
    "\n",
    "train[binary_cols] = train[binary_cols].map(mapping.get)\n",
    "test[binary_cols] = test[binary_cols].map(mapping.get)"
   ]
  },
  {
   "cell_type": "markdown",
   "metadata": {},
   "source": [
    "### Feature Imputation"
   ]
  },
  {
   "cell_type": "code",
   "execution_count": 204,
   "metadata": {},
   "outputs": [],
   "source": [
    "knn_imputer = IterativeImputer(max_iter=5, random_state=42)\n",
    "\n",
    "impute_cols = ['Brand_enc', 'Material_enc', 'Size_enc', 'Style_enc', 'Color_enc', 'Weight Capacity (kg)', 'Laptop Compartment', 'Waterproof']\n",
    "\n",
    "train_imputed = train.copy()\n",
    "test_imputed = test.copy()\n",
    "\n",
    "train_imputed[impute_cols] = pd.DataFrame(knn_imputer.fit_transform(train_imputed[impute_cols]), columns=impute_cols)\n",
    "\n",
    "test_imputed[impute_cols] = pd.DataFrame(knn_imputer.transform(test_imputed[impute_cols]), columns=impute_cols)\n"
   ]
  },
  {
   "cell_type": "markdown",
   "metadata": {},
   "source": [
    "### EDA + Feature Engineering"
   ]
  },
  {
   "cell_type": "markdown",
   "metadata": {},
   "source": [
    "#### Price distributions"
   ]
  },
  {
   "cell_type": "markdown",
   "metadata": {},
   "source": [
    "Given that this is a product data set I am interested to know if there are trends in the price such as grouped sales. i.e. a product is sold many time but has different levels of tax or store markups. "
   ]
  },
  {
   "cell_type": "code",
   "execution_count": 205,
   "metadata": {},
   "outputs": [],
   "source": [
    "train_imputed.to_csv('data/train_imputed2.csv')\n",
    "test_imputed.to_csv('data/test_imputed2.csv')"
   ]
  },
  {
   "cell_type": "code",
   "execution_count": 206,
   "metadata": {},
   "outputs": [],
   "source": [
    "train_imputed = pd.read_csv('data/train_imputed2.csv', index_col=0)\n",
    "test_imputed = pd.read_csv('data/test_imputed2.csv', index_col=0)"
   ]
  },
  {
   "cell_type": "code",
   "execution_count": 207,
   "metadata": {},
   "outputs": [],
   "source": [
    "train_imputed['round_price'] = train_imputed.Price.astype(int)"
   ]
  },
  {
   "cell_type": "code",
   "execution_count": 208,
   "metadata": {},
   "outputs": [
    {
     "data": {
      "image/png": "[encoded data removed]",
      "text/plain": [
       "<Figure size 1000x600 with 1 Axes>"
      ]
     },
     "metadata": {},
     "output_type": "display_data"
    }
   ],
   "source": [
    "plt.figure(figsize=(10, 6))\n",
    "plt.hist(train_imputed['round_price'], bins=32, color='lightgreen', edgecolor='black')\n",
    "plt.title('Distribution of Price Column')\n",
    "plt.xlabel('Values')\n",
    "plt.ylabel('Count')\n",
    "plt.show()"
   ]
  },
  {
   "cell_type": "markdown",
   "metadata": {},
   "source": [
    "There is a weird pattern going on at most bin levels, where the initial bin has a higher than average count and the following 3-4 bars typically have a lower than average count. This may indicate that there are product tiers that structure the pricing, then add on features that increase the value over the base price. "
   ]
  },
  {
   "cell_type": "code",
   "execution_count": 209,
   "metadata": {},
   "outputs": [
    {
     "data": {
      "text/html": [
       "<div>\n",
       "<style scoped>\n",
       "    .dataframe tbody tr th:only-of-type {\n",
       "        vertical-align: middle;\n",
       "    }\n",
       "\n",
       "    .dataframe tbody tr th {\n",
       "        vertical-align: top;\n",
       "    }\n",
       "\n",
       "    .dataframe thead th {\n",
       "        text-align: right;\n",
       "    }\n",
       "</style>\n",
       "<table border=\"1\" class=\"dataframe\">\n",
       "  <thead>\n",
       "    <tr style=\"text-align: right;\">\n",
       "      <th></th>\n",
       "      <th>Brand</th>\n",
       "      <th>round_price</th>\n",
       "      <th>count</th>\n",
       "    </tr>\n",
       "  </thead>\n",
       "  <tbody>\n",
       "    <tr>\n",
       "      <th>0</th>\n",
       "      <td>Adidas</td>\n",
       "      <td>150</td>\n",
       "      <td>13428</td>\n",
       "    </tr>\n",
       "    <tr>\n",
       "      <th>1</th>\n",
       "      <td>Adidas</td>\n",
       "      <td>24</td>\n",
       "      <td>7376</td>\n",
       "    </tr>\n",
       "    <tr>\n",
       "      <th>2</th>\n",
       "      <td>Adidas</td>\n",
       "      <td>34</td>\n",
       "      <td>7232</td>\n",
       "    </tr>\n",
       "    <tr>\n",
       "      <th>3</th>\n",
       "      <td>Adidas</td>\n",
       "      <td>54</td>\n",
       "      <td>7088</td>\n",
       "    </tr>\n",
       "    <tr>\n",
       "      <th>4</th>\n",
       "      <td>Adidas</td>\n",
       "      <td>30</td>\n",
       "      <td>6836</td>\n",
       "    </tr>\n",
       "    <tr>\n",
       "      <th>...</th>\n",
       "      <td>...</td>\n",
       "      <td>...</td>\n",
       "      <td>...</td>\n",
       "    </tr>\n",
       "    <tr>\n",
       "      <th>675</th>\n",
       "      <td>Under Armour</td>\n",
       "      <td>146</td>\n",
       "      <td>3653</td>\n",
       "    </tr>\n",
       "    <tr>\n",
       "      <th>676</th>\n",
       "      <td>Under Armour</td>\n",
       "      <td>145</td>\n",
       "      <td>3567</td>\n",
       "    </tr>\n",
       "    <tr>\n",
       "      <th>677</th>\n",
       "      <td>Under Armour</td>\n",
       "      <td>147</td>\n",
       "      <td>3273</td>\n",
       "    </tr>\n",
       "    <tr>\n",
       "      <th>678</th>\n",
       "      <td>Under Armour</td>\n",
       "      <td>148</td>\n",
       "      <td>3138</td>\n",
       "    </tr>\n",
       "    <tr>\n",
       "      <th>679</th>\n",
       "      <td>Under Armour</td>\n",
       "      <td>149</td>\n",
       "      <td>2861</td>\n",
       "    </tr>\n",
       "  </tbody>\n",
       "</table>\n",
       "<p>680 rows × 3 columns</p>\n",
       "</div>"
      ],
      "text/plain": [
       "            Brand  round_price  count\n",
       "0          Adidas          150  13428\n",
       "1          Adidas           24   7376\n",
       "2          Adidas           34   7232\n",
       "3          Adidas           54   7088\n",
       "4          Adidas           30   6836\n",
       "..            ...          ...    ...\n",
       "675  Under Armour          146   3653\n",
       "676  Under Armour          145   3567\n",
       "677  Under Armour          147   3273\n",
       "678  Under Armour          148   3138\n",
       "679  Under Armour          149   2861\n",
       "\n",
       "[680 rows x 3 columns]"
      ]
     },
     "execution_count": 209,
     "metadata": {},
     "output_type": "execute_result"
    }
   ],
   "source": [
    "# create bar charts for each variable based on the brand column\n",
    "brand_data = train_imputed.groupby(['Brand'])['round_price'].value_counts().reset_index()\n",
    "\n",
    "brand_data"
   ]
  },
  {
   "cell_type": "code",
   "execution_count": 210,
   "metadata": {},
   "outputs": [
    {
     "data": {
      "image/png": "[encoded data removed]",
      "text/plain": [
       "<Figure size 640x480 with 1 Axes>"
      ]
     },
     "metadata": {},
     "output_type": "display_data"
    },
    {
     "data": {
      "image/png": "[encoded data removed]",
      "text/plain": [
       "<Figure size 640x480 with 1 Axes>"
      ]
     },
     "metadata": {},
     "output_type": "display_data"
    },
    {
     "data": {
      "image/png": "[encoded data removed]",
      "text/plain": [
       "<Figure size 640x480 with 1 Axes>"
      ]
     },
     "metadata": {},
     "output_type": "display_data"
    },
    {
     "data": {
      "image/png": "[encoded data removed]",
      "text/plain": [
       "<Figure size 640x480 with 1 Axes>"
      ]
     },
     "metadata": {},
     "output_type": "display_data"
    },
    {
     "data": {
      "image/png": "[encoded data removed]",
      "text/plain": [
       "<Figure size 640x480 with 1 Axes>"
      ]
     },
     "metadata": {},
     "output_type": "display_data"
    }
   ],
   "source": [
    "# plot binned histograms for each brand\n",
    "for brand in brand_data['Brand'].unique():\n",
    "    plt.hist(brand_data[brand_data['Brand'] == brand]['round_price'], bins=8)\n",
    "    plt.title(brand)\n",
    "    plt.show()"
   ]
  },
  {
   "cell_type": "markdown",
   "metadata": {},
   "source": [
    "This shows that at 8 bins, each product has uniform distribution. This is interesting as it may indicate 8 distinct product with additional tarrifs and taxes. We will later engineer a price_tier feature based on 8 bins. "
   ]
  },
  {
   "cell_type": "markdown",
   "metadata": {},
   "source": [
    "#### Manufacturing features\n",
    "\n",
    "Because the major costs that go into fabrication could be the materials used and the fabrication complexity. Let's look at # of compartments, size, style and materials as a function of price."
   ]
  },
  {
   "cell_type": "code",
   "execution_count": 211,
   "metadata": {},
   "outputs": [],
   "source": [
    "all_vars = ['Brand', 'Material', 'Size', 'Compartments', 'Laptop Compartment', 'Waterproof', 'Style', 'Color']"
   ]
  },
  {
   "cell_type": "code",
   "execution_count": 213,
   "metadata": {},
   "outputs": [],
   "source": [
    "# # # Create bar chart\n",
    "\n",
    "# for var in all_vars:\n",
    "#     print(var)\n",
    "#     sns.barplot(data=train_imputed, x=var, y='Price')\n",
    "#     plt.title(f'Price Sum by {var}')\n",
    "#     plt.show()\n",
    "\n"
   ]
  },
  {
   "cell_type": "markdown",
   "metadata": {},
   "source": [
    "There isnt much variation between the categories, but perhaps creating some interaction terms leads to a better result. \n",
    "\n",
    "#### Weight Capacity Binning"
   ]
  },
  {
   "cell_type": "code",
   "execution_count": 214,
   "metadata": {},
   "outputs": [
    {
     "name": "stdout",
     "output_type": "stream",
     "text": [
      "5\n",
      "30\n"
     ]
    }
   ],
   "source": [
    "# # plot binned histograms for each brand\n",
    "# for brand in brand_data['Brand'].unique():\n",
    "#     plt.hist(brand_data[brand_data['Brand'] == brand]['round_price'], bins=8)\n",
    "#     plt.title(brand)\n",
    "#     plt.show()\n",
    "\n",
    "train_imputed['weight_capacity_rounded'] = train_imputed['Weight Capacity (kg)'].apply(lambda x: round(x))\n",
    "print(train_imputed['weight_capacity_rounded'].min())\n",
    "print(train_imputed['weight_capacity_rounded'].max())\n"
   ]
  },
  {
   "cell_type": "code",
   "execution_count": 215,
   "metadata": {},
   "outputs": [
    {
     "name": "stdout",
     "output_type": "stream",
     "text": [
      "['5.0 - 12.0', '12.0 - 18.0', '18.0 - 24.0', '24.0 - 30.0']\n"
     ]
    },
    {
     "data": {
      "image/png": "[encoded data removed]",
      "text/plain": [
       "<Figure size 1000x600 with 1 Axes>"
      ]
     },
     "metadata": {},
     "output_type": "display_data"
    }
   ],
   "source": [
    "binner = KBinsDiscretizer(n_bins=4, encode='ordinal', strategy='quantile')\n",
    "binned_values = binner.fit_transform(train_imputed[['weight_capacity_rounded']]).astype(int).flatten()\n",
    "\n",
    "# Create bin category column\n",
    "bin_col_name = f\"weight_capacity_rounded_binned\"\n",
    "train_imputed[bin_col_name] = binned_values\n",
    "\n",
    "bin_edges = binner.bin_edges_[0]\n",
    "bin_labels = [f\"{bin_edges[i]:.1f} - {bin_edges[i+1]:.1f}\" for i in range(len(bin_edges) - 1)]\n",
    "\n",
    "print(bin_labels)\n",
    "\n",
    "# Plot bin distribution\n",
    "plt.figure(figsize=(10, 6))\n",
    "sns.barplot(x=pd.Series(binned_values).value_counts().sort_index().index, \n",
    "                y=pd.Series(binned_values).value_counts().sort_index().values)\n",
    "plt.title(f'Optimal Binning of weight_capacity_rounded (quantile strategy)')\n",
    "plt.xlabel('Bin Category')\n",
    "plt.ylabel('Count')\n",
    "plt.show()"
   ]
  },
  {
   "cell_type": "markdown",
   "metadata": {},
   "source": [
    "After testing a number of different binning strategies, 4 bins seems reasonable covering 6kg per bin. "
   ]
  },
  {
   "cell_type": "code",
   "execution_count": 216,
   "metadata": {},
   "outputs": [
    {
     "data": {
      "text/plain": [
       "array([1, 3, 2, 0])"
      ]
     },
     "execution_count": 216,
     "metadata": {},
     "output_type": "execute_result"
    }
   ],
   "source": [
    "train_imputed[bin_col_name].unique()"
   ]
  },
  {
   "cell_type": "markdown",
   "metadata": {},
   "source": [
    "### Feature Engineering"
   ]
  },
  {
   "cell_type": "code",
   "execution_count": 217,
   "metadata": {},
   "outputs": [],
   "source": [
    "def engineer_features(df, is_train_set=False):\n",
    "\n",
    "    # first create price bins\n",
    "    if is_train_set:\n",
    "        df['round_price'] = df.Price.astype(int)\n",
    "        binner = KBinsDiscretizer(n_bins=8, encode='ordinal', strategy='quantile')\n",
    "        binned_values = binner.fit_transform(df[['round_price']]).astype(int).flatten()\n",
    "\n",
    "        # Create bin category column\n",
    "        bin_col_name = f\"price_cat\"\n",
    "        df[bin_col_name] = binned_values\n",
    "\n",
    "    df['weight_capacity_rounded'] = df['Weight Capacity (kg)'].apply(lambda x: round(x))\n",
    "    \n",
    "    binner = KBinsDiscretizer(n_bins=4, encode='ordinal', strategy='quantile')\n",
    "    binned_values = binner.fit_transform(df[['weight_capacity_rounded']]).astype(int).flatten()\n",
    "\n",
    "    # Create bin category column\n",
    "    bin_col_name = f\"weight_capacity_bins\"\n",
    "    df[bin_col_name] = binned_values\n",
    "\n",
    "    df['brand_material'] = df['Brand'] + '_' + df['Material']\n",
    "    df['brand_material'] = df['brand_material'].astype('category').cat.codes\n",
    "\n",
    "    df['brand_size'] = df['Brand'] + '_' + df['Size']\n",
    "    df['brand_size'] = df['brand_size'].astype('category').cat.codes\n",
    "\n",
    "    df['style_size'] = df['Style'] + '_' + df['Size']\n",
    "    df['style_size'] = df['style_size'].astype('category').cat.codes\n",
    "\n",
    "    df['style_material'] = df['Style'] + '_' + df['Material']\n",
    "    df['style_material'] = df['style_material'].astype('category').cat.codes\n",
    "\n",
    "    df['color_material'] = df['Color'] + '_' + df['Material']\n",
    "    df['color_material'] = df['color_material'].astype('category').cat.codes\n",
    "\n",
    "    df['weight_capacity_ratio'] = df['Weight Capacity (kg)'] / df['Weight Capacity (kg)'].max()\n",
    "\n",
    "    df['weight_to_compartments'] = df['Weight Capacity (kg)'] / (df['Compartments'] + 1)\n",
    "\n",
    "    df['compartments_bins'] = pd.cut(df['Compartments'], bins=[0, 2, 5, 10, np.inf], labels=['Few', 'Moderate', 'Many', 'Very Many'])\n",
    "    df['compartments_bins'] = df['compartments_bins'].astype('category').cat.codes\n",
    "\n",
    "    columns = [col.lower() for col in df.columns]\n",
    "    df.columns = columns\n",
    "\n",
    "    df = df.drop(columns=['brand', 'material', 'size', 'style', 'color'])\n",
    "\n",
    "    df = df.rename({'Weight Capacity (kg)':'weight_capacity'})\n",
    "\n",
    "    return df \n",
    "\n",
    "train_eng = engineer_features(train_imputed.copy(), True)\n",
    "test_eng = engineer_features(test_imputed.copy())\n",
    "\n",
    "\n",
    "enc_auto = TargetEncoder(smooth=\"auto\")\n",
    "train_eng['weight_capacity_ratio_enc'] = enc_auto.fit_transform(train_eng[['weight_capacity_ratio']], train_eng['price'])\n",
    "test_eng['weight_capacity_ratio_enc'] = enc_auto.transform(test_eng[['weight_capacity_ratio']])\n",
    "\n",
    "    "
   ]
  },
  {
   "cell_type": "code",
   "execution_count": 218,
   "metadata": {},
   "outputs": [
    {
     "data": {
      "text/html": [
       "<div>\n",
       "<style scoped>\n",
       "    .dataframe tbody tr th:only-of-type {\n",
       "        vertical-align: middle;\n",
       "    }\n",
       "\n",
       "    .dataframe tbody tr th {\n",
       "        vertical-align: top;\n",
       "    }\n",
       "\n",
       "    .dataframe thead th {\n",
       "        text-align: right;\n",
       "    }\n",
       "</style>\n",
       "<table border=\"1\" class=\"dataframe\">\n",
       "  <thead>\n",
       "    <tr style=\"text-align: right;\">\n",
       "      <th></th>\n",
       "      <th>id</th>\n",
       "      <th>compartments</th>\n",
       "      <th>laptop compartment</th>\n",
       "      <th>waterproof</th>\n",
       "      <th>weight capacity (kg)</th>\n",
       "      <th>price</th>\n",
       "      <th>brand_enc</th>\n",
       "      <th>material_enc</th>\n",
       "      <th>size_enc</th>\n",
       "      <th>style_enc</th>\n",
       "      <th>...</th>\n",
       "      <th>weight_capacity_bins</th>\n",
       "      <th>brand_material</th>\n",
       "      <th>brand_size</th>\n",
       "      <th>style_size</th>\n",
       "      <th>style_material</th>\n",
       "      <th>color_material</th>\n",
       "      <th>weight_capacity_ratio</th>\n",
       "      <th>weight_to_compartments</th>\n",
       "      <th>compartments_bins</th>\n",
       "      <th>weight_capacity_ratio_enc</th>\n",
       "    </tr>\n",
       "  </thead>\n",
       "  <tbody>\n",
       "    <tr>\n",
       "      <th>0</th>\n",
       "      <td>0</td>\n",
       "      <td>7.0</td>\n",
       "      <td>1.0</td>\n",
       "      <td>0.0</td>\n",
       "      <td>11.611723</td>\n",
       "      <td>112.15875</td>\n",
       "      <td>1.0</td>\n",
       "      <td>1.0</td>\n",
       "      <td>1.0</td>\n",
       "      <td>2.0</td>\n",
       "      <td>...</td>\n",
       "      <td>1</td>\n",
       "      <td>5</td>\n",
       "      <td>4</td>\n",
       "      <td>7</td>\n",
       "      <td>9</td>\n",
       "      <td>1</td>\n",
       "      <td>0.387057</td>\n",
       "      <td>1.451465</td>\n",
       "      <td>2</td>\n",
       "      <td>81.898499</td>\n",
       "    </tr>\n",
       "    <tr>\n",
       "      <th>1</th>\n",
       "      <td>1</td>\n",
       "      <td>10.0</td>\n",
       "      <td>1.0</td>\n",
       "      <td>1.0</td>\n",
       "      <td>27.078537</td>\n",
       "      <td>68.88056</td>\n",
       "      <td>1.0</td>\n",
       "      <td>0.0</td>\n",
       "      <td>2.0</td>\n",
       "      <td>1.0</td>\n",
       "      <td>...</td>\n",
       "      <td>3</td>\n",
       "      <td>4</td>\n",
       "      <td>5</td>\n",
       "      <td>5</td>\n",
       "      <td>4</td>\n",
       "      <td>12</td>\n",
       "      <td>0.902618</td>\n",
       "      <td>2.461685</td>\n",
       "      <td>2</td>\n",
       "      <td>81.356830</td>\n",
       "    </tr>\n",
       "    <tr>\n",
       "      <th>2</th>\n",
       "      <td>2</td>\n",
       "      <td>2.0</td>\n",
       "      <td>1.0</td>\n",
       "      <td>0.0</td>\n",
       "      <td>16.643760</td>\n",
       "      <td>39.17320</td>\n",
       "      <td>4.0</td>\n",
       "      <td>1.0</td>\n",
       "      <td>2.0</td>\n",
       "      <td>1.0</td>\n",
       "      <td>...</td>\n",
       "      <td>1</td>\n",
       "      <td>17</td>\n",
       "      <td>14</td>\n",
       "      <td>5</td>\n",
       "      <td>5</td>\n",
       "      <td>21</td>\n",
       "      <td>0.554792</td>\n",
       "      <td>5.547920</td>\n",
       "      <td>0</td>\n",
       "      <td>81.374381</td>\n",
       "    </tr>\n",
       "    <tr>\n",
       "      <th>3</th>\n",
       "      <td>3</td>\n",
       "      <td>8.0</td>\n",
       "      <td>1.0</td>\n",
       "      <td>0.0</td>\n",
       "      <td>12.937220</td>\n",
       "      <td>80.60793</td>\n",
       "      <td>2.0</td>\n",
       "      <td>2.0</td>\n",
       "      <td>2.0</td>\n",
       "      <td>1.0</td>\n",
       "      <td>...</td>\n",
       "      <td>1</td>\n",
       "      <td>10</td>\n",
       "      <td>8</td>\n",
       "      <td>5</td>\n",
       "      <td>6</td>\n",
       "      <td>14</td>\n",
       "      <td>0.431241</td>\n",
       "      <td>1.437469</td>\n",
       "      <td>2</td>\n",
       "      <td>81.356830</td>\n",
       "    </tr>\n",
       "    <tr>\n",
       "      <th>4</th>\n",
       "      <td>4</td>\n",
       "      <td>1.0</td>\n",
       "      <td>1.0</td>\n",
       "      <td>1.0</td>\n",
       "      <td>17.749338</td>\n",
       "      <td>86.02312</td>\n",
       "      <td>0.0</td>\n",
       "      <td>0.0</td>\n",
       "      <td>1.0</td>\n",
       "      <td>1.0</td>\n",
       "      <td>...</td>\n",
       "      <td>2</td>\n",
       "      <td>0</td>\n",
       "      <td>1</td>\n",
       "      <td>4</td>\n",
       "      <td>4</td>\n",
       "      <td>12</td>\n",
       "      <td>0.591645</td>\n",
       "      <td>8.874669</td>\n",
       "      <td>0</td>\n",
       "      <td>81.334372</td>\n",
       "    </tr>\n",
       "  </tbody>\n",
       "</table>\n",
       "<p>5 rows × 25 columns</p>\n",
       "</div>"
      ],
      "text/plain": [
       "   id  compartments  laptop compartment  waterproof  weight capacity (kg)  \\\n",
       "0   0           7.0                 1.0         0.0             11.611723   \n",
       "1   1          10.0                 1.0         1.0             27.078537   \n",
       "2   2           2.0                 1.0         0.0             16.643760   \n",
       "3   3           8.0                 1.0         0.0             12.937220   \n",
       "4   4           1.0                 1.0         1.0             17.749338   \n",
       "\n",
       "       price  brand_enc  material_enc  size_enc  style_enc  ...  \\\n",
       "0  112.15875        1.0           1.0       1.0        2.0  ...   \n",
       "1   68.88056        1.0           0.0       2.0        1.0  ...   \n",
       "2   39.17320        4.0           1.0       2.0        1.0  ...   \n",
       "3   80.60793        2.0           2.0       2.0        1.0  ...   \n",
       "4   86.02312        0.0           0.0       1.0        1.0  ...   \n",
       "\n",
       "   weight_capacity_bins  brand_material  brand_size  style_size  \\\n",
       "0                     1               5           4           7   \n",
       "1                     3               4           5           5   \n",
       "2                     1              17          14           5   \n",
       "3                     1              10           8           5   \n",
       "4                     2               0           1           4   \n",
       "\n",
       "   style_material  color_material  weight_capacity_ratio  \\\n",
       "0               9               1               0.387057   \n",
       "1               4              12               0.902618   \n",
       "2               5              21               0.554792   \n",
       "3               6              14               0.431241   \n",
       "4               4              12               0.591645   \n",
       "\n",
       "   weight_to_compartments  compartments_bins  weight_capacity_ratio_enc  \n",
       "0                1.451465                  2                  81.898499  \n",
       "1                2.461685                  2                  81.356830  \n",
       "2                5.547920                  0                  81.374381  \n",
       "3                1.437469                  2                  81.356830  \n",
       "4                8.874669                  0                  81.334372  \n",
       "\n",
       "[5 rows x 25 columns]"
      ]
     },
     "execution_count": 218,
     "metadata": {},
     "output_type": "execute_result"
    }
   ],
   "source": [
    "train_eng.head()"
   ]
  },
  {
   "cell_type": "markdown",
   "metadata": {},
   "source": [
    "### Scale data"
   ]
  },
  {
   "cell_type": "code",
   "execution_count": 219,
   "metadata": {},
   "outputs": [
    {
     "data": {
      "text/plain": [
       "Index(['id', 'compartments', 'laptop compartment', 'waterproof',\n",
       "       'weight capacity (kg)', 'price', 'brand_enc', 'material_enc',\n",
       "       'size_enc', 'style_enc', 'color_enc', 'round_price',\n",
       "       'weight_capacity_rounded', 'weight_capacity_rounded_binned',\n",
       "       'price_cat', 'weight_capacity_bins', 'brand_material', 'brand_size',\n",
       "       'style_size', 'style_material', 'color_material',\n",
       "       'weight_capacity_ratio', 'weight_to_compartments', 'compartments_bins',\n",
       "       'weight_capacity_ratio_enc'],\n",
       "      dtype='object')"
      ]
     },
     "execution_count": 219,
     "metadata": {},
     "output_type": "execute_result"
    }
   ],
   "source": [
    "train_eng.columns"
   ]
  },
  {
   "cell_type": "code",
   "execution_count": 5,
   "metadata": {},
   "outputs": [],
   "source": [
    "X_cols = ['compartments', 'laptop compartment', 'waterproof',\n",
    "       'weight capacity (kg)',  'brand_enc', 'material_enc',\n",
    "       'size_enc', 'style_enc', 'color_enc', 'weight_capacity_rounded',\n",
    "       'weight_capacity_bins', 'brand_material', 'brand_size', 'style_size',\n",
    "       'style_material', 'color_material', 'weight_capacity_ratio',\n",
    "       'weight_to_compartments', 'compartments_bins','weight_capacity_ratio_enc']\n",
    "\n",
    "y_cols = ['price','price_cat','round_price']"
   ]
  },
  {
   "cell_type": "code",
   "execution_count": 221,
   "metadata": {},
   "outputs": [],
   "source": [
    "# scale the test and train sets \n",
    "\n",
    "scaler = StandardScaler()\n",
    "\n",
    "train_scaled = pd.DataFrame(scaler.fit_transform(train_eng[X_cols]), columns=X_cols)\n",
    "test_scaled = pd.DataFrame(scaler.transform(test_eng[X_cols]), columns=X_cols)\n"
   ]
  },
  {
   "cell_type": "code",
   "execution_count": 222,
   "metadata": {},
   "outputs": [],
   "source": [
    "# add y cols back on\n",
    "train_scaled[y_cols] = train_eng[y_cols]"
   ]
  },
  {
   "cell_type": "code",
   "execution_count": 223,
   "metadata": {},
   "outputs": [],
   "source": [
    "train_scaled['log_price'] = np.log1p(train_scaled['price'])\n"
   ]
  },
  {
   "cell_type": "markdown",
   "metadata": {},
   "source": [
    "### Model Training - Base Model"
   ]
  },
  {
   "cell_type": "code",
   "execution_count": 224,
   "metadata": {},
   "outputs": [],
   "source": [
    "train_scaled.to_csv('data/train_scaled2.csv', index=False)\n",
    "test_scaled.to_csv('data/test_scaled2.csv', index=False)"
   ]
  },
  {
   "cell_type": "code",
   "execution_count": 3,
   "metadata": {},
   "outputs": [],
   "source": [
    "train_scaled = pd.read_csv('data/train_scaled2.csv')\n",
    "test_scaled = pd.read_csv('data/test_scaled2.csv')"
   ]
  },
  {
   "cell_type": "code",
   "execution_count": 6,
   "metadata": {},
   "outputs": [],
   "source": [
    "X = train_scaled[X_cols]\n",
    "y = train_scaled['price']"
   ]
  },
  {
   "cell_type": "code",
   "execution_count": 7,
   "metadata": {},
   "outputs": [],
   "source": [
    "def eval_xgb(xgb_params):\n",
    "    # Setup K-Fold Cross-Validation\n",
    "    kf = KFold(n_splits=3, shuffle=True, random_state=42)\n",
    "\n",
    "    best_score = float('inf')\n",
    "    best_params = None\n",
    "\n",
    "    model = None\n",
    "\n",
    "    # Iterate over parameter combinations\n",
    "    for params in ParameterGrid(xgb_params):\n",
    "        scores = []\n",
    "        \n",
    "        for train_idx, val_idx in kf.split(X):\n",
    "            X_train, X_val = X.iloc[train_idx], X.iloc[val_idx]\n",
    "            y_train, y_val = y.iloc[train_idx], y.iloc[val_idx]\n",
    "            \n",
    "            # Train the model\n",
    "            model = xgb.XGBRegressor(**params, objective='reg:squarederror')\n",
    "            model.fit(X_train, y_train)\n",
    "            \n",
    "            # Evaluate on validation set\n",
    "            preds = model.predict(X_val)\n",
    "            score = root_mean_squared_error(y_val, preds)\n",
    "            scores.append(score)\n",
    "        \n",
    "        # Average score across folds\n",
    "        avg_score = np.mean(scores)\n",
    "        \n",
    "        # Keep track of the best parameters\n",
    "        if avg_score < best_score:\n",
    "            best_score = avg_score\n",
    "            best_params = params\n",
    "\n",
    "    print(\"Best Parameters:\", best_params)\n",
    "    print(\"Best RMSE: {:.2f}%\".format(best_score * 100))\n",
    "\n",
    "    return model"
   ]
  },
  {
   "cell_type": "code",
   "execution_count": 8,
   "metadata": {},
   "outputs": [],
   "source": [
    "\n",
    "# Parameter grids for each model\n",
    "xgb_params = {\n",
    "    'n_estimators': [ 10, 20, 50],\n",
    "    'learning_rate': [0.01, 0.1],\n",
    "    'max_depth': [3,4,5]\n",
    "}\n",
    "\n",
    "lgb_params = {\n",
    "    'n_estimators': [400, 500, 1000],\n",
    "    'learning_rate': [0.001, 0.01, 0.02],\n",
    "    'num_leaves': [20, 30, 40]\n",
    "}\n",
    "\n",
    "cb_params = {\n",
    "    'iterations': [150,200,250],\n",
    "    'learning_rate': [0.1],\n",
    "    'depth': [3]\n",
    "}\n",
    "\n",
    "rf_params = {\n",
    "    'n_estimators': [300],\n",
    "    'max_depth': [5, 10],\n",
    "    'min_samples_split': [2, 5]\n",
    "}\n",
    "\n",
    "# Initialize the models\n",
    "xgb_model = xgb.XGBRegressor(objective='reg:squarederror', random_state=42)\n",
    "lgb_model = lgb.LGBMRegressor(random_state=42, objective='regression', metric='rmse')\n",
    "cb_model = cb.CatBoostRegressor(verbose=0, random_state=42, loss_function='RMSE')\n",
    "rf_model = RandomForestRegressor(random_state=42, n_jobs=-1)\n",
    "\n",
    "\n",
    "# Grid search setups\n",
    "def run_grid_search(model, params, name, scoring='neg_root_mean_squared_error', X=X, y=y):\n",
    "    grid = GridSearchCV(model, params, cv=3, scoring=scoring, n_jobs=-1)\n",
    "    grid.fit(X, y)\n",
    "    print(f\"Best parameters for {name}: {grid.best_params_}\")\n",
    "    print(f\"Best score for {name}: {-grid.best_score_}\")\n",
    "    return grid.best_estimator_\n"
   ]
  },
  {
   "cell_type": "code",
   "execution_count": 9,
   "metadata": {},
   "outputs": [
    {
     "name": "stdout",
     "output_type": "stream",
     "text": [
      "Running GridSearch for XGBoost...\n",
      "Best Parameters: {'learning_rate': 0.1, 'max_depth': 5, 'n_estimators': 50}\n",
      "Best RMSE: 3871.89%\n"
     ]
    }
   ],
   "source": [
    "\n",
    "print(\"Running GridSearch for XGBoost...\")\n",
    "best_xgb = eval_xgb(xgb_params)\n"
   ]
  },
  {
   "cell_type": "code",
   "execution_count": 10,
   "metadata": {},
   "outputs": [
    {
     "name": "stdout",
     "output_type": "stream",
     "text": [
      "Running GridSearch for LightGBM...\n",
      "[LightGBM] [Warning] Found whitespace in feature_names, replace with underlines[LightGBM] [Warning] Found whitespace in feature_names, replace with underlines\n",
      "\n",
      "[LightGBM] [Warning] Found whitespace in feature_names, replace with underlines\n",
      "[LightGBM] [Warning] Found whitespace in feature_names, replace with underlines\n",
      "[LightGBM] [Warning] Found whitespace in feature_names, replace with underlines\n",
      "[LightGBM] [Warning] Found whitespace in feature_names, replace with underlines\n",
      "[LightGBM] [Warning] Found whitespace in feature_names, replace with underlines\n",
      "[LightGBM] [Warning] Found whitespace in feature_names, replace with underlines\n",
      "[LightGBM] [Info] Auto-choosing col-wise multi-threading, the overhead of testing was 0.202384 seconds.\n",
      "You can set `force_col_wise=true` to remove the overhead.\n",
      "[LightGBM] [Info] Total Bins 1698\n",
      "[LightGBM] [Info] Number of data points in the train set: 2662879, number of used features: 20\n",
      "[LightGBM] [Info] Auto-choosing col-wise multi-threading, the overhead of testing was 0.253611 seconds.\n",
      "You can set `force_col_wise=true` to remove the overhead.\n",
      "[LightGBM] [Info] Total Bins 1698\n",
      "[LightGBM] [Info] Start training from score 81.383128\n",
      "[LightGBM] [Info] Number of data points in the train set: 2662879, number of used features: 20\n",
      "[LightGBM] [Info] Start training from score 81.383128\n",
      "[LightGBM] [Info] Auto-choosing row-wise multi-threading, the overhead of testing was 0.118846 seconds.\n",
      "You can set `force_row_wise=true` to remove the overhead.\n",
      "And if memory is not enough, you can set `force_col_wise=true`.\n",
      "[LightGBM] [Info] Total Bins 1698\n",
      "[LightGBM] [Info] Auto-choosing row-wise multi-threading, the overhead of testing was 0.118605 seconds.\n",
      "You can set `force_row_wise=true` to remove the overhead.\n",
      "And if memory is not enough, you can set `force_col_wise=true`.\n",
      "[LightGBM] [Info] Total Bins 1698\n",
      "[LightGBM] [Info] Number of data points in the train set: 2662879, number of used features: 20\n",
      "[LightGBM] [Info] Number of data points in the train set: 2662879, number of used features: 20\n",
      "[LightGBM] [Info] Auto-choosing row-wise multi-threading, the overhead of testing was 0.136534 seconds.\n",
      "You can set `force_row_wise=true` to remove the overhead.\n",
      "And if memory is not enough, you can set `force_col_wise=true`.\n",
      "[LightGBM] [Info] Total Bins 1698\n",
      "[LightGBM] [Info] Auto-choosing row-wise multi-threading, the overhead of testing was 0.126396 seconds.\n",
      "You can set `force_row_wise=true` to remove the overhead.\n",
      "And if memory is not enough, you can set `force_col_wise=true`.\n",
      "[LightGBM] [Info] Total Bins 1698\n",
      "[LightGBM] [Info] Number of data points in the train set: 2662879, number of used features: 20\n",
      "[LightGBM] [Info] Number of data points in the train set: 2662878, number of used features: 20\n",
      "[LightGBM] [Info] Start training from score 81.354726\n",
      "[LightGBM] [Info] Start training from score 81.354726\n",
      "[LightGBM] [Info] Start training from score 81.354726\n",
      "[LightGBM] [Info] Start training from score 81.348670\n",
      "[LightGBM] [Info] Auto-choosing row-wise multi-threading, the overhead of testing was 0.114262 seconds.\n",
      "You can set `force_row_wise=true` to remove the overhead.\n",
      "And if memory is not enough, you can set `force_col_wise=true`.\n",
      "[LightGBM] [Info] Total Bins 1698\n",
      "[LightGBM] [Info] Number of data points in the train set: 2662878, number of used features: 20\n",
      "[LightGBM] [Info] Start training from score 81.348670\n",
      "[LightGBM] [Info] Auto-choosing row-wise multi-threading, the overhead of testing was 0.178875 seconds.\n",
      "You can set `force_row_wise=true` to remove the overhead.\n",
      "And if memory is not enough, you can set `force_col_wise=true`.\n",
      "[LightGBM] [Info] Total Bins 1698\n",
      "[LightGBM] [Info] Number of data points in the train set: 2662878, number of used features: 20\n",
      "[LightGBM] [Info] Start training from score 81.348670\n",
      "[LightGBM] [Warning] Found whitespace in feature_names, replace with underlines\n",
      "[LightGBM] [Info] Auto-choosing col-wise multi-threading, the overhead of testing was 0.847132 seconds.\n",
      "You can set `force_col_wise=true` to remove the overhead.\n",
      "[LightGBM] [Info] Total Bins 1698\n",
      "[LightGBM] [Info] Number of data points in the train set: 2662879, number of used features: 20\n",
      "[LightGBM] [Info] Start training from score 81.383128\n",
      "[LightGBM] [Warning] Found whitespace in feature_names, replace with underlines\n",
      "[LightGBM] [Info] Auto-choosing row-wise multi-threading, the overhead of testing was 0.320699 seconds.\n",
      "You can set `force_row_wise=true` to remove the overhead.\n",
      "And if memory is not enough, you can set `force_col_wise=true`.\n",
      "[LightGBM] [Info] Total Bins 1698\n",
      "[LightGBM] [Info] Number of data points in the train set: 2662878, number of used features: 20\n",
      "[LightGBM] [Info] Start training from score 81.348670\n",
      "[LightGBM] [Warning] Found whitespace in feature_names, replace with underlines\n",
      "[LightGBM] [Info] Auto-choosing row-wise multi-threading, the overhead of testing was 0.165078 seconds.\n",
      "You can set `force_row_wise=true` to remove the overhead.\n",
      "And if memory is not enough, you can set `force_col_wise=true`.\n",
      "[LightGBM] [Info] Total Bins 1698\n",
      "[LightGBM] [Info] Number of data points in the train set: 2662879, number of used features: 20\n",
      "[LightGBM] [Info] Start training from score 81.354726\n",
      "[LightGBM] [Warning] Found whitespace in feature_names, replace with underlines\n",
      "[LightGBM] [Info] Auto-choosing row-wise multi-threading, the overhead of testing was 0.139251 seconds.\n",
      "You can set `force_row_wise=true` to remove the overhead.\n",
      "And if memory is not enough, you can set `force_col_wise=true`.\n",
      "[LightGBM] [Info] Total Bins 1698\n",
      "[LightGBM] [Info] Number of data points in the train set: 2662879, number of used features: 20\n",
      "[LightGBM] [Info] Start training from score 81.383128\n",
      "[LightGBM] [Warning] Found whitespace in feature_names, replace with underlines\n",
      "[LightGBM] [Info] Auto-choosing row-wise multi-threading, the overhead of testing was 0.164708 seconds.\n",
      "You can set `force_row_wise=true` to remove the overhead.\n",
      "And if memory is not enough, you can set `force_col_wise=true`.\n",
      "[LightGBM] [Info] Total Bins 1698\n",
      "[LightGBM] [Info] Number of data points in the train set: 2662878, number of used features: 20\n",
      "[LightGBM] [Info] Start training from score 81.348670\n",
      "[LightGBM] [Warning] Found whitespace in feature_names, replace with underlines\n",
      "[LightGBM] [Info] Auto-choosing row-wise multi-threading, the overhead of testing was 0.164522 seconds.\n",
      "You can set `force_row_wise=true` to remove the overhead.\n",
      "And if memory is not enough, you can set `force_col_wise=true`.\n",
      "[LightGBM] [Info] Total Bins 1698\n",
      "[LightGBM] [Info] Number of data points in the train set: 2662879, number of used features: 20\n",
      "[LightGBM] [Info] Start training from score 81.354726\n",
      "[LightGBM] [Warning] Found whitespace in feature_names, replace with underlines\n",
      "[LightGBM] [Info] Auto-choosing col-wise multi-threading, the overhead of testing was 0.598457 seconds.\n",
      "You can set `force_col_wise=true` to remove the overhead.\n",
      "[LightGBM] [Info] Total Bins 1698\n",
      "[LightGBM] [Info] Number of data points in the train set: 2662879, number of used features: 20\n",
      "[LightGBM] [Info] Start training from score 81.383128\n",
      "[LightGBM] [Warning] Found whitespace in feature_names, replace with underlines\n",
      "[LightGBM] [Info] Auto-choosing row-wise multi-threading, the overhead of testing was 0.305356 seconds.\n",
      "You can set `force_row_wise=true` to remove the overhead.\n",
      "And if memory is not enough, you can set `force_col_wise=true`.\n",
      "[LightGBM] [Info] Total Bins 1698\n",
      "[LightGBM] [Info] Number of data points in the train set: 2662878, number of used features: 20\n",
      "[LightGBM] [Info] Start training from score 81.348670\n",
      "[LightGBM] [Warning] Found whitespace in feature_names, replace with underlines\n",
      "[LightGBM] [Info] Auto-choosing row-wise multi-threading, the overhead of testing was 0.276523 seconds.\n",
      "You can set `force_row_wise=true` to remove the overhead.\n",
      "And if memory is not enough, you can set `force_col_wise=true`.\n",
      "[LightGBM] [Info] Total Bins 1698\n",
      "[LightGBM] [Info] Number of data points in the train set: 2662879, number of used features: 20\n",
      "[LightGBM] [Info] Start training from score 81.354726\n",
      "[LightGBM] [Warning] Found whitespace in feature_names, replace with underlines\n",
      "[LightGBM] [Info] Auto-choosing row-wise multi-threading, the overhead of testing was 0.140567 seconds.\n",
      "You can set `force_row_wise=true` to remove the overhead.\n",
      "And if memory is not enough, you can set `force_col_wise=true`.\n",
      "[LightGBM] [Info] Total Bins 1698\n",
      "[LightGBM] [Info] Number of data points in the train set: 2662879, number of used features: 20\n",
      "[LightGBM] [Info] Start training from score 81.383128\n",
      "[LightGBM] [Warning] Found whitespace in feature_names, replace with underlines\n",
      "[LightGBM] [Info] Auto-choosing row-wise multi-threading, the overhead of testing was 0.212203 seconds.\n",
      "You can set `force_row_wise=true` to remove the overhead.\n",
      "And if memory is not enough, you can set `force_col_wise=true`.\n",
      "[LightGBM] [Info] Total Bins 1698\n",
      "[LightGBM] [Info] Number of data points in the train set: 2662878, number of used features: 20\n",
      "[LightGBM] [Info] Start training from score 81.348670\n",
      "[LightGBM] [Warning] Found whitespace in feature_names, replace with underlines\n",
      "[LightGBM] [Info] Auto-choosing row-wise multi-threading, the overhead of testing was 0.295413 seconds.\n",
      "You can set `force_row_wise=true` to remove the overhead.\n",
      "And if memory is not enough, you can set `force_col_wise=true`.\n",
      "[LightGBM] [Info] Total Bins 1698\n",
      "[LightGBM] [Info] Number of data points in the train set: 2662879, number of used features: 20\n",
      "[LightGBM] [Info] Start training from score 81.354726\n",
      "[LightGBM] [Warning] Found whitespace in feature_names, replace with underlines\n",
      "[LightGBM] [Info] Auto-choosing col-wise multi-threading, the overhead of testing was 0.663119 seconds.\n",
      "You can set `force_col_wise=true` to remove the overhead.\n",
      "[LightGBM] [Info] Total Bins 1698\n",
      "[LightGBM] [Info] Number of data points in the train set: 2662879, number of used features: 20\n",
      "[LightGBM] [Info] Start training from score 81.383128\n",
      "[LightGBM] [Warning] Found whitespace in feature_names, replace with underlines\n",
      "[LightGBM] [Info] Auto-choosing col-wise multi-threading, the overhead of testing was 0.544665 seconds.\n",
      "You can set `force_col_wise=true` to remove the overhead.\n",
      "[LightGBM] [Info] Total Bins 1698\n",
      "[LightGBM] [Info] Number of data points in the train set: 2662878, number of used features: 20\n",
      "[LightGBM] [Info] Start training from score 81.348670\n",
      "[LightGBM] [Warning] Found whitespace in feature_names, replace with underlines\n",
      "[LightGBM] [Info] Auto-choosing row-wise multi-threading, the overhead of testing was 0.104044 seconds.\n",
      "You can set `force_row_wise=true` to remove the overhead.\n",
      "And if memory is not enough, you can set `force_col_wise=true`.\n",
      "[LightGBM] [Info] Total Bins 1698\n",
      "[LightGBM] [Info] Number of data points in the train set: 2662879, number of used features: 20\n",
      "[LightGBM] [Info] Start training from score 81.354726\n",
      "[LightGBM] [Warning] Found whitespace in feature_names, replace with underlines\n",
      "[LightGBM] [Info] Auto-choosing row-wise multi-threading, the overhead of testing was 0.254977 seconds.\n",
      "You can set `force_row_wise=true` to remove the overhead.\n",
      "And if memory is not enough, you can set `force_col_wise=true`.\n",
      "[LightGBM] [Info] Total Bins 1698\n",
      "[LightGBM] [Info] Number of data points in the train set: 2662879, number of used features: 20\n",
      "[LightGBM] [Info] Start training from score 81.383128\n",
      "[LightGBM] [Warning] Found whitespace in feature_names, replace with underlines\n",
      "[LightGBM] [Info] Auto-choosing row-wise multi-threading, the overhead of testing was 0.173487 seconds.\n",
      "You can set `force_row_wise=true` to remove the overhead.\n",
      "And if memory is not enough, you can set `force_col_wise=true`.\n",
      "[LightGBM] [Info] Total Bins 1698\n",
      "[LightGBM] [Info] Number of data points in the train set: 2662878, number of used features: 20\n",
      "[LightGBM] [Info] Start training from score 81.348670\n",
      "[LightGBM] [Warning] Found whitespace in feature_names, replace with underlines\n",
      "[LightGBM] [Info] Auto-choosing row-wise multi-threading, the overhead of testing was 0.243490 seconds.\n",
      "You can set `force_row_wise=true` to remove the overhead.\n",
      "And if memory is not enough, you can set `force_col_wise=true`.\n",
      "[LightGBM] [Info] Total Bins 1698\n",
      "[LightGBM] [Info] Number of data points in the train set: 2662879, number of used features: 20\n",
      "[LightGBM] [Info] Start training from score 81.354726\n",
      "[LightGBM] [Warning] Found whitespace in feature_names, replace with underlines\n",
      "[LightGBM] [Info] Auto-choosing col-wise multi-threading, the overhead of testing was 1.143669 seconds.\n",
      "You can set `force_col_wise=true` to remove the overhead.\n",
      "[LightGBM] [Info] Total Bins 1698\n",
      "[LightGBM] [Info] Number of data points in the train set: 2662879, number of used features: 20\n",
      "[LightGBM] [Info] Start training from score 81.383128\n",
      "[LightGBM] [Warning] Found whitespace in feature_names, replace with underlines\n",
      "[LightGBM] [Info] Auto-choosing row-wise multi-threading, the overhead of testing was 0.333537 seconds.\n",
      "You can set `force_row_wise=true` to remove the overhead.\n",
      "And if memory is not enough, you can set `force_col_wise=true`.\n",
      "[LightGBM] [Info] Total Bins 1698\n",
      "[LightGBM] [Info] Number of data points in the train set: 2662878, number of used features: 20\n",
      "[LightGBM] [Info] Start training from score 81.348670\n",
      "[LightGBM] [Warning] Found whitespace in feature_names, replace with underlines\n",
      "[LightGBM] [Info] Auto-choosing row-wise multi-threading, the overhead of testing was 0.193208 seconds.\n",
      "You can set `force_row_wise=true` to remove the overhead.\n",
      "And if memory is not enough, you can set `force_col_wise=true`.\n",
      "[LightGBM] [Info] Total Bins 1698\n",
      "[LightGBM] [Info] Number of data points in the train set: 2662879, number of used features: 20\n",
      "[LightGBM] [Info] Start training from score 81.354726\n",
      "[LightGBM] [Warning] Found whitespace in feature_names, replace with underlines\n",
      "[LightGBM] [Info] Auto-choosing row-wise multi-threading, the overhead of testing was 0.211299 seconds.\n",
      "You can set `force_row_wise=true` to remove the overhead.\n",
      "And if memory is not enough, you can set `force_col_wise=true`.\n",
      "[LightGBM] [Info] Total Bins 1698\n",
      "[LightGBM] [Info] Number of data points in the train set: 2662879, number of used features: 20\n",
      "[LightGBM] [Info] Start training from score 81.383128\n",
      "[LightGBM] [Warning] Found whitespace in feature_names, replace with underlines\n",
      "[LightGBM] [Info] Auto-choosing row-wise multi-threading, the overhead of testing was 0.309589 seconds.\n",
      "You can set `force_row_wise=true` to remove the overhead.\n",
      "And if memory is not enough, you can set `force_col_wise=true`.\n",
      "[LightGBM] [Info] Total Bins 1698\n",
      "[LightGBM] [Info] Number of data points in the train set: 2662878, number of used features: 20\n",
      "[LightGBM] [Info] Start training from score 81.348670\n",
      "[LightGBM] [Warning] Found whitespace in feature_names, replace with underlines\n",
      "[LightGBM] [Info] Auto-choosing row-wise multi-threading, the overhead of testing was 0.242895 seconds.\n",
      "You can set `force_row_wise=true` to remove the overhead.\n",
      "And if memory is not enough, you can set `force_col_wise=true`.\n",
      "[LightGBM] [Info] Total Bins 1698\n",
      "[LightGBM] [Info] Number of data points in the train set: 2662879, number of used features: 20\n",
      "[LightGBM] [Info] Start training from score 81.354726\n",
      "[LightGBM] [Warning] Found whitespace in feature_names, replace with underlines\n",
      "[LightGBM] [Info] Auto-choosing row-wise multi-threading, the overhead of testing was 0.240928 seconds.\n",
      "You can set `force_row_wise=true` to remove the overhead.\n",
      "And if memory is not enough, you can set `force_col_wise=true`.\n",
      "[LightGBM] [Info] Total Bins 1698\n",
      "[LightGBM] [Info] Number of data points in the train set: 2662879, number of used features: 20\n",
      "[LightGBM] [Info] Start training from score 81.383128\n",
      "[LightGBM] [Warning] Found whitespace in feature_names, replace with underlines\n",
      "[LightGBM] [Info] Auto-choosing col-wise multi-threading, the overhead of testing was 0.531502 seconds.\n",
      "You can set `force_col_wise=true` to remove the overhead.\n",
      "[LightGBM] [Info] Total Bins 1698\n",
      "[LightGBM] [Info] Number of data points in the train set: 2662878, number of used features: 20\n",
      "[LightGBM] [Info] Start training from score 81.348670\n",
      "[LightGBM] [Warning] Found whitespace in feature_names, replace with underlines\n",
      "[LightGBM] [Info] Auto-choosing row-wise multi-threading, the overhead of testing was 0.183259 seconds.\n",
      "You can set `force_row_wise=true` to remove the overhead.\n",
      "And if memory is not enough, you can set `force_col_wise=true`.\n",
      "[LightGBM] [Info] Total Bins 1698\n",
      "[LightGBM] [Info] Number of data points in the train set: 2662879, number of used features: 20\n",
      "[LightGBM] [Info] Start training from score 81.354726\n",
      "[LightGBM] [Warning] Found whitespace in feature_names, replace with underlines\n",
      "[LightGBM] [Info] Auto-choosing row-wise multi-threading, the overhead of testing was 0.110224 seconds.\n",
      "You can set `force_row_wise=true` to remove the overhead.\n",
      "And if memory is not enough, you can set `force_col_wise=true`.\n",
      "[LightGBM] [Info] Total Bins 1698\n",
      "[LightGBM] [Info] Number of data points in the train set: 2662879, number of used features: 20\n",
      "[LightGBM] [Info] Start training from score 81.383128\n",
      "[LightGBM] [Warning] Found whitespace in feature_names, replace with underlines\n",
      "[LightGBM] [Info] Auto-choosing row-wise multi-threading, the overhead of testing was 0.234150 seconds.\n",
      "You can set `force_row_wise=true` to remove the overhead.\n",
      "And if memory is not enough, you can set `force_col_wise=true`.\n",
      "[LightGBM] [Info] Total Bins 1698\n",
      "[LightGBM] [Info] Number of data points in the train set: 2662878, number of used features: 20\n",
      "[LightGBM] [Info] Start training from score 81.348670\n",
      "[LightGBM] [Warning] Found whitespace in feature_names, replace with underlines\n",
      "[LightGBM] [Info] Auto-choosing row-wise multi-threading, the overhead of testing was 0.196629 seconds.\n",
      "You can set `force_row_wise=true` to remove the overhead.\n",
      "And if memory is not enough, you can set `force_col_wise=true`.\n",
      "[LightGBM] [Info] Total Bins 1698\n",
      "[LightGBM] [Info] Number of data points in the train set: 2662879, number of used features: 20\n",
      "[LightGBM] [Info] Start training from score 81.354726\n",
      "[LightGBM] [Warning] Found whitespace in feature_names, replace with underlines\n",
      "[LightGBM] [Info] Auto-choosing row-wise multi-threading, the overhead of testing was 0.252417 seconds.\n",
      "You can set `force_row_wise=true` to remove the overhead.\n",
      "And if memory is not enough, you can set `force_col_wise=true`.\n",
      "[LightGBM] [Info] Total Bins 1698\n",
      "[LightGBM] [Info] Number of data points in the train set: 2662879, number of used features: 20\n",
      "[LightGBM] [Info] Start training from score 81.383128\n",
      "[LightGBM] [Warning] Found whitespace in feature_names, replace with underlines\n",
      "[LightGBM] [Info] Auto-choosing row-wise multi-threading, the overhead of testing was 0.173136 seconds.\n",
      "You can set `force_row_wise=true` to remove the overhead.\n",
      "And if memory is not enough, you can set `force_col_wise=true`.\n",
      "[LightGBM] [Info] Total Bins 1698\n",
      "[LightGBM] [Info] Number of data points in the train set: 2662878, number of used features: 20\n",
      "[LightGBM] [Info] Start training from score 81.348670\n",
      "[LightGBM] [Warning] Found whitespace in feature_names, replace with underlines\n",
      "[LightGBM] [Info] Auto-choosing row-wise multi-threading, the overhead of testing was 0.252401 seconds.\n",
      "You can set `force_row_wise=true` to remove the overhead.\n",
      "And if memory is not enough, you can set `force_col_wise=true`.\n",
      "[LightGBM] [Info] Total Bins 1698\n",
      "[LightGBM] [Info] Number of data points in the train set: 2662879, number of used features: 20\n",
      "[LightGBM] [Info] Start training from score 81.354726\n",
      "[LightGBM] [Warning] Found whitespace in feature_names, replace with underlines\n",
      "[LightGBM] [Info] Auto-choosing row-wise multi-threading, the overhead of testing was 0.232130 seconds.\n",
      "You can set `force_row_wise=true` to remove the overhead.\n",
      "And if memory is not enough, you can set `force_col_wise=true`.\n",
      "[LightGBM] [Info] Total Bins 1698\n",
      "[LightGBM] [Info] Number of data points in the train set: 2662879, number of used features: 20\n",
      "[LightGBM] [Info] Start training from score 81.383128\n",
      "[LightGBM] [Warning] Found whitespace in feature_names, replace with underlines\n",
      "[LightGBM] [Info] Auto-choosing row-wise multi-threading, the overhead of testing was 0.309278 seconds.\n",
      "You can set `force_row_wise=true` to remove the overhead.\n",
      "And if memory is not enough, you can set `force_col_wise=true`.\n",
      "[LightGBM] [Info] Total Bins 1698\n",
      "[LightGBM] [Info] Number of data points in the train set: 2662878, number of used features: 20\n",
      "[LightGBM] [Info] Start training from score 81.348670\n",
      "[LightGBM] [Warning] Found whitespace in feature_names, replace with underlines\n",
      "[LightGBM] [Info] Auto-choosing row-wise multi-threading, the overhead of testing was 0.326325 seconds.\n",
      "You can set `force_row_wise=true` to remove the overhead.\n",
      "And if memory is not enough, you can set `force_col_wise=true`.\n",
      "[LightGBM] [Info] Total Bins 1698\n",
      "[LightGBM] [Info] Number of data points in the train set: 2662879, number of used features: 20\n",
      "[LightGBM] [Info] Start training from score 81.354726\n",
      "[LightGBM] [Warning] Found whitespace in feature_names, replace with underlines\n",
      "[LightGBM] [Info] Auto-choosing row-wise multi-threading, the overhead of testing was 0.170327 seconds.\n",
      "You can set `force_row_wise=true` to remove the overhead.\n",
      "And if memory is not enough, you can set `force_col_wise=true`.\n",
      "[LightGBM] [Info] Total Bins 1698\n",
      "[LightGBM] [Info] Number of data points in the train set: 2662879, number of used features: 20\n",
      "[LightGBM] [Info] Start training from score 81.383128\n",
      "[LightGBM] [Warning] Found whitespace in feature_names, replace with underlines\n",
      "[LightGBM] [Info] Auto-choosing row-wise multi-threading, the overhead of testing was 0.360976 seconds.\n",
      "You can set `force_row_wise=true` to remove the overhead.\n",
      "And if memory is not enough, you can set `force_col_wise=true`.\n",
      "[LightGBM] [Info] Total Bins 1698\n",
      "[LightGBM] [Info] Number of data points in the train set: 2662878, number of used features: 20\n",
      "[LightGBM] [Info] Start training from score 81.348670\n",
      "[LightGBM] [Warning] Found whitespace in feature_names, replace with underlines\n",
      "[LightGBM] [Info] Auto-choosing row-wise multi-threading, the overhead of testing was 0.251442 seconds.\n",
      "You can set `force_row_wise=true` to remove the overhead.\n",
      "And if memory is not enough, you can set `force_col_wise=true`.\n",
      "[LightGBM] [Info] Total Bins 1698\n",
      "[LightGBM] [Info] Number of data points in the train set: 2662879, number of used features: 20\n",
      "[LightGBM] [Info] Start training from score 81.354726\n",
      "[LightGBM] [Warning] Found whitespace in feature_names, replace with underlines\n",
      "[LightGBM] [Info] Auto-choosing row-wise multi-threading, the overhead of testing was 0.266350 seconds.\n",
      "You can set `force_row_wise=true` to remove the overhead.\n",
      "And if memory is not enough, you can set `force_col_wise=true`.\n",
      "[LightGBM] [Info] Total Bins 1698\n",
      "[LightGBM] [Info] Number of data points in the train set: 2662879, number of used features: 20\n",
      "[LightGBM] [Info] Start training from score 81.383128\n",
      "[LightGBM] [Warning] Found whitespace in feature_names, replace with underlines\n",
      "[LightGBM] [Info] Auto-choosing row-wise multi-threading, the overhead of testing was 0.336344 seconds.\n",
      "You can set `force_row_wise=true` to remove the overhead.\n",
      "And if memory is not enough, you can set `force_col_wise=true`.\n",
      "[LightGBM] [Info] Total Bins 1698\n",
      "[LightGBM] [Info] Number of data points in the train set: 2662878, number of used features: 20\n",
      "[LightGBM] [Info] Start training from score 81.348670\n",
      "[LightGBM] [Warning] Found whitespace in feature_names, replace with underlines\n",
      "[LightGBM] [Info] Auto-choosing row-wise multi-threading, the overhead of testing was 0.305657 seconds.\n",
      "You can set `force_row_wise=true` to remove the overhead.\n",
      "And if memory is not enough, you can set `force_col_wise=true`.\n",
      "[LightGBM] [Info] Total Bins 1698\n",
      "[LightGBM] [Info] Number of data points in the train set: 2662879, number of used features: 20\n",
      "[LightGBM] [Info] Start training from score 81.354726\n",
      "[LightGBM] [Warning] Found whitespace in feature_names, replace with underlines\n",
      "[LightGBM] [Info] Auto-choosing row-wise multi-threading, the overhead of testing was 0.368281 seconds.\n",
      "You can set `force_row_wise=true` to remove the overhead.\n",
      "And if memory is not enough, you can set `force_col_wise=true`.\n",
      "[LightGBM] [Info] Total Bins 1698\n",
      "[LightGBM] [Info] Number of data points in the train set: 2662879, number of used features: 20\n",
      "[LightGBM] [Info] Start training from score 81.383128\n",
      "[LightGBM] [Warning] Found whitespace in feature_names, replace with underlines\n",
      "[LightGBM] [Info] Auto-choosing row-wise multi-threading, the overhead of testing was 0.452375 seconds.\n",
      "You can set `force_row_wise=true` to remove the overhead.\n",
      "And if memory is not enough, you can set `force_col_wise=true`.\n",
      "[LightGBM] [Info] Total Bins 1698\n",
      "[LightGBM] [Info] Number of data points in the train set: 2662878, number of used features: 20\n",
      "[LightGBM] [Info] Start training from score 81.348670\n",
      "[LightGBM] [Warning] Found whitespace in feature_names, replace with underlines\n",
      "[LightGBM] [Info] Auto-choosing row-wise multi-threading, the overhead of testing was 0.353862 seconds.\n",
      "You can set `force_row_wise=true` to remove the overhead.\n",
      "And if memory is not enough, you can set `force_col_wise=true`.\n",
      "[LightGBM] [Info] Total Bins 1698\n",
      "[LightGBM] [Info] Number of data points in the train set: 2662879, number of used features: 20\n",
      "[LightGBM] [Info] Start training from score 81.354726\n",
      "[LightGBM] [Warning] Found whitespace in feature_names, replace with underlines\n",
      "[LightGBM] [Info] Auto-choosing row-wise multi-threading, the overhead of testing was 0.213429 seconds.\n",
      "You can set `force_row_wise=true` to remove the overhead.\n",
      "And if memory is not enough, you can set `force_col_wise=true`.\n",
      "[LightGBM] [Info] Total Bins 1698\n",
      "[LightGBM] [Info] Number of data points in the train set: 2662879, number of used features: 20\n",
      "[LightGBM] [Info] Start training from score 81.383128\n",
      "[LightGBM] [Warning] Found whitespace in feature_names, replace with underlines\n",
      "[LightGBM] [Info] Auto-choosing row-wise multi-threading, the overhead of testing was 0.174177 seconds.\n",
      "You can set `force_row_wise=true` to remove the overhead.\n",
      "And if memory is not enough, you can set `force_col_wise=true`.\n",
      "[LightGBM] [Info] Total Bins 1698\n",
      "[LightGBM] [Info] Number of data points in the train set: 2662878, number of used features: 20\n",
      "[LightGBM] [Info] Start training from score 81.348670\n",
      "[LightGBM] [Warning] Found whitespace in feature_names, replace with underlines\n",
      "[LightGBM] [Info] Auto-choosing row-wise multi-threading, the overhead of testing was 0.209464 seconds.\n",
      "You can set `force_row_wise=true` to remove the overhead.\n",
      "And if memory is not enough, you can set `force_col_wise=true`.\n",
      "[LightGBM] [Info] Total Bins 1698\n",
      "[LightGBM] [Info] Number of data points in the train set: 2662879, number of used features: 20\n",
      "[LightGBM] [Info] Start training from score 81.354726\n",
      "[LightGBM] [Warning] Found whitespace in feature_names, replace with underlines\n",
      "[LightGBM] [Info] Auto-choosing row-wise multi-threading, the overhead of testing was 0.267924 seconds.\n",
      "You can set `force_row_wise=true` to remove the overhead.\n",
      "And if memory is not enough, you can set `force_col_wise=true`.\n",
      "[LightGBM] [Info] Total Bins 1698\n",
      "[LightGBM] [Info] Number of data points in the train set: 2662879, number of used features: 20\n",
      "[LightGBM] [Info] Start training from score 81.383128\n",
      "[LightGBM] [Warning] Found whitespace in feature_names, replace with underlines\n",
      "[LightGBM] [Info] Auto-choosing row-wise multi-threading, the overhead of testing was 0.125660 seconds.\n",
      "You can set `force_row_wise=true` to remove the overhead.\n",
      "And if memory is not enough, you can set `force_col_wise=true`.\n",
      "[LightGBM] [Info] Total Bins 1698\n",
      "[LightGBM] [Info] Number of data points in the train set: 2662878, number of used features: 20\n",
      "[LightGBM] [Info] Start training from score 81.348670\n",
      "[LightGBM] [Warning] Found whitespace in feature_names, replace with underlines\n",
      "[LightGBM] [Info] Auto-choosing row-wise multi-threading, the overhead of testing was 0.234034 seconds.\n",
      "You can set `force_row_wise=true` to remove the overhead.\n",
      "And if memory is not enough, you can set `force_col_wise=true`.\n",
      "[LightGBM] [Info] Total Bins 1698\n",
      "[LightGBM] [Info] Number of data points in the train set: 2662879, number of used features: 20\n",
      "[LightGBM] [Info] Start training from score 81.354726\n",
      "[LightGBM] [Warning] Found whitespace in feature_names, replace with underlines\n",
      "[LightGBM] [Info] Auto-choosing row-wise multi-threading, the overhead of testing was 0.189134 seconds.\n",
      "You can set `force_row_wise=true` to remove the overhead.\n",
      "And if memory is not enough, you can set `force_col_wise=true`.\n",
      "[LightGBM] [Info] Total Bins 1698\n",
      "[LightGBM] [Info] Number of data points in the train set: 2662879, number of used features: 20\n",
      "[LightGBM] [Info] Start training from score 81.383128\n",
      "[LightGBM] [Warning] Found whitespace in feature_names, replace with underlines\n",
      "[LightGBM] [Info] Auto-choosing col-wise multi-threading, the overhead of testing was 0.960548 seconds.\n",
      "You can set `force_col_wise=true` to remove the overhead.\n",
      "[LightGBM] [Info] Total Bins 1698\n",
      "[LightGBM] [Info] Number of data points in the train set: 2662878, number of used features: 20\n",
      "[LightGBM] [Info] Start training from score 81.348670\n",
      "[LightGBM] [Warning] Found whitespace in feature_names, replace with underlines\n",
      "[LightGBM] [Info] Auto-choosing row-wise multi-threading, the overhead of testing was 0.135097 seconds.\n",
      "You can set `force_row_wise=true` to remove the overhead.\n",
      "And if memory is not enough, you can set `force_col_wise=true`.\n",
      "[LightGBM] [Info] Total Bins 1698\n",
      "[LightGBM] [Info] Number of data points in the train set: 2662879, number of used features: 20\n",
      "[LightGBM] [Info] Start training from score 81.354726\n",
      "[LightGBM] [Warning] Found whitespace in feature_names, replace with underlines\n",
      "[LightGBM] [Info] Auto-choosing row-wise multi-threading, the overhead of testing was 0.217006 seconds.\n",
      "You can set `force_row_wise=true` to remove the overhead.\n",
      "And if memory is not enough, you can set `force_col_wise=true`.\n",
      "[LightGBM] [Info] Total Bins 1698\n",
      "[LightGBM] [Info] Number of data points in the train set: 2662879, number of used features: 20\n",
      "[LightGBM] [Info] Start training from score 81.383128\n",
      "[LightGBM] [Warning] Found whitespace in feature_names, replace with underlines\n",
      "[LightGBM] [Info] Auto-choosing row-wise multi-threading, the overhead of testing was 0.226981 seconds.\n",
      "You can set `force_row_wise=true` to remove the overhead.\n",
      "And if memory is not enough, you can set `force_col_wise=true`.\n",
      "[LightGBM] [Info] Total Bins 1698\n",
      "[LightGBM] [Info] Number of data points in the train set: 2662878, number of used features: 20\n",
      "[LightGBM] [Info] Start training from score 81.348670\n",
      "[LightGBM] [Warning] Found whitespace in feature_names, replace with underlines\n",
      "[LightGBM] [Info] Auto-choosing row-wise multi-threading, the overhead of testing was 0.221150 seconds.\n",
      "You can set `force_row_wise=true` to remove the overhead.\n",
      "And if memory is not enough, you can set `force_col_wise=true`.\n",
      "[LightGBM] [Info] Total Bins 1698\n",
      "[LightGBM] [Info] Number of data points in the train set: 2662879, number of used features: 20\n",
      "[LightGBM] [Info] Start training from score 81.354726\n",
      "[LightGBM] [Warning] Found whitespace in feature_names, replace with underlines\n",
      "[LightGBM] [Info] Auto-choosing row-wise multi-threading, the overhead of testing was 0.161803 seconds.\n",
      "You can set `force_row_wise=true` to remove the overhead.\n",
      "And if memory is not enough, you can set `force_col_wise=true`.\n",
      "[LightGBM] [Info] Total Bins 1698\n",
      "[LightGBM] [Info] Number of data points in the train set: 2662879, number of used features: 20\n",
      "[LightGBM] [Info] Start training from score 81.383128\n",
      "[LightGBM] [Warning] Found whitespace in feature_names, replace with underlines\n",
      "[LightGBM] [Info] Auto-choosing col-wise multi-threading, the overhead of testing was 0.749645 seconds.\n",
      "You can set `force_col_wise=true` to remove the overhead.\n",
      "[LightGBM] [Info] Total Bins 1698\n",
      "[LightGBM] [Info] Number of data points in the train set: 2662878, number of used features: 20\n",
      "[LightGBM] [Info] Start training from score 81.348670\n",
      "[LightGBM] [Warning] Found whitespace in feature_names, replace with underlines\n",
      "[LightGBM] [Info] Auto-choosing row-wise multi-threading, the overhead of testing was 0.245293 seconds.\n",
      "You can set `force_row_wise=true` to remove the overhead.\n",
      "And if memory is not enough, you can set `force_col_wise=true`.\n",
      "[LightGBM] [Info] Total Bins 1698\n",
      "[LightGBM] [Info] Number of data points in the train set: 2662879, number of used features: 20\n",
      "[LightGBM] [Info] Start training from score 81.354726\n",
      "[LightGBM] [Warning] Found whitespace in feature_names, replace with underlines\n",
      "[LightGBM] [Info] Auto-choosing row-wise multi-threading, the overhead of testing was 0.253673 seconds.\n",
      "You can set `force_row_wise=true` to remove the overhead.\n",
      "And if memory is not enough, you can set `force_col_wise=true`.\n",
      "[LightGBM] [Info] Total Bins 1698\n",
      "[LightGBM] [Info] Number of data points in the train set: 2662879, number of used features: 20\n",
      "[LightGBM] [Info] Start training from score 81.383128\n",
      "[LightGBM] [Warning] Found whitespace in feature_names, replace with underlines\n",
      "[LightGBM] [Info] Auto-choosing row-wise multi-threading, the overhead of testing was 0.423350 seconds.\n",
      "You can set `force_row_wise=true` to remove the overhead.\n",
      "And if memory is not enough, you can set `force_col_wise=true`.\n",
      "[LightGBM] [Info] Total Bins 1698\n",
      "[LightGBM] [Info] Number of data points in the train set: 2662878, number of used features: 20\n",
      "[LightGBM] [Info] Start training from score 81.348670\n",
      "[LightGBM] [Warning] Found whitespace in feature_names, replace with underlines\n",
      "[LightGBM] [Info] Auto-choosing col-wise multi-threading, the overhead of testing was 1.009930 seconds.\n",
      "You can set `force_col_wise=true` to remove the overhead.\n",
      "[LightGBM] [Info] Total Bins 1698\n",
      "[LightGBM] [Info] Number of data points in the train set: 2662879, number of used features: 20\n",
      "[LightGBM] [Info] Start training from score 81.354726\n",
      "[LightGBM] [Warning] Found whitespace in feature_names, replace with underlines\n",
      "[LightGBM] [Info] Auto-choosing row-wise multi-threading, the overhead of testing was 0.340159 seconds.\n",
      "You can set `force_row_wise=true` to remove the overhead.\n",
      "And if memory is not enough, you can set `force_col_wise=true`.\n",
      "[LightGBM] [Info] Total Bins 1698\n",
      "[LightGBM] [Info] Number of data points in the train set: 2662879, number of used features: 20\n",
      "[LightGBM] [Info] Start training from score 81.383128\n",
      "[LightGBM] [Warning] Found whitespace in feature_names, replace with underlines\n",
      "[LightGBM] [Info] Auto-choosing row-wise multi-threading, the overhead of testing was 0.478837 seconds.\n",
      "You can set `force_row_wise=true` to remove the overhead.\n",
      "And if memory is not enough, you can set `force_col_wise=true`.\n",
      "[LightGBM] [Info] Total Bins 1698\n",
      "[LightGBM] [Info] Number of data points in the train set: 2662878, number of used features: 20\n",
      "[LightGBM] [Info] Start training from score 81.348670\n",
      "[LightGBM] [Warning] Found whitespace in feature_names, replace with underlines\n",
      "[LightGBM] [Info] Auto-choosing col-wise multi-threading, the overhead of testing was 0.414427 seconds.\n",
      "You can set `force_col_wise=true` to remove the overhead.\n",
      "[LightGBM] [Info] Total Bins 1698\n",
      "[LightGBM] [Info] Number of data points in the train set: 2662879, number of used features: 20\n",
      "[LightGBM] [Info] Start training from score 81.354726\n",
      "[LightGBM] [Warning] Found whitespace in feature_names, replace with underlines\n",
      "[LightGBM] [Info] Auto-choosing row-wise multi-threading, the overhead of testing was 0.203325 seconds.\n",
      "You can set `force_row_wise=true` to remove the overhead.\n",
      "And if memory is not enough, you can set `force_col_wise=true`.\n",
      "[LightGBM] [Info] Total Bins 1698\n",
      "[LightGBM] [Info] Number of data points in the train set: 2662879, number of used features: 20\n",
      "[LightGBM] [Info] Start training from score 81.383128\n",
      "[LightGBM] [Warning] Found whitespace in feature_names, replace with underlines\n",
      "[LightGBM] [Info] Auto-choosing row-wise multi-threading, the overhead of testing was 0.222299 seconds.\n",
      "You can set `force_row_wise=true` to remove the overhead.\n",
      "And if memory is not enough, you can set `force_col_wise=true`.\n",
      "[LightGBM] [Info] Total Bins 1698\n",
      "[LightGBM] [Info] Number of data points in the train set: 2662878, number of used features: 20\n",
      "[LightGBM] [Info] Start training from score 81.348670\n",
      "[LightGBM] [Warning] Found whitespace in feature_names, replace with underlines\n",
      "[LightGBM] [Info] Auto-choosing col-wise multi-threading, the overhead of testing was 0.553388 seconds.\n",
      "You can set `force_col_wise=true` to remove the overhead.\n",
      "[LightGBM] [Info] Total Bins 1698\n",
      "[LightGBM] [Info] Number of data points in the train set: 2662879, number of used features: 20\n",
      "[LightGBM] [Info] Start training from score 81.354726\n",
      "[LightGBM] [Warning] Found whitespace in feature_names, replace with underlines\n",
      "[LightGBM] [Info] Auto-choosing row-wise multi-threading, the overhead of testing was 0.280328 seconds.\n",
      "You can set `force_row_wise=true` to remove the overhead.\n",
      "And if memory is not enough, you can set `force_col_wise=true`.\n",
      "[LightGBM] [Info] Total Bins 1698\n",
      "[LightGBM] [Info] Number of data points in the train set: 2662879, number of used features: 20\n",
      "[LightGBM] [Info] Start training from score 81.383128\n",
      "[LightGBM] [Warning] Found whitespace in feature_names, replace with underlines\n",
      "[LightGBM] [Info] Auto-choosing row-wise multi-threading, the overhead of testing was 0.200742 seconds.\n",
      "You can set `force_row_wise=true` to remove the overhead.\n",
      "And if memory is not enough, you can set `force_col_wise=true`.\n",
      "[LightGBM] [Info] Total Bins 1698\n",
      "[LightGBM] [Info] Number of data points in the train set: 2662878, number of used features: 20\n",
      "[LightGBM] [Info] Start training from score 81.348670\n",
      "[LightGBM] [Warning] Found whitespace in feature_names, replace with underlines\n",
      "[LightGBM] [Info] Auto-choosing row-wise multi-threading, the overhead of testing was 0.247107 seconds.\n",
      "You can set `force_row_wise=true` to remove the overhead.\n",
      "And if memory is not enough, you can set `force_col_wise=true`.\n",
      "[LightGBM] [Info] Total Bins 1698\n",
      "[LightGBM] [Info] Number of data points in the train set: 2662879, number of used features: 20\n",
      "[LightGBM] [Info] Start training from score 81.354726\n",
      "[LightGBM] [Warning] Found whitespace in feature_names, replace with underlines\n",
      "[LightGBM] [Info] Auto-choosing row-wise multi-threading, the overhead of testing was 0.180586 seconds.\n",
      "You can set `force_row_wise=true` to remove the overhead.\n",
      "And if memory is not enough, you can set `force_col_wise=true`.\n",
      "[LightGBM] [Info] Total Bins 1698\n",
      "[LightGBM] [Info] Number of data points in the train set: 2662879, number of used features: 20\n",
      "[LightGBM] [Info] Start training from score 81.383128\n",
      "[LightGBM] [Warning] Found whitespace in feature_names, replace with underlines\n",
      "[LightGBM] [Info] Auto-choosing row-wise multi-threading, the overhead of testing was 0.032236 seconds.\n",
      "You can set `force_row_wise=true` to remove the overhead.\n",
      "And if memory is not enough, you can set `force_col_wise=true`.\n",
      "[LightGBM] [Info] Total Bins 1698\n",
      "[LightGBM] [Info] Number of data points in the train set: 3994318, number of used features: 20\n",
      "[LightGBM] [Info] Start training from score 81.362175\n",
      "Best parameters for LightGBM: {'learning_rate': 0.02, 'n_estimators': 1000, 'num_leaves': 40}\n",
      "Best score for LightGBM: 38.69931357683388\n"
     ]
    }
   ],
   "source": [
    "\n",
    "print(\"Running GridSearch for LightGBM...\")\n",
    "best_lgb = run_grid_search(lgb_model, lgb_params, \"LightGBM\")"
   ]
  },
  {
   "cell_type": "code",
   "execution_count": 11,
   "metadata": {},
   "outputs": [
    {
     "name": "stdout",
     "output_type": "stream",
     "text": [
      "Running GridSearch for CatBoost...\n"
     ]
    },
    {
     "name": "stdout",
     "output_type": "stream",
     "text": [
      "Best parameters for CatBoost: {'depth': 3, 'iterations': 250, 'learning_rate': 0.1}\n",
      "Best score for CatBoost: 38.71780042274688\n"
     ]
    }
   ],
   "source": [
    "\n",
    "print(\"Running GridSearch for CatBoost...\")\n",
    "best_cb = run_grid_search(cb_model, cb_params, \"CatBoost\")\n"
   ]
  },
  {
   "cell_type": "code",
   "execution_count": 12,
   "metadata": {},
   "outputs": [],
   "source": [
    "test_scaled['price_xgb'] = best_xgb.predict(test_scaled[X_cols])\n",
    "test_scaled['price_lgb'] = best_lgb.predict(test_scaled[X_cols])\n",
    "test_scaled['price_cb'] = best_cb.predict(test_scaled[X_cols])\n",
    "\n",
    "test_scaled['price_avg'] = (test_scaled['price_xgb'] + test_scaled['price_lgb'] + test_scaled['price_cb']) / 3\n",
    "\n",
    "# de log the price\n",
    "#test_scaled['price'] = np.expm1(test_scaled['price'])"
   ]
  },
  {
   "cell_type": "code",
   "execution_count": 125,
   "metadata": {},
   "outputs": [
    {
     "data": {
      "text/html": [
       "<div>\n",
       "<style scoped>\n",
       "    .dataframe tbody tr th:only-of-type {\n",
       "        vertical-align: middle;\n",
       "    }\n",
       "\n",
       "    .dataframe tbody tr th {\n",
       "        vertical-align: top;\n",
       "    }\n",
       "\n",
       "    .dataframe thead th {\n",
       "        text-align: right;\n",
       "    }\n",
       "</style>\n",
       "<table border=\"1\" class=\"dataframe\">\n",
       "  <thead>\n",
       "    <tr style=\"text-align: right;\">\n",
       "      <th></th>\n",
       "      <th>id</th>\n",
       "      <th>Price</th>\n",
       "    </tr>\n",
       "  </thead>\n",
       "  <tbody>\n",
       "    <tr>\n",
       "      <th>0</th>\n",
       "      <td>300000</td>\n",
       "      <td>83.080665</td>\n",
       "    </tr>\n",
       "    <tr>\n",
       "      <th>1</th>\n",
       "      <td>300001</td>\n",
       "      <td>82.610610</td>\n",
       "    </tr>\n",
       "  </tbody>\n",
       "</table>\n",
       "</div>"
      ],
      "text/plain": [
       "       id      Price\n",
       "0  300000  83.080665\n",
       "1  300001  82.610610"
      ]
     },
     "metadata": {},
     "output_type": "display_data"
    }
   ],
   "source": [
    "create_submission_file(test_scaled)"
   ]
  },
  {
   "cell_type": "markdown",
   "metadata": {},
   "source": [
    "#### Feature Importance for Cat Boost Regressor"
   ]
  },
  {
   "cell_type": "code",
   "execution_count": 13,
   "metadata": {},
   "outputs": [
    {
     "data": {
      "image/png": "[encoded data removed]",
      "text/plain": [
       "<Figure size 1000x600 with 1 Axes>"
      ]
     },
     "metadata": {},
     "output_type": "display_data"
    }
   ],
   "source": [
    "#plot feature importance of cat boost regressor\n",
    "\n",
    "feature_importances = pd.DataFrame(best_cb.feature_importances_, index=X_cols, columns=['importance']).sort_values('importance', ascending=False)\n",
    "\n",
    "feature_importances.plot(kind='bar', figsize=(10, 6))\n",
    "plt.title('Feature Importance')\n",
    "plt.show()"
   ]
  },
  {
   "cell_type": "code",
   "execution_count": 14,
   "metadata": {},
   "outputs": [],
   "source": [
    "from scipy.optimize import minimize\n",
    "\n",
    "\n",
    "def find_optimal_weights(best_xgb, best_cb, best_lgb, X_val, y_val):\n",
    "    \"\"\"\n",
    "    Find optimal weights for ensemble predictions of three models.\n",
    "\n",
    "    Parameters:\n",
    "    - best_xgb: Trained XGBoost model\n",
    "    - best_cb: Trained CatBoost model\n",
    "    - best_lgb: Trained LightGBM model\n",
    "    - X_val: Validation feature set (numpy array or DataFrame)\n",
    "    - y_val: True target values (numpy array or Series)\n",
    "\n",
    "    Returns:\n",
    "    - Optimal weights as a numpy array\n",
    "    \"\"\"\n",
    "    # Get model predictions\n",
    "    preds_xgb = best_xgb.predict(X_val)\n",
    "    preds_cb = best_cb.predict(X_val)\n",
    "    preds_lgb = best_lgb.predict(X_val)\n",
    "    \n",
    "    # Combine predictions into a matrix\n",
    "    preds_matrix = np.column_stack((preds_xgb, preds_cb, preds_lgb))\n",
    "\n",
    "    # Define the objective function (MSE)\n",
    "    def objective(weights):\n",
    "        # Ensure the weights sum to 1\n",
    "        weights = np.array(weights)\n",
    "        weights /= np.sum(weights)\n",
    "        # Weighted ensemble prediction\n",
    "        ensemble_preds = np.dot(preds_matrix, weights)\n",
    "        return np.mean((ensemble_preds - y_val) ** 2)\n",
    "\n",
    "    # Initial weights (equal distribution)\n",
    "    initial_weights = [1/3, 1/3, 1/3]\n",
    "\n",
    "    # Constraints: weights must sum to 1\n",
    "    constraints = ({'type': 'eq', 'fun': lambda w: np.sum(w) - 1})\n",
    "\n",
    "    # Bounds for weights: each between 0 and 1\n",
    "    bounds = [(0, 1) for _ in range(3)]\n",
    "\n",
    "    # Minimize the objective function\n",
    "    result = minimize(objective, initial_weights, bounds=bounds, constraints=constraints)\n",
    "\n",
    "    if result.success:\n",
    "        return result.x\n",
    "    else:\n",
    "        raise ValueError(\"Optimization failed: \" + result.message)"
   ]
  },
  {
   "cell_type": "code",
   "execution_count": 15,
   "metadata": {},
   "outputs": [
    {
     "data": {
      "text/plain": [
       "array([1.44328993e-15, 3.27515792e-15, 1.00000000e+00])"
      ]
     },
     "execution_count": 15,
     "metadata": {},
     "output_type": "execute_result"
    }
   ],
   "source": [
    "find_optimal_weights(best_xgb, best_cb, best_lgb, X, y)"
   ]
  },
  {
   "cell_type": "code",
   "execution_count": 18,
   "metadata": {},
   "outputs": [
    {
     "data": {
      "text/html": [
       "<div>\n",
       "<style scoped>\n",
       "    .dataframe tbody tr th:only-of-type {\n",
       "        vertical-align: middle;\n",
       "    }\n",
       "\n",
       "    .dataframe tbody tr th {\n",
       "        vertical-align: top;\n",
       "    }\n",
       "\n",
       "    .dataframe thead th {\n",
       "        text-align: right;\n",
       "    }\n",
       "</style>\n",
       "<table border=\"1\" class=\"dataframe\">\n",
       "  <thead>\n",
       "    <tr style=\"text-align: right;\">\n",
       "      <th></th>\n",
       "      <th>id</th>\n",
       "      <th>Price</th>\n",
       "    </tr>\n",
       "  </thead>\n",
       "  <tbody>\n",
       "    <tr>\n",
       "      <th>0</th>\n",
       "      <td>300000</td>\n",
       "      <td>82.239722</td>\n",
       "    </tr>\n",
       "    <tr>\n",
       "      <th>1</th>\n",
       "      <td>300001</td>\n",
       "      <td>82.361883</td>\n",
       "    </tr>\n",
       "  </tbody>\n",
       "</table>\n",
       "</div>"
      ],
      "text/plain": [
       "       id      Price\n",
       "0  300000  82.239722\n",
       "1  300001  82.361883"
      ]
     },
     "metadata": {},
     "output_type": "display_data"
    }
   ],
   "source": [
    "test_scaled['price'] = test_scaled['price_avg']\n",
    "create_submission_file(test_scaled)"
   ]
  },
  {
   "cell_type": "code",
   "execution_count": 19,
   "metadata": {},
   "outputs": [
    {
     "data": {
      "text/html": [
       "<div>\n",
       "<style scoped>\n",
       "    .dataframe tbody tr th:only-of-type {\n",
       "        vertical-align: middle;\n",
       "    }\n",
       "\n",
       "    .dataframe tbody tr th {\n",
       "        vertical-align: top;\n",
       "    }\n",
       "\n",
       "    .dataframe thead th {\n",
       "        text-align: right;\n",
       "    }\n",
       "</style>\n",
       "<table border=\"1\" class=\"dataframe\">\n",
       "  <thead>\n",
       "    <tr style=\"text-align: right;\">\n",
       "      <th></th>\n",
       "      <th>id</th>\n",
       "      <th>Price</th>\n",
       "    </tr>\n",
       "  </thead>\n",
       "  <tbody>\n",
       "    <tr>\n",
       "      <th>0</th>\n",
       "      <td>300000</td>\n",
       "      <td>81.942329</td>\n",
       "    </tr>\n",
       "    <tr>\n",
       "      <th>1</th>\n",
       "      <td>300001</td>\n",
       "      <td>82.462474</td>\n",
       "    </tr>\n",
       "  </tbody>\n",
       "</table>\n",
       "</div>"
      ],
      "text/plain": [
       "       id      Price\n",
       "0  300000  81.942329\n",
       "1  300001  82.462474"
      ]
     },
     "metadata": {},
     "output_type": "display_data"
    }
   ],
   "source": [
    "test_scaled['price'] = test_scaled['price_lgb']\n",
    "create_submission_file(test_scaled)"
   ]
  },
  {
   "cell_type": "code",
   "execution_count": null,
   "metadata": {},
   "outputs": [],
   "source": [
    "06/29/1966\n",
    "\n"
   ]
  }
 ],
 "metadata": {
  "kernelspec": {
   "display_name": ".venv",
   "language": "python",
   "name": "python3"
  },
  "language_info": {
   "codemirror_mode": {
    "name": "ipython",
    "version": 3
   },
   "file_extension": ".py",
   "mimetype": "text/x-python",
   "name": "python",
   "nbconvert_exporter": "python",
   "pygments_lexer": "ipython3",
   "version": "3.12.2"
  }
 },
 "nbformat": 4,
 "nbformat_minor": 2
}
