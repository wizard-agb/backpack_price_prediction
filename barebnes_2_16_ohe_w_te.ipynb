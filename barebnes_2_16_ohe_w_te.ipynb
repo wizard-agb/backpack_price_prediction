{
 "cells": [
  {
   "cell_type": "code",
   "execution_count": 80,
   "metadata": {
    "execution": {
     "iopub.execute_input": "2025-02-08T21:12:22.735981Z",
     "iopub.status.busy": "2025-02-08T21:12:22.735496Z",
     "iopub.status.idle": "2025-02-08T21:12:28.843126Z",
     "shell.execute_reply": "2025-02-08T21:12:28.841894Z",
     "shell.execute_reply.started": "2025-02-08T21:12:22.735944Z"
    },
    "trusted": true
   },
   "outputs": [],
   "source": [
    "import pandas as pd\n",
    "import seaborn as sns\n",
    "import numpy as np\n",
    "import matplotlib.pyplot as plt\n",
    "from datetime import datetime\n",
    "\n",
    "from sklearn.experimental import enable_iterative_imputer\n",
    "from sklearn.impute import IterativeImputer\n",
    "from sklearn.impute import KNNImputer, SimpleImputer\n",
    "from category_encoders import TargetEncoder\n",
    "from sklearn.preprocessing import OneHotEncoder, StandardScaler, KBinsDiscretizer, LabelEncoder\n",
    "from sklearn.model_selection import train_test_split, GridSearchCV, KFold, ParameterGrid\n",
    "from sklearn.decomposition import PCA\n",
    "\n",
    "\n",
    "#import knn classifier\n",
    "from sklearn.neighbors import KNeighborsClassifier\n",
    "from sklearn.ensemble import RandomForestRegressor, GradientBoostingRegressor, StackingRegressor, RandomForestClassifier\n",
    "import catboost as cb\n",
    "import xgboost as xgb\n",
    "import lightgbm as lgb\n",
    "\n",
    "from sklearn.metrics import mean_absolute_error,  mean_squared_error, r2_score, accuracy_score\n",
    "\n",
    "# import tensorflow as tf\n",
    "# from keras.models import Sequential\n",
    "# from keras.layers import Dense, Dropout\n",
    "# from tensorflow.keras.callbacks import EarlyStopping\n",
    "# from tensorflow.keras import regularizers\n",
    "# from keras import initializers\n",
    "# from keras.layers import BatchNormalization\n",
    "# from tensorflow.keras.constraints import MaxNorm\n",
    "# from kerastuner.tuners import Hyperband\n",
    "\n",
    "# from tensorflow.keras.optimizers import Adam\n",
    "\n",
    "# import shap\n",
    "# from lime import lime_tabular\n"
   ]
  },
  {
   "cell_type": "code",
   "execution_count": 81,
   "metadata": {
    "execution": {
     "iopub.execute_input": "2025-02-08T21:12:28.845929Z",
     "iopub.status.busy": "2025-02-08T21:12:28.845111Z",
     "iopub.status.idle": "2025-02-08T21:12:39.159189Z",
     "shell.execute_reply": "2025-02-08T21:12:39.157926Z",
     "shell.execute_reply.started": "2025-02-08T21:12:28.845893Z"
    },
    "trusted": true
   },
   "outputs": [],
   "source": [
    "train = pd.read_csv('data/train.csv')\n",
    "train2 = pd.read_csv('data/training_extra.csv')\n",
    "test = pd.read_csv('data/test.csv')\n"
   ]
  },
  {
   "cell_type": "code",
   "execution_count": 82,
   "metadata": {
    "execution": {
     "iopub.execute_input": "2025-02-08T21:12:39.160976Z",
     "iopub.status.busy": "2025-02-08T21:12:39.160667Z",
     "iopub.status.idle": "2025-02-08T21:12:39.665946Z",
     "shell.execute_reply": "2025-02-08T21:12:39.664804Z",
     "shell.execute_reply.started": "2025-02-08T21:12:39.160948Z"
    },
    "trusted": true
   },
   "outputs": [
    {
     "data": {
      "text/html": [
       "<div>\n",
       "<style scoped>\n",
       "    .dataframe tbody tr th:only-of-type {\n",
       "        vertical-align: middle;\n",
       "    }\n",
       "\n",
       "    .dataframe tbody tr th {\n",
       "        vertical-align: top;\n",
       "    }\n",
       "\n",
       "    .dataframe thead th {\n",
       "        text-align: right;\n",
       "    }\n",
       "</style>\n",
       "<table border=\"1\" class=\"dataframe\">\n",
       "  <thead>\n",
       "    <tr style=\"text-align: right;\">\n",
       "      <th></th>\n",
       "      <th>id</th>\n",
       "      <th>Brand</th>\n",
       "      <th>Material</th>\n",
       "      <th>Size</th>\n",
       "      <th>Compartments</th>\n",
       "      <th>Laptop Compartment</th>\n",
       "      <th>Waterproof</th>\n",
       "      <th>Style</th>\n",
       "      <th>Color</th>\n",
       "      <th>Weight Capacity (kg)</th>\n",
       "      <th>Price</th>\n",
       "    </tr>\n",
       "  </thead>\n",
       "  <tbody>\n",
       "    <tr>\n",
       "      <th>0</th>\n",
       "      <td>0</td>\n",
       "      <td>Jansport</td>\n",
       "      <td>Leather</td>\n",
       "      <td>Medium</td>\n",
       "      <td>7.0</td>\n",
       "      <td>Yes</td>\n",
       "      <td>No</td>\n",
       "      <td>Tote</td>\n",
       "      <td>Black</td>\n",
       "      <td>11.611723</td>\n",
       "      <td>112.15875</td>\n",
       "    </tr>\n",
       "    <tr>\n",
       "      <th>1</th>\n",
       "      <td>1</td>\n",
       "      <td>Jansport</td>\n",
       "      <td>Canvas</td>\n",
       "      <td>Small</td>\n",
       "      <td>10.0</td>\n",
       "      <td>Yes</td>\n",
       "      <td>Yes</td>\n",
       "      <td>Messenger</td>\n",
       "      <td>Green</td>\n",
       "      <td>27.078537</td>\n",
       "      <td>68.88056</td>\n",
       "    </tr>\n",
       "    <tr>\n",
       "      <th>2</th>\n",
       "      <td>2</td>\n",
       "      <td>Under Armour</td>\n",
       "      <td>Leather</td>\n",
       "      <td>Small</td>\n",
       "      <td>2.0</td>\n",
       "      <td>Yes</td>\n",
       "      <td>No</td>\n",
       "      <td>Messenger</td>\n",
       "      <td>Red</td>\n",
       "      <td>16.643760</td>\n",
       "      <td>39.17320</td>\n",
       "    </tr>\n",
       "    <tr>\n",
       "      <th>3</th>\n",
       "      <td>3</td>\n",
       "      <td>Nike</td>\n",
       "      <td>Nylon</td>\n",
       "      <td>Small</td>\n",
       "      <td>8.0</td>\n",
       "      <td>Yes</td>\n",
       "      <td>No</td>\n",
       "      <td>Messenger</td>\n",
       "      <td>Green</td>\n",
       "      <td>12.937220</td>\n",
       "      <td>80.60793</td>\n",
       "    </tr>\n",
       "    <tr>\n",
       "      <th>4</th>\n",
       "      <td>4</td>\n",
       "      <td>Adidas</td>\n",
       "      <td>Canvas</td>\n",
       "      <td>Medium</td>\n",
       "      <td>1.0</td>\n",
       "      <td>Yes</td>\n",
       "      <td>Yes</td>\n",
       "      <td>Messenger</td>\n",
       "      <td>Green</td>\n",
       "      <td>17.749338</td>\n",
       "      <td>86.02312</td>\n",
       "    </tr>\n",
       "  </tbody>\n",
       "</table>\n",
       "</div>"
      ],
      "text/plain": [
       "   id         Brand Material    Size  Compartments Laptop Compartment  \\\n",
       "0   0      Jansport  Leather  Medium           7.0                Yes   \n",
       "1   1      Jansport   Canvas   Small          10.0                Yes   \n",
       "2   2  Under Armour  Leather   Small           2.0                Yes   \n",
       "3   3          Nike    Nylon   Small           8.0                Yes   \n",
       "4   4        Adidas   Canvas  Medium           1.0                Yes   \n",
       "\n",
       "  Waterproof      Style  Color  Weight Capacity (kg)      Price  \n",
       "0         No       Tote  Black             11.611723  112.15875  \n",
       "1        Yes  Messenger  Green             27.078537   68.88056  \n",
       "2         No  Messenger    Red             16.643760   39.17320  \n",
       "3         No  Messenger  Green             12.937220   80.60793  \n",
       "4        Yes  Messenger  Green             17.749338   86.02312  "
      ]
     },
     "execution_count": 82,
     "metadata": {},
     "output_type": "execute_result"
    }
   ],
   "source": [
    "train = pd.concat([train, train2], axis=0)\n",
    "train.reset_index(inplace=True, drop=True)\n",
    "train.head()"
   ]
  },
  {
   "cell_type": "markdown",
   "metadata": {},
   "source": [
    "### Encode Categories"
   ]
  },
  {
   "cell_type": "code",
   "execution_count": 83,
   "metadata": {},
   "outputs": [
    {
     "data": {
      "text/plain": [
       "(3994318, 11)"
      ]
     },
     "execution_count": 83,
     "metadata": {},
     "output_type": "execute_result"
    }
   ],
   "source": [
    "train.shape"
   ]
  },
  {
   "cell_type": "code",
   "execution_count": 84,
   "metadata": {},
   "outputs": [],
   "source": [
    "cat_cols = ['Brand', 'Material', 'Size', 'Style', 'Color', 'Laptop Compartment', 'Waterproof']\n",
    "\n",
    "# fill na with 'Unknown'\n",
    "\n",
    "for col in cat_cols:\n",
    "    train[col] = train[col].fillna('Unknown')\n",
    "    test[col] = test[col].fillna('Unknown')\n",
    "\n",
    "\n",
    "# encode the categorical columns using one-hot encoding\n",
    "\n",
    "train = pd.get_dummies(train, columns=cat_cols, drop_first=True)\n",
    "test = pd.get_dummies(test, columns=cat_cols, drop_first=True)\n",
    "\n"
   ]
  },
  {
   "cell_type": "code",
   "execution_count": 85,
   "metadata": {},
   "outputs": [
    {
     "data": {
      "text/plain": [
       "(3994318, 29)"
      ]
     },
     "execution_count": 85,
     "metadata": {},
     "output_type": "execute_result"
    }
   ],
   "source": [
    "train.shape"
   ]
  },
  {
   "cell_type": "markdown",
   "metadata": {},
   "source": [
    "### Feature Imputation"
   ]
  },
  {
   "cell_type": "code",
   "execution_count": 86,
   "metadata": {},
   "outputs": [
    {
     "data": {
      "text/plain": [
       "Index(['id', 'Compartments', 'Weight Capacity (kg)', 'Price', 'Brand_Jansport',\n",
       "       'Brand_Nike', 'Brand_Puma', 'Brand_Under Armour', 'Brand_Unknown',\n",
       "       'Material_Leather', 'Material_Nylon', 'Material_Polyester',\n",
       "       'Material_Unknown', 'Size_Medium', 'Size_Small', 'Size_Unknown',\n",
       "       'Style_Messenger', 'Style_Tote', 'Style_Unknown', 'Color_Blue',\n",
       "       'Color_Gray', 'Color_Green', 'Color_Pink', 'Color_Red', 'Color_Unknown',\n",
       "       'Laptop Compartment_Unknown', 'Laptop Compartment_Yes',\n",
       "       'Waterproof_Unknown', 'Waterproof_Yes'],\n",
       "      dtype='object')"
      ]
     },
     "execution_count": 86,
     "metadata": {},
     "output_type": "execute_result"
    }
   ],
   "source": [
    "train.columns"
   ]
  },
  {
   "cell_type": "code",
   "execution_count": 87,
   "metadata": {
    "execution": {
     "iopub.execute_input": "2025-02-08T21:12:42.077877Z",
     "iopub.status.busy": "2025-02-08T21:12:42.077477Z",
     "iopub.status.idle": "2025-02-08T21:12:42.087775Z",
     "shell.execute_reply": "2025-02-08T21:12:42.086597Z",
     "shell.execute_reply.started": "2025-02-08T21:12:42.077839Z"
    },
    "trusted": true
   },
   "outputs": [
    {
     "name": "stdout",
     "output_type": "stream",
     "text": [
      "1808\n",
      "0\n"
     ]
    }
   ],
   "source": [
    "print(train.isna().sum().sum())\n",
    "\n",
    "num_cols = [col for col in train.columns if train[col].dtype in ['float64', 'int64']]\n",
    "num_cols.remove('Price')\n",
    "\n",
    "for col in num_cols:\n",
    "    train.fillna({col:train[col].mean()}, inplace=True)\n",
    "    test.fillna({col:test[col].mean()}, inplace=True)\n",
    "print(train.isna().sum().sum())"
   ]
  },
  {
   "cell_type": "markdown",
   "metadata": {},
   "source": [
    "### Feature Engineering "
   ]
  },
  {
   "cell_type": "code",
   "execution_count": 88,
   "metadata": {},
   "outputs": [],
   "source": [
    "def engineer_features(df):\n",
    "\n",
    "    df['weight_capacity_rounded'] = df['Weight Capacity (kg)'].apply(lambda x: round(x))\n",
    "    \n",
    "    binner = KBinsDiscretizer(n_bins=4, encode='ordinal', strategy='quantile')\n",
    "    binned_values = binner.fit_transform(df[['weight_capacity_rounded']]).astype(int).flatten()\n",
    "\n",
    "    # Create bin category column\n",
    "    bin_col_name = f\"weight_capacity_bins\"\n",
    "    df[bin_col_name] = binned_values\n",
    "\n",
    "    df['weight_capacity_ratio'] = df['Weight Capacity (kg)'] / df['Weight Capacity (kg)'].max()\n",
    "\n",
    "    df['weight_capacity_squared'] = df['Weight Capacity (kg)'] ** 2\n",
    "\n",
    "    df['weight_capacity_cubed'] = df['Weight Capacity (kg)'] ** 3\n",
    "\n",
    "    df['weight_to_compartments'] = df['Weight Capacity (kg)'] / (df['Compartments'] + 1)\n",
    "\n",
    "    df['compartments_bins'] = pd.cut(df['Compartments'], bins=[0, 2, 5, 10, np.inf], labels=['Few', 'Moderate', 'Many', 'Very Many'])\n",
    "    df['compartments_bins'] = df['compartments_bins'].astype('category').cat.codes\n",
    "\n",
    "    columns = [col.lower() for col in df.columns]\n",
    "    df.columns = columns\n",
    "\n",
    "    df = df.rename(columns={'weight capacity (kg)':'weight_capacity'})\n",
    "\n",
    "    return df \n",
    "\n",
    "train = engineer_features(train)\n",
    "test = engineer_features(test)\n",
    "\n"
   ]
  },
  {
   "cell_type": "markdown",
   "metadata": {},
   "source": [
    "### Target Encoding"
   ]
  },
  {
   "cell_type": "code",
   "execution_count": 89,
   "metadata": {},
   "outputs": [],
   "source": [
    "te_cols = ['compartments', 'weight_capacity', 'weight_capacity_rounded',\n",
    "       'weight_capacity_bins', 'weight_capacity_ratio',\n",
    "       'weight_capacity_squared', 'weight_capacity_cubed',\n",
    "       'weight_to_compartments', 'compartments_bins']\n",
    "\n",
    "new_feature_cols = [feature + '_te' for feature in te_cols]"
   ]
  },
  {
   "cell_type": "code",
   "execution_count": 90,
   "metadata": {},
   "outputs": [
    {
     "name": "stdout",
     "output_type": "stream",
     "text": [
      "compartments\n",
      "weight_capacity\n",
      "weight_capacity_rounded\n",
      "weight_capacity_bins\n",
      "weight_capacity_ratio\n",
      "weight_capacity_squared\n",
      "weight_capacity_cubed\n",
      "weight_to_compartments\n",
      "compartments_bins\n"
     ]
    }
   ],
   "source": [
    "\n",
    "# Initialize KFold\n",
    "n_splits = 5\n",
    "kf = KFold(n_splits=n_splits, shuffle=True, random_state=42)\n",
    "\n",
    "for col in te_cols:\n",
    "    print(col)\n",
    "    # Create a new column to store the encoded values\n",
    "    train[col + '_te'] = np.nan\n",
    "\n",
    "    # Out-of-fold target encoding\n",
    "    for train_idx, val_idx in kf.split(train):\n",
    "        # Split data\n",
    "        train_set, val_set = train.iloc[train_idx], train.iloc[val_idx]\n",
    "        \n",
    "        # Calculate category means on training data\n",
    "        category_means = train_set.groupby(col)['price'].mean()\n",
    "        \n",
    "        # Encode validation fold using category means from the training fold\n",
    "        train.loc[val_idx, col + '_te'] = train.loc[val_idx, col].map(category_means)\n",
    "\n",
    "    # Fill any NaN values with the overall mean target\n",
    "    overall_mean = train[col].mean()\n",
    "    \n",
    "    train.fillna({col + '_te':overall_mean}, inplace=True)  # Fill any NaN values with the overall mean target \n",
    "\n",
    "    final_category_means = train.groupby(col)['price'].mean()\n",
    "\n",
    "    # Map the test set categories using the train set means\n",
    "    test[col + '_te'] = test[col].map(final_category_means)\n",
    "\n",
    "    # Fill NaN values in the test set with the overall mean\n",
    "    test.fillna({col + '_te':overall_mean}, inplace=True)"
   ]
  },
  {
   "cell_type": "code",
   "execution_count": null,
   "metadata": {},
   "outputs": [],
   "source": [
    "# encoder = TargetEncoder(cols=te_cols)\n",
    "\n",
    "# train[new_feature_cols] = None\n",
    "# train[new_feature_cols] = encoder.fit_transform(train[te_cols], train['price'])\n",
    "\n",
    "# test[new_feature_cols] = None\n",
    "# test[new_feature_cols] = encoder.transform(test[te_cols])"
   ]
  },
  {
   "cell_type": "markdown",
   "metadata": {},
   "source": [
    "### Scaling"
   ]
  },
  {
   "cell_type": "code",
   "execution_count": 91,
   "metadata": {},
   "outputs": [],
   "source": [
    "feature_cols = [col for col in train.columns if col not in ['id', 'price']]\n"
   ]
  },
  {
   "cell_type": "code",
   "execution_count": 92,
   "metadata": {},
   "outputs": [],
   "source": [
    "scaler = StandardScaler()\n",
    "\n",
    "train[feature_cols] = scaler.fit_transform(train[feature_cols])\n",
    "test[feature_cols] = scaler.transform(test[feature_cols])"
   ]
  },
  {
   "cell_type": "markdown",
   "metadata": {},
   "source": [
    "### PCA"
   ]
  },
  {
   "cell_type": "code",
   "execution_count": 93,
   "metadata": {},
   "outputs": [
    {
     "data": {
      "image/png": "[encoded data removed]",
      "text/plain": [
       "<Figure size 800x500 with 1 Axes>"
      ]
     },
     "metadata": {},
     "output_type": "display_data"
    }
   ],
   "source": [
    "# Apply PCA\n",
    "pca = PCA().fit(train[feature_cols])\n",
    "\n",
    "# Plot the cumulative explained variance\n",
    "plt.figure(figsize=(8, 5))\n",
    "plt.plot(range(1, len(pca.explained_variance_ratio_) + 1), \n",
    "         pca.explained_variance_ratio_.cumsum(), marker='o')\n",
    "plt.xlabel('Number of Components')\n",
    "plt.ylabel('Cumulative Explained Variance')\n",
    "plt.title('Explained Variance by Number of Components')\n",
    "plt.grid(True)\n",
    "plt.show()\n"
   ]
  },
  {
   "cell_type": "code",
   "execution_count": 100,
   "metadata": {},
   "outputs": [],
   "source": [
    "pca = PCA(n_components=26)  # Reduce to 19 components\n",
    "X_pca = pca.fit_transform(train[feature_cols])\n",
    "X_pca = pd.DataFrame(X_pca, columns=[f'PC_{i}' for i in range(1, X_pca.shape[1] + 1)])\n",
    "\n",
    "test_pca = pca.transform(test[feature_cols])\n",
    "test_pca = pd.DataFrame(test_pca, columns=[f'PC_{i}' for i in range(1, test_pca.shape[1] + 1)])\n",
    "\n",
    "train = pd.concat([train, X_pca], axis=1)\n",
    "test = pd.concat([test, test_pca], axis=1)"
   ]
  },
  {
   "cell_type": "markdown",
   "metadata": {},
   "source": [
    "### CB Model"
   ]
  },
  {
   "cell_type": "code",
   "execution_count": 101,
   "metadata": {
    "execution": {
     "iopub.execute_input": "2025-02-08T21:13:03.842289Z",
     "iopub.status.busy": "2025-02-08T21:13:03.841898Z",
     "iopub.status.idle": "2025-02-08T21:13:03.853320Z",
     "shell.execute_reply": "2025-02-08T21:13:03.851874Z",
     "shell.execute_reply.started": "2025-02-08T21:13:03.842251Z"
    },
    "trusted": true
   },
   "outputs": [],
   "source": [
    "\n",
    "X = None \n",
    "y = None \n",
    "\n",
    "cb_params = {\n",
    "    'iterations': [500],\n",
    "    'learning_rate': [0.1],\n",
    "    'depth': [4]\n",
    "}\n",
    "\n",
    "cb_model = cb.CatBoostRegressor(verbose=0, random_state=42, loss_function='RMSE')\n",
    "\n",
    "\n",
    "# Grid search setups\n",
    "def run_grid_search(model, params, name, scoring='neg_root_mean_squared_error', X=X, y=y):\n",
    "    grid = GridSearchCV(model, params, cv=3, scoring=scoring, n_jobs=-1)\n",
    "    grid.fit(X, y)\n",
    "    print(f\"Best parameters for {name}: {grid.best_params_}\")\n",
    "    print(f\"Best score for {name}: {-grid.best_score_}\")\n",
    "    return grid.best_estimator_\n"
   ]
  },
  {
   "cell_type": "code",
   "execution_count": null,
   "metadata": {},
   "outputs": [
    {
     "name": "stdout",
     "output_type": "stream",
     "text": [
      "Best parameters for CatBoost: {'depth': 4, 'iterations': 500, 'learning_rate': 0.1}\n",
      "Best score for CatBoost: 38.764955479905815\n"
     ]
    },
    {
     "ename": "",
     "evalue": "",
     "output_type": "error",
     "traceback": [
      "\u001b[1;31mThe Kernel crashed while executing code in the current cell or a previous cell. \n",
      "\u001b[1;31mPlease review the code in the cell(s) to identify a possible cause of the failure. \n",
      "\u001b[1;31mClick <a href='https://aka.ms/vscodeJupyterKernelCrash'>here</a> for more info. \n",
      "\u001b[1;31mView Jupyter <a href='command:jupyter.viewOutput'>log</a> for further details."
     ]
    }
   ],
   "source": [
    "X = X_pca#train[feature_cols]#\n",
    "y = train['price']\n",
    "best_cb = run_grid_search(cb_model, cb_params, \"CatBoost\", X=X, y=y)\n"
   ]
  },
  {
   "cell_type": "code",
   "execution_count": 96,
   "metadata": {},
   "outputs": [
    {
     "data": {
      "image/png": "[encoded data removed]",
      "text/plain": [
       "<Figure size 1000x600 with 1 Axes>"
      ]
     },
     "metadata": {},
     "output_type": "display_data"
    }
   ],
   "source": [
    "# plot feature importance of cat boost regressor\n",
    "\n",
    "feature_importances = pd.DataFrame(best_cb.feature_importances_, index=X.columns, columns=['importance']).sort_values('importance', ascending=False)\n",
    "\n",
    "feature_importances.plot(kind='bar', figsize=(10, 6))\n",
    "plt.title('Feature Importance')\n",
    "plt.show()"
   ]
  },
  {
   "cell_type": "code",
   "execution_count": 97,
   "metadata": {
    "trusted": true
   },
   "outputs": [],
   "source": [
    "test['price'] = best_cb.predict(test[X.columns])"
   ]
  },
  {
   "cell_type": "code",
   "execution_count": 98,
   "metadata": {},
   "outputs": [],
   "source": [
    "def create_submission_file(sub_df):\n",
    "    submission = sub_df[['id', 'price']]\n",
    "    submission = submission.rename(columns={'price': 'Price'})\n",
    "    print(submission.isna().sum().sum())\n",
    "    display(submission.head())\n",
    "    file_name = datetime.now().strftime('submissions/submission_%Y%m%d_%H%M.csv')\n",
    "    submission.to_csv(file_name, index = False)"
   ]
  },
  {
   "cell_type": "code",
   "execution_count": 99,
   "metadata": {},
   "outputs": [
    {
     "name": "stdout",
     "output_type": "stream",
     "text": [
      "0\n"
     ]
    },
    {
     "data": {
      "text/html": [
       "<div>\n",
       "<style scoped>\n",
       "    .dataframe tbody tr th:only-of-type {\n",
       "        vertical-align: middle;\n",
       "    }\n",
       "\n",
       "    .dataframe tbody tr th {\n",
       "        vertical-align: top;\n",
       "    }\n",
       "\n",
       "    .dataframe thead th {\n",
       "        text-align: right;\n",
       "    }\n",
       "</style>\n",
       "<table border=\"1\" class=\"dataframe\">\n",
       "  <thead>\n",
       "    <tr style=\"text-align: right;\">\n",
       "      <th></th>\n",
       "      <th>id</th>\n",
       "      <th>Price</th>\n",
       "    </tr>\n",
       "  </thead>\n",
       "  <tbody>\n",
       "    <tr>\n",
       "      <th>0</th>\n",
       "      <td>300000</td>\n",
       "      <td>81.114782</td>\n",
       "    </tr>\n",
       "    <tr>\n",
       "      <th>1</th>\n",
       "      <td>300001</td>\n",
       "      <td>82.929185</td>\n",
       "    </tr>\n",
       "    <tr>\n",
       "      <th>2</th>\n",
       "      <td>300002</td>\n",
       "      <td>88.517817</td>\n",
       "    </tr>\n",
       "    <tr>\n",
       "      <th>3</th>\n",
       "      <td>300003</td>\n",
       "      <td>77.156247</td>\n",
       "    </tr>\n",
       "    <tr>\n",
       "      <th>4</th>\n",
       "      <td>300004</td>\n",
       "      <td>79.833510</td>\n",
       "    </tr>\n",
       "  </tbody>\n",
       "</table>\n",
       "</div>"
      ],
      "text/plain": [
       "       id      Price\n",
       "0  300000  81.114782\n",
       "1  300001  82.929185\n",
       "2  300002  88.517817\n",
       "3  300003  77.156247\n",
       "4  300004  79.833510"
      ]
     },
     "metadata": {},
     "output_type": "display_data"
    }
   ],
   "source": [
    "create_submission_file(test)"
   ]
  },
  {
   "cell_type": "code",
   "execution_count": null,
   "metadata": {},
   "outputs": [],
   "source": []
  }
 ],
 "metadata": {
  "kaggle": {
   "accelerator": "none",
   "dataSources": [
    {
     "databundleVersionId": 10995111,
     "sourceId": 90274,
     "sourceType": "competition"
    }
   ],
   "dockerImageVersionId": 30886,
   "isGpuEnabled": false,
   "isInternetEnabled": false,
   "language": "python",
   "sourceType": "notebook"
  },
  "kernelspec": {
   "display_name": ".venv",
   "language": "python",
   "name": "python3"
  },
  "language_info": {
   "codemirror_mode": {
    "name": "ipython",
    "version": 3
   },
   "file_extension": ".py",
   "mimetype": "text/x-python",
   "name": "python",
   "nbconvert_exporter": "python",
   "pygments_lexer": "ipython3",
   "version": "3.12.2"
  }
 },
 "nbformat": 4,
 "nbformat_minor": 4
}
