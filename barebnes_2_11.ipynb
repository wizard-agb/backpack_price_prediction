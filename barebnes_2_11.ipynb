{
 "cells": [
  {
   "cell_type": "code",
   "execution_count": 22,
   "metadata": {
    "execution": {
     "iopub.execute_input": "2025-02-08T21:12:22.735981Z",
     "iopub.status.busy": "2025-02-08T21:12:22.735496Z",
     "iopub.status.idle": "2025-02-08T21:12:28.843126Z",
     "shell.execute_reply": "2025-02-08T21:12:28.841894Z",
     "shell.execute_reply.started": "2025-02-08T21:12:22.735944Z"
    },
    "trusted": true
   },
   "outputs": [],
   "source": [
    "import pandas as pd\n",
    "import seaborn as sns\n",
    "import numpy as np\n",
    "import matplotlib.pyplot as plt\n",
    "from datetime import datetime\n",
    "\n",
    "from sklearn.experimental import enable_iterative_imputer\n",
    "from sklearn.impute import IterativeImputer\n",
    "from sklearn.impute import KNNImputer, SimpleImputer\n",
    "from category_encoders import TargetEncoder\n",
    "from sklearn.preprocessing import OneHotEncoder, StandardScaler, KBinsDiscretizer, LabelEncoder\n",
    "from sklearn.model_selection import train_test_split, GridSearchCV, KFold, ParameterGrid\n",
    "from sklearn.decomposition import PCA\n",
    "\n",
    "\n",
    "#import knn classifier\n",
    "from sklearn.neighbors import KNeighborsClassifier\n",
    "from sklearn.ensemble import RandomForestRegressor, GradientBoostingRegressor, StackingRegressor, RandomForestClassifier\n",
    "import catboost as cb\n",
    "import xgboost as xgb\n",
    "import lightgbm as lgb\n",
    "\n",
    "from sklearn.metrics import mean_absolute_error,  mean_squared_error, r2_score, accuracy_score\n",
    "\n",
    "# import tensorflow as tf\n",
    "# from keras.models import Sequential\n",
    "# from keras.layers import Dense, Dropout\n",
    "# from tensorflow.keras.callbacks import EarlyStopping\n",
    "# from tensorflow.keras import regularizers\n",
    "# from keras import initializers\n",
    "# from keras.layers import BatchNormalization\n",
    "# from tensorflow.keras.constraints import MaxNorm\n",
    "# from kerastuner.tuners import Hyperband\n",
    "\n",
    "# from tensorflow.keras.optimizers import Adam\n",
    "\n",
    "# import shap\n",
    "# from lime import lime_tabular\n"
   ]
  },
  {
   "cell_type": "code",
   "execution_count": 23,
   "metadata": {
    "execution": {
     "iopub.execute_input": "2025-02-08T21:12:28.845929Z",
     "iopub.status.busy": "2025-02-08T21:12:28.845111Z",
     "iopub.status.idle": "2025-02-08T21:12:39.159189Z",
     "shell.execute_reply": "2025-02-08T21:12:39.157926Z",
     "shell.execute_reply.started": "2025-02-08T21:12:28.845893Z"
    },
    "trusted": true
   },
   "outputs": [],
   "source": [
    "train = pd.read_csv('data/train.csv')\n",
    "train2 = pd.read_csv('data/training_extra.csv')\n",
    "test = pd.read_csv('data/test.csv')\n"
   ]
  },
  {
   "cell_type": "code",
   "execution_count": 24,
   "metadata": {
    "execution": {
     "iopub.execute_input": "2025-02-08T21:12:39.160976Z",
     "iopub.status.busy": "2025-02-08T21:12:39.160667Z",
     "iopub.status.idle": "2025-02-08T21:12:39.665946Z",
     "shell.execute_reply": "2025-02-08T21:12:39.664804Z",
     "shell.execute_reply.started": "2025-02-08T21:12:39.160948Z"
    },
    "trusted": true
   },
   "outputs": [
    {
     "data": {
      "text/html": [
       "<div>\n",
       "<style scoped>\n",
       "    .dataframe tbody tr th:only-of-type {\n",
       "        vertical-align: middle;\n",
       "    }\n",
       "\n",
       "    .dataframe tbody tr th {\n",
       "        vertical-align: top;\n",
       "    }\n",
       "\n",
       "    .dataframe thead th {\n",
       "        text-align: right;\n",
       "    }\n",
       "</style>\n",
       "<table border=\"1\" class=\"dataframe\">\n",
       "  <thead>\n",
       "    <tr style=\"text-align: right;\">\n",
       "      <th></th>\n",
       "      <th>id</th>\n",
       "      <th>Brand</th>\n",
       "      <th>Material</th>\n",
       "      <th>Size</th>\n",
       "      <th>Compartments</th>\n",
       "      <th>Laptop Compartment</th>\n",
       "      <th>Waterproof</th>\n",
       "      <th>Style</th>\n",
       "      <th>Color</th>\n",
       "      <th>Weight Capacity (kg)</th>\n",
       "      <th>Price</th>\n",
       "    </tr>\n",
       "  </thead>\n",
       "  <tbody>\n",
       "    <tr>\n",
       "      <th>0</th>\n",
       "      <td>0</td>\n",
       "      <td>Jansport</td>\n",
       "      <td>Leather</td>\n",
       "      <td>Medium</td>\n",
       "      <td>7.0</td>\n",
       "      <td>Yes</td>\n",
       "      <td>No</td>\n",
       "      <td>Tote</td>\n",
       "      <td>Black</td>\n",
       "      <td>11.611723</td>\n",
       "      <td>112.15875</td>\n",
       "    </tr>\n",
       "    <tr>\n",
       "      <th>1</th>\n",
       "      <td>1</td>\n",
       "      <td>Jansport</td>\n",
       "      <td>Canvas</td>\n",
       "      <td>Small</td>\n",
       "      <td>10.0</td>\n",
       "      <td>Yes</td>\n",
       "      <td>Yes</td>\n",
       "      <td>Messenger</td>\n",
       "      <td>Green</td>\n",
       "      <td>27.078537</td>\n",
       "      <td>68.88056</td>\n",
       "    </tr>\n",
       "    <tr>\n",
       "      <th>2</th>\n",
       "      <td>2</td>\n",
       "      <td>Under Armour</td>\n",
       "      <td>Leather</td>\n",
       "      <td>Small</td>\n",
       "      <td>2.0</td>\n",
       "      <td>Yes</td>\n",
       "      <td>No</td>\n",
       "      <td>Messenger</td>\n",
       "      <td>Red</td>\n",
       "      <td>16.643760</td>\n",
       "      <td>39.17320</td>\n",
       "    </tr>\n",
       "    <tr>\n",
       "      <th>3</th>\n",
       "      <td>3</td>\n",
       "      <td>Nike</td>\n",
       "      <td>Nylon</td>\n",
       "      <td>Small</td>\n",
       "      <td>8.0</td>\n",
       "      <td>Yes</td>\n",
       "      <td>No</td>\n",
       "      <td>Messenger</td>\n",
       "      <td>Green</td>\n",
       "      <td>12.937220</td>\n",
       "      <td>80.60793</td>\n",
       "    </tr>\n",
       "    <tr>\n",
       "      <th>4</th>\n",
       "      <td>4</td>\n",
       "      <td>Adidas</td>\n",
       "      <td>Canvas</td>\n",
       "      <td>Medium</td>\n",
       "      <td>1.0</td>\n",
       "      <td>Yes</td>\n",
       "      <td>Yes</td>\n",
       "      <td>Messenger</td>\n",
       "      <td>Green</td>\n",
       "      <td>17.749338</td>\n",
       "      <td>86.02312</td>\n",
       "    </tr>\n",
       "  </tbody>\n",
       "</table>\n",
       "</div>"
      ],
      "text/plain": [
       "   id         Brand Material    Size  Compartments Laptop Compartment  \\\n",
       "0   0      Jansport  Leather  Medium           7.0                Yes   \n",
       "1   1      Jansport   Canvas   Small          10.0                Yes   \n",
       "2   2  Under Armour  Leather   Small           2.0                Yes   \n",
       "3   3          Nike    Nylon   Small           8.0                Yes   \n",
       "4   4        Adidas   Canvas  Medium           1.0                Yes   \n",
       "\n",
       "  Waterproof      Style  Color  Weight Capacity (kg)      Price  \n",
       "0         No       Tote  Black             11.611723  112.15875  \n",
       "1        Yes  Messenger  Green             27.078537   68.88056  \n",
       "2         No  Messenger    Red             16.643760   39.17320  \n",
       "3         No  Messenger  Green             12.937220   80.60793  \n",
       "4        Yes  Messenger  Green             17.749338   86.02312  "
      ]
     },
     "execution_count": 24,
     "metadata": {},
     "output_type": "execute_result"
    }
   ],
   "source": [
    "train = pd.concat([train, train2], axis=0)\n",
    "train.reset_index(inplace=True, drop=True)\n",
    "train.head()"
   ]
  },
  {
   "cell_type": "markdown",
   "metadata": {},
   "source": [
    "### Encode Categories"
   ]
  },
  {
   "cell_type": "code",
   "execution_count": 25,
   "metadata": {
    "execution": {
     "iopub.execute_input": "2025-02-08T21:12:39.667148Z",
     "iopub.status.busy": "2025-02-08T21:12:39.666862Z",
     "iopub.status.idle": "2025-02-08T21:12:42.076351Z",
     "shell.execute_reply": "2025-02-08T21:12:42.075288Z",
     "shell.execute_reply.started": "2025-02-08T21:12:39.667122Z"
    },
    "trusted": true
   },
   "outputs": [],
   "source": [
    "binary_cols = ['Laptop Compartment', 'Waterproof']\n",
    "\n",
    "mapping = {'Yes': 1, 'No': 0}\n",
    "\n",
    "train[binary_cols] = train[binary_cols].map(mapping.get)\n",
    "test[binary_cols] = test[binary_cols].map(mapping.get)"
   ]
  },
  {
   "cell_type": "code",
   "execution_count": 26,
   "metadata": {},
   "outputs": [],
   "source": [
    "cat_cols = ['Brand', 'Material', 'Size', 'Style', 'Color',  'Laptop Compartment', 'Waterproof']\n",
    "\n",
    "# group by brand, material, size, style, color, laptop compartment, waterproof and average price\n",
    "map_dicts = {}\n",
    "\n",
    "for col in cat_cols:\n",
    "    map_dict = (train.groupby([col])['Price'].mean().reset_index().sort_values(by='Price', ascending=True))\n",
    "    map_dict = dict(zip(map_dict[col], range(0,map_dict.shape[0])))\n",
    "\n",
    "    new_col = col + '_enc'\n",
    "\n",
    "    train[new_col] = train[col].map(map_dict)\n",
    "    test[new_col] = test[col].map(map_dict)\n",
    "    \n",
    "    reverse_map_dict = dict(zip(map_dict.values(), map_dict.keys()))\n",
    "    map_dicts[new_col] = reverse_map_dict"
   ]
  },
  {
   "cell_type": "markdown",
   "metadata": {},
   "source": [
    "### Feature Imputation"
   ]
  },
  {
   "cell_type": "code",
   "execution_count": 27,
   "metadata": {
    "execution": {
     "iopub.execute_input": "2025-02-08T21:12:42.077877Z",
     "iopub.status.busy": "2025-02-08T21:12:42.077477Z",
     "iopub.status.idle": "2025-02-08T21:12:42.087775Z",
     "shell.execute_reply": "2025-02-08T21:12:42.086597Z",
     "shell.execute_reply.started": "2025-02-08T21:12:42.077839Z"
    },
    "trusted": true
   },
   "outputs": [
    {
     "name": "stdout",
     "output_type": "stream",
     "text": [
      "1514126\n",
      "563302\n"
     ]
    }
   ],
   "source": [
    "print(train.isna().sum().sum())\n",
    "imputer = IterativeImputer(max_iter=10, random_state=42)\n",
    "\n",
    "num_cols = [col for col in train.columns if train[col].dtype in ['float64', 'int64']]\n",
    "num_cols.remove('Price')\n",
    "\n",
    "train[num_cols] = imputer.fit_transform(train[num_cols])\n",
    "test[num_cols] = imputer.transform(test[num_cols])\n",
    "print(train.isna().sum().sum())"
   ]
  },
  {
   "cell_type": "code",
   "execution_count": 28,
   "metadata": {},
   "outputs": [
    {
     "name": "stdout",
     "output_type": "stream",
     "text": [
      "563302\n",
      "0\n"
     ]
    }
   ],
   "source": [
    "# reverse fill in the categorical columns after imputation\n",
    "print(train.isna().sum().sum())\n",
    "\n",
    "for col in cat_cols:\n",
    "    new_col = col + '_enc'\n",
    "    # round the values to nearest integer\n",
    "    train[new_col]  = train[new_col].apply(lambda x: round(x))\n",
    "    test[new_col]  = test[new_col].apply(lambda x: round(x))\n",
    "\n",
    "    train[col] = train[new_col].map(map_dicts[new_col])\n",
    "    test[col] = test[new_col].map(map_dicts[new_col])\n",
    "\n",
    "print(train.isna().sum().sum())"
   ]
  },
  {
   "cell_type": "code",
   "execution_count": 29,
   "metadata": {},
   "outputs": [],
   "source": [
    "# checkpoint \n",
    "\n",
    "train.to_csv('data/train_imputed_.csv', index=False)\n",
    "test.to_csv('data/test_imputed_.csv', index=False)"
   ]
  },
  {
   "cell_type": "markdown",
   "metadata": {},
   "source": [
    "### Feature Engineering "
   ]
  },
  {
   "cell_type": "code",
   "execution_count": 30,
   "metadata": {},
   "outputs": [],
   "source": [
    "train = pd.read_csv('data/train_imputed_.csv')\n",
    "test = pd.read_csv('data/test_imputed_.csv')"
   ]
  },
  {
   "cell_type": "code",
   "execution_count": 31,
   "metadata": {},
   "outputs": [],
   "source": [
    "def engineer_features(df):\n",
    "\n",
    "    df['weight_capacity_rounded'] = df['Weight Capacity (kg)'].apply(lambda x: round(x))\n",
    "    \n",
    "    binner = KBinsDiscretizer(n_bins=4, encode='ordinal', strategy='quantile')\n",
    "    binned_values = binner.fit_transform(df[['weight_capacity_rounded']]).astype(int).flatten()\n",
    "\n",
    "    # Create bin category column\n",
    "    bin_col_name = f\"weight_capacity_bins\"\n",
    "    df[bin_col_name] = binned_values\n",
    "\n",
    "    df['brand_material'] = df['Brand'].astype(str) + '_' + df['Material'].astype(str)\n",
    "    df['brand_material'] = df['brand_material'].astype('category').cat.codes\n",
    "\n",
    "    df['brand_size'] = df['Brand'].astype(str) + '_' + df['Size'].astype(str)\n",
    "    df['brand_size'] = df['brand_size'].astype('category').cat.codes\n",
    "\n",
    "    df['style_size'] = df['Style'].astype(str) + '_' + df['Size'].astype(str)\n",
    "    df['style_size'] = df['style_size'].astype('category').cat.codes\n",
    "\n",
    "    df['style_material'] = df['Style'].astype(str) + '_' + df['Material'].astype(str)\n",
    "    df['style_material'] = df['style_material'].astype('category').cat.codes\n",
    "\n",
    "    df['color_material'] = df['Color'].astype(str) + '_' + df['Material'].astype(str)\n",
    "    df['color_material'] = df['color_material'].astype('category').cat.codes\n",
    "\n",
    "    df['weight_capacity_ratio'] = df['Weight Capacity (kg)'] / df['Weight Capacity (kg)'].max()\n",
    "\n",
    "    df['weight_to_compartments'] = df['Weight Capacity (kg)'] / (df['Compartments'] + 1)\n",
    "\n",
    "\n",
    "    df['compartments_bins'] = pd.cut(df['Compartments'], bins=[0, 2, 5, 10, np.inf], labels=['Few', 'Moderate', 'Many', 'Very Many'])\n",
    "    df['compartments_bins'] = df['compartments_bins'].astype('category').cat.codes\n",
    "\n",
    "    #dark vs light color\n",
    "    mapping = {'Blue': '1', 'Gray': '1', 'Black': '1', 'Green': '0', 'Pink': '0', 'Red': '0'}\n",
    "    df['color_cat'] = df['Color'].map(mapping.get)\n",
    "    df['color_cat'] = df['color_cat'].astype(int)\n",
    "\n",
    "    columns = [col.lower() for col in df.columns]\n",
    "    df.columns = columns\n",
    "\n",
    "    df = df.rename(columns={'weight capacity (kg)':'weight_capacity'})\n",
    "\n",
    "    df['brand_avg_weight_capacity'] = df.groupby('brand')['weight_capacity'].transform('mean')\n",
    "    df['style_avg_weight_capacity'] = df.groupby('style')['weight_capacity'].transform('mean')\n",
    "    df['color_avg_weight_capacity'] = df.groupby('color')['weight_capacity'].transform('mean')\n",
    "    df['compartments_avg_weight_capacity'] = df.groupby('compartments')['weight_capacity'].transform('mean')\n",
    "    df['size_avg_weight_capacity'] = df.groupby('size')['weight_capacity'].transform('mean')\n",
    "\n",
    "    df = df.drop(columns=['brand', 'material', 'size', 'style', 'color'])\n",
    "\n",
    "    return df \n",
    "\n",
    "train = engineer_features(train.copy())\n",
    "test = engineer_features(test.copy())\n",
    "\n"
   ]
  },
  {
   "cell_type": "markdown",
   "metadata": {},
   "source": [
    "### Target Encoding"
   ]
  },
  {
   "cell_type": "code",
   "execution_count": 32,
   "metadata": {},
   "outputs": [],
   "source": [
    "feature_cols = [col for col in train.columns if col not in ['id', 'price']]\n",
    "new_feature_cols = [feature + '_te' for feature in feature_cols]"
   ]
  },
  {
   "cell_type": "code",
   "execution_count": 33,
   "metadata": {},
   "outputs": [],
   "source": [
    "encoder = TargetEncoder(cols=feature_cols, smoothing=10)\n",
    "\n",
    "train[new_feature_cols] = None\n",
    "train[new_feature_cols] = encoder.fit_transform(train[feature_cols], train['price'])\n",
    "\n",
    "test[new_feature_cols] = None\n",
    "test[new_feature_cols] = encoder.transform(test[feature_cols])"
   ]
  },
  {
   "cell_type": "markdown",
   "metadata": {},
   "source": [
    "### Scaling"
   ]
  },
  {
   "cell_type": "code",
   "execution_count": 34,
   "metadata": {},
   "outputs": [],
   "source": [
    "feature_cols = [col for col in train.columns if col not in ['id', 'price']]\n"
   ]
  },
  {
   "cell_type": "code",
   "execution_count": 35,
   "metadata": {},
   "outputs": [],
   "source": [
    "scaler = StandardScaler()\n",
    "\n",
    "train[feature_cols] = scaler.fit_transform(train[feature_cols])\n",
    "test[feature_cols] = scaler.transform(test[feature_cols])"
   ]
  },
  {
   "cell_type": "markdown",
   "metadata": {},
   "source": [
    "### PCA"
   ]
  },
  {
   "cell_type": "code",
   "execution_count": 13,
   "metadata": {},
   "outputs": [
    {
     "data": {
      "image/png": "[encoded data removed]",
      "text/plain": [
       "<Figure size 800x500 with 1 Axes>"
      ]
     },
     "metadata": {},
     "output_type": "display_data"
    }
   ],
   "source": [
    "# Apply PCA\n",
    "pca = PCA().fit(train[feature_cols])\n",
    "\n",
    "# Plot the cumulative explained variance\n",
    "plt.figure(figsize=(8, 5))\n",
    "plt.plot(range(1, len(pca.explained_variance_ratio_) + 1), \n",
    "         pca.explained_variance_ratio_.cumsum(), marker='o')\n",
    "plt.xlabel('Number of Components')\n",
    "plt.ylabel('Cumulative Explained Variance')\n",
    "plt.title('Explained Variance by Number of Components')\n",
    "plt.grid(True)\n",
    "plt.show()\n"
   ]
  },
  {
   "cell_type": "code",
   "execution_count": 14,
   "metadata": {},
   "outputs": [],
   "source": [
    "pca = PCA(n_components=12)  # Reduce to 19 components\n",
    "X_pca = pca.fit_transform(train[feature_cols])\n",
    "X_pca = pd.DataFrame(X_pca, columns=[f'PC_{i}' for i in range(1, X_pca.shape[1] + 1)])\n",
    "\n",
    "test_pca = pca.transform(test[feature_cols])\n",
    "test_pca = pd.DataFrame(test_pca, columns=[f'PC_{i}' for i in range(1, test_pca.shape[1] + 1)])\n",
    "\n",
    "train = pd.concat([train, X_pca], axis=1)\n",
    "test = pd.concat([test, test_pca], axis=1)"
   ]
  },
  {
   "cell_type": "markdown",
   "metadata": {},
   "source": [
    "### CB Model"
   ]
  },
  {
   "cell_type": "code",
   "execution_count": 36,
   "metadata": {
    "execution": {
     "iopub.execute_input": "2025-02-08T21:13:03.842289Z",
     "iopub.status.busy": "2025-02-08T21:13:03.841898Z",
     "iopub.status.idle": "2025-02-08T21:13:03.853320Z",
     "shell.execute_reply": "2025-02-08T21:13:03.851874Z",
     "shell.execute_reply.started": "2025-02-08T21:13:03.842251Z"
    },
    "trusted": true
   },
   "outputs": [],
   "source": [
    "\n",
    "X = None \n",
    "y = None \n",
    "\n",
    "cb_params = {\n",
    "    'iterations': [500],\n",
    "    'learning_rate': [0.1],\n",
    "    'depth': [4]\n",
    "}\n",
    "\n",
    "cb_model = cb.CatBoostRegressor(verbose=0, random_state=42, loss_function='RMSE')\n",
    "\n",
    "\n",
    "# Grid search setups\n",
    "def run_grid_search(model, params, name, scoring='neg_root_mean_squared_error', X=X, y=y):\n",
    "    grid = GridSearchCV(model, params, cv=3, scoring=scoring, n_jobs=-1)\n",
    "    grid.fit(X, y)\n",
    "    print(f\"Best parameters for {name}: {grid.best_params_}\")\n",
    "    print(f\"Best score for {name}: {-grid.best_score_}\")\n",
    "    return grid.best_estimator_\n"
   ]
  },
  {
   "cell_type": "code",
   "execution_count": 37,
   "metadata": {},
   "outputs": [
    {
     "name": "stdout",
     "output_type": "stream",
     "text": [
      "Best parameters for CatBoost: {'depth': 4, 'iterations': 500, 'learning_rate': 0.1}\n",
      "Best score for CatBoost: 25.53144891150119\n"
     ]
    }
   ],
   "source": [
    "X = train[feature_cols]#X_pca#\n",
    "y = train['price']\n",
    "best_cb = run_grid_search(cb_model, cb_params, \"CatBoost\", X=X, y=y)\n"
   ]
  },
  {
   "cell_type": "code",
   "execution_count": 38,
   "metadata": {},
   "outputs": [
    {
     "data": {
      "image/png": "[encoded data removed]",
      "text/plain": [
       "<Figure size 1000x600 with 1 Axes>"
      ]
     },
     "metadata": {},
     "output_type": "display_data"
    }
   ],
   "source": [
    "# plot feature importance of cat boost regressor\n",
    "\n",
    "feature_importances = pd.DataFrame(best_cb.feature_importances_, index=X.columns, columns=['importance']).sort_values('importance', ascending=False)\n",
    "\n",
    "feature_importances.plot(kind='bar', figsize=(10, 6))\n",
    "plt.title('Feature Importance')\n",
    "plt.show()"
   ]
  },
  {
   "cell_type": "code",
   "execution_count": 48,
   "metadata": {
    "trusted": true
   },
   "outputs": [],
   "source": [
    "test['price_te'] = best_cb.predict(test[X.columns])"
   ]
  },
  {
   "cell_type": "code",
   "execution_count": 49,
   "metadata": {},
   "outputs": [
    {
     "name": "stdout",
     "output_type": "stream",
     "text": [
      "Best parameters for CatBoost: {'depth': 4, 'iterations': 500, 'learning_rate': 0.1}\n",
      "Best score for CatBoost: 38.89916220991614\n"
     ]
    }
   ],
   "source": [
    "feature_cols = [col for col in train.columns if col not in ['id', 'price'] and '_te' not in col]\n",
    "\n",
    "X = train[feature_cols]#X_pca#\n",
    "y = train['price']\n",
    "best_cb = run_grid_search(cb_model, cb_params, \"CatBoost\", X=X, y=y)\n"
   ]
  },
  {
   "cell_type": "code",
   "execution_count": 50,
   "metadata": {},
   "outputs": [],
   "source": [
    "test['price_no_te'] = best_cb.predict(test[X.columns])"
   ]
  },
  {
   "cell_type": "code",
   "execution_count": 52,
   "metadata": {},
   "outputs": [
    {
     "name": "stdout",
     "output_type": "stream",
     "text": [
      "Best parameters for CatBoost: {'depth': 4, 'iterations': 500, 'learning_rate': 0.1}\n",
      "Best score for CatBoost: 38.91184745590298\n"
     ]
    }
   ],
   "source": [
    "X = X_pca\n",
    "y = train['price']\n",
    "\n",
    "best_cb = run_grid_search(cb_model, cb_params, \"CatBoost\", X=X, y=y)\n"
   ]
  },
  {
   "cell_type": "code",
   "execution_count": 51,
   "metadata": {},
   "outputs": [],
   "source": [
    "test['price_pca'] = best_cb.predict(test[X.columns])"
   ]
  },
  {
   "cell_type": "code",
   "execution_count": 53,
   "metadata": {},
   "outputs": [],
   "source": [
    "test['price'] = test[['price_no_te', 'price_te', 'price_pca']].mean(axis=1)"
   ]
  },
  {
   "cell_type": "code",
   "execution_count": 54,
   "metadata": {},
   "outputs": [],
   "source": [
    "def create_submission_file(sub_df):\n",
    "    submission = sub_df[['id', 'price']]\n",
    "    submission = submission.rename(columns={'price': 'Price'})\n",
    "    print(submission.isna().sum().sum())\n",
    "    display(submission.head())\n",
    "    file_name = datetime.now().strftime('submissions/submission_%Y%m%d_%H%M.csv')\n",
    "    submission.to_csv(file_name, index = False)"
   ]
  },
  {
   "cell_type": "code",
   "execution_count": 55,
   "metadata": {},
   "outputs": [
    {
     "name": "stdout",
     "output_type": "stream",
     "text": [
      "0\n"
     ]
    },
    {
     "data": {
      "text/html": [
       "<div>\n",
       "<style scoped>\n",
       "    .dataframe tbody tr th:only-of-type {\n",
       "        vertical-align: middle;\n",
       "    }\n",
       "\n",
       "    .dataframe tbody tr th {\n",
       "        vertical-align: top;\n",
       "    }\n",
       "\n",
       "    .dataframe thead th {\n",
       "        text-align: right;\n",
       "    }\n",
       "</style>\n",
       "<table border=\"1\" class=\"dataframe\">\n",
       "  <thead>\n",
       "    <tr style=\"text-align: right;\">\n",
       "      <th></th>\n",
       "      <th>id</th>\n",
       "      <th>Price</th>\n",
       "    </tr>\n",
       "  </thead>\n",
       "  <tbody>\n",
       "    <tr>\n",
       "      <th>0</th>\n",
       "      <td>300000.0</td>\n",
       "      <td>77.483869</td>\n",
       "    </tr>\n",
       "    <tr>\n",
       "      <th>1</th>\n",
       "      <td>300001.0</td>\n",
       "      <td>95.126020</td>\n",
       "    </tr>\n",
       "    <tr>\n",
       "      <th>2</th>\n",
       "      <td>300002.0</td>\n",
       "      <td>88.238544</td>\n",
       "    </tr>\n",
       "    <tr>\n",
       "      <th>3</th>\n",
       "      <td>300003.0</td>\n",
       "      <td>73.252448</td>\n",
       "    </tr>\n",
       "    <tr>\n",
       "      <th>4</th>\n",
       "      <td>300004.0</td>\n",
       "      <td>79.048614</td>\n",
       "    </tr>\n",
       "  </tbody>\n",
       "</table>\n",
       "</div>"
      ],
      "text/plain": [
       "         id      Price\n",
       "0  300000.0  77.483869\n",
       "1  300001.0  95.126020\n",
       "2  300002.0  88.238544\n",
       "3  300003.0  73.252448\n",
       "4  300004.0  79.048614"
      ]
     },
     "metadata": {},
     "output_type": "display_data"
    }
   ],
   "source": [
    "create_submission_file(test)"
   ]
  },
  {
   "cell_type": "code",
   "execution_count": 47,
   "metadata": {},
   "outputs": [
    {
     "name": "stdout",
     "output_type": "stream",
     "text": [
      "Running GridSearch for LightGBM...\n",
      "[LightGBM] [Warning] Found whitespace in feature_names, replace with underlines\n",
      "[LightGBM] [Warning] Found whitespace in feature_names, replace with underlines\n",
      "[LightGBM] [Warning] Found whitespace in feature_names, replace with underlines\n",
      "[LightGBM] [Info] Auto-choosing row-wise multi-threading, the overhead of testing was 0.137891 seconds.\n",
      "You can set `force_row_wise=true` to remove the overhead.\n",
      "And if memory is not enough, you can set `force_col_wise=true`.\n",
      "[LightGBM] [Info] Total Bins 1940\n",
      "[LightGBM] [Info] Number of data points in the train set: 2662879, number of used features: 54\n",
      "[LightGBM] [Info] Start training from score 81.383128\n",
      "[LightGBM] [Info] Auto-choosing row-wise multi-threading, the overhead of testing was 0.135100 seconds.\n",
      "You can set `force_row_wise=true` to remove the overhead.\n",
      "And if memory is not enough, you can set `force_col_wise=true`.\n",
      "[LightGBM] [Info] Total Bins 1940\n",
      "[LightGBM] [Info] Number of data points in the train set: 2662879, number of used features: 54\n",
      "[LightGBM] [Info] Start training from score 81.354726\n",
      "[LightGBM] [Info] Auto-choosing row-wise multi-threading, the overhead of testing was 0.184355 seconds.\n",
      "You can set `force_row_wise=true` to remove the overhead.\n",
      "And if memory is not enough, you can set `force_col_wise=true`.\n",
      "[LightGBM] [Info] Total Bins 1940\n",
      "[LightGBM] [Info] Number of data points in the train set: 2662878, number of used features: 54\n",
      "[LightGBM] [Info] Start training from score 81.348670\n",
      "[LightGBM] [Warning] Found whitespace in feature_names, replace with underlines\n",
      "[LightGBM] [Info] Auto-choosing row-wise multi-threading, the overhead of testing was 0.094145 seconds.\n",
      "You can set `force_row_wise=true` to remove the overhead.\n",
      "And if memory is not enough, you can set `force_col_wise=true`.\n",
      "[LightGBM] [Info] Total Bins 1940\n",
      "[LightGBM] [Info] Number of data points in the train set: 3994318, number of used features: 54\n",
      "[LightGBM] [Info] Start training from score 81.362175\n",
      "Best parameters for LightGBM: {'learning_rate': 0.1, 'n_estimators': 500, 'num_leaves': 40}\n",
      "Best score for LightGBM: 25.386937069882578\n"
     ]
    }
   ],
   "source": [
    "lgb_params = {\n",
    "    'n_estimators': [500],\n",
    "    'learning_rate': [0.1],\n",
    "    'num_leaves': [40]\n",
    "}\n",
    "\n",
    "lgb_model = lgb.LGBMRegressor(random_state=42, objective='regression', metric='rmse')\n",
    "\n",
    "print(\"Running GridSearch for LightGBM...\")\n",
    "best_lgb = run_grid_search(lgb_model, lgb_params, \"LightGBM\", X=X, y=y)"
   ]
  },
  {
   "cell_type": "code",
   "execution_count": 89,
   "metadata": {},
   "outputs": [
    {
     "name": "stdout",
     "output_type": "stream",
     "text": [
      "[LightGBM] [Info] Auto-choosing row-wise multi-threading, the overhead of testing was 0.025095 seconds.\n",
      "You can set `force_row_wise=true` to remove the overhead.\n",
      "And if memory is not enough, you can set `force_col_wise=true`.\n",
      "[LightGBM] [Info] Total Bins 646\n",
      "[LightGBM] [Info] Number of data points in the train set: 2662878, number of used features: 8\n",
      "[LightGBM] [Info] Auto-choosing row-wise multi-threading, the overhead of testing was 0.028655 seconds.\n",
      "You can set `force_row_wise=true` to remove the overhead.\n",
      "And if memory is not enough, you can set `force_col_wise=true`.\n",
      "[LightGBM] [Info] Total Bins 646\n",
      "[LightGBM] [Info] Auto-choosing row-wise multi-threading, the overhead of testing was 0.024697 seconds.\n",
      "You can set `force_row_wise=true` to remove the overhead.\n",
      "And if memory is not enough, you can set `force_col_wise=true`.\n",
      "[LightGBM] [Info] Total Bins 646\n",
      "[LightGBM] [Info] Number of data points in the train set: 2662879, number of used features: 8\n",
      "[LightGBM] [Info] Number of data points in the train set: 2662879, number of used features: 8\n",
      "[LightGBM] [Info] Start training from score 81.348670\n",
      "[LightGBM] [Info] Start training from score 81.383128\n",
      "[LightGBM] [Info] Start training from score 81.354726\n",
      "[LightGBM] [Info] Auto-choosing row-wise multi-threading, the overhead of testing was 0.039092 seconds.\n",
      "You can set `force_row_wise=true` to remove the overhead.\n",
      "And if memory is not enough, you can set `force_col_wise=true`.\n",
      "[LightGBM] [Info] Total Bins 646\n",
      "[LightGBM] [Info] Number of data points in the train set: 2662879, number of used features: 8\n",
      "[LightGBM] [Info] Auto-choosing row-wise multi-threading, the overhead of testing was 0.055028 seconds.\n",
      "You can set `force_row_wise=true` to remove the overhead.\n",
      "And if memory is not enough, you can set `force_col_wise=true`.\n",
      "[LightGBM] [Info] Total Bins 646\n",
      "[LightGBM] [Info] Number of data points in the train set: 2662879, number of used features: 8\n",
      "[LightGBM] [Info] Auto-choosing row-wise multi-threading, the overhead of testing was 0.040525 seconds.\n",
      "You can set `force_row_wise=true` to remove the overhead.\n",
      "And if memory is not enough, you can set `force_col_wise=true`.\n",
      "[LightGBM] [Info] Total Bins 646\n",
      "[LightGBM] [Info] Number of data points in the train set: 2662878, number of used features: 8\n",
      "[LightGBM] [Info] Start training from score 81.383128\n",
      "[LightGBM] [Info] Start training from score 81.354726\n",
      "[LightGBM] [Info] Start training from score 81.348670\n",
      "[LightGBM] [Info] Auto-choosing row-wise multi-threading, the overhead of testing was 0.020841 seconds.\n",
      "You can set `force_row_wise=true` to remove the overhead.\n",
      "And if memory is not enough, you can set `force_col_wise=true`.\n",
      "[LightGBM] [Info] Total Bins 646\n",
      "[LightGBM] [Info] Number of data points in the train set: 3994318, number of used features: 8\n",
      "[LightGBM] [Info] Start training from score 81.362175\n",
      "Best parameters for LightGBM: {'learning_rate': 0.1, 'n_estimators': 500, 'num_leaves': 40}\n",
      "Best score for LightGBM: 38.91319407515227\n"
     ]
    }
   ],
   "source": [
    "X = train[final_features]\n",
    "y = train['price']\n",
    "\n",
    "best_cb = run_grid_search(cb_model, cb_params, \"CatBoost\", X=X, y=y)"
   ]
  },
  {
   "cell_type": "markdown",
   "metadata": {},
   "source": [
    "### Neural Network"
   ]
  },
  {
   "cell_type": "code",
   "execution_count": null,
   "metadata": {},
   "outputs": [],
   "source": [
    "train_features = train[final_features]\n",
    "test_features = test[final_features]\n",
    "\n",
    "train_labels = train['price']"
   ]
  },
  {
   "cell_type": "code",
   "execution_count": null,
   "metadata": {},
   "outputs": [],
   "source": [
    "def build_model(hp):\n",
    "\n",
    "  model = Sequential()\n",
    "\n",
    "  # 0.3 to 0.4\n",
    "  hp_dropout_1 = hp.Float('rate', min_value=0.3, max_value=0.4, step=0.1)\n",
    "  model.add(BatchNormalization())\n",
    "  model.add(Dropout(hp_dropout_1, input_shape=(train_features.shape[1],)))\n",
    "\n",
    "  # Tune the number of dense layers\n",
    "  for i in range(hp.Int('num_layers', 1, 3)):\n",
    "\n",
    "\n",
    "    '''\n",
    "    iterations of tuning nodes in each layer\n",
    "    '''\n",
    "    # hp_units = hp.Int('units_'+str(i), min_value=440, max_value=490, step=10)\n",
    "    hp_units = hp.Int('units_'+str(i), min_value=440, max_value=490, step=10)\n",
    "\n",
    "    # get max norm penalty for kernel for each layer\n",
    "    # hp.Choice('maxnorm_kernel_constraint_'+str(i), values=[4.0, 5.0, 7.0, 10.0, 100.0])\n",
    "    hp_penalty = hp.Choice('maxnorm_kernel_constraint_'+str(i), values=[3.0, 4.0, 5.0, 7.0])\n",
    "\n",
    "    # hp_activation_function = hp.Choice('activation_function_'+str(i), values=['relu','leaky_relu','elu'])\n",
    "    hp_activation_function = hp.Choice('activation_function_'+str(i), values=['elu'])\n",
    "\n",
    "    model.add(Dense(units=hp_units, activation=hp_activation_function, kernel_constraint=MaxNorm(max_value=hp_penalty)))\n",
    "    model.add(BatchNormalization())\n",
    "\n",
    "\n",
    "    # .3 to .5\n",
    "    hp_dropout_2 = hp.Float('rate_'+str(i), min_value=0.3, max_value=0.4, step=0.1)\n",
    "    model.add(Dropout(hp_dropout_2))\n",
    "\n",
    "  # Add dense output layer\n",
    "  model.add(Dense(1, activation='linear'))\n",
    "\n",
    "  # Tune the learning rate for the optimizer\n",
    "  hp_learning_rate = hp.Choice('learning_rate', values=[1e-2, 1e-3])\n",
    "\n",
    "  model.compile(optimizer=Adam(learning_rate=hp_learning_rate),\n",
    "                loss='mse',\n",
    "                metrics=[tf.keras.metrics.RootMeanSquaredError()])\n",
    "\n",
    "  return model"
   ]
  },
  {
   "cell_type": "code",
   "execution_count": null,
   "metadata": {},
   "outputs": [],
   "source": [
    "\n",
    "# Define the early stopping criteria\n",
    "early_stopping = EarlyStopping(\n",
    "    monitor='val_loss',    # Monitor the validation loss\n",
    "    min_delta=0.001,       # Minimum change to qualify as an improvement\n",
    "    patience=10,           # How many epochs to wait before stopping\n",
    "    restore_best_weights=True, # Restores model weights from the epoch with the best value of the monitored metric.\n",
    ")\n",
    "\n",
    "tuner = Hyperband(\n",
    "    build_model,\n",
    "    objective='val_loss',\n",
    "    max_epochs=200,\n",
    "    factor=3, # factor that determines the number of halvings in the successive halving\n",
    "    directory='hyperband_model_2_tuning',\n",
    "    project_name='keras_model'\n",
    ")\n",
    "\n",
    "tuner.search(train_features, train_labels, epochs=200, validation_split=0.2, callbacks=[early_stopping])\n"
   ]
  },
  {
   "cell_type": "code",
   "execution_count": null,
   "metadata": {},
   "outputs": [],
   "source": [
    "best_model = tuner.get_best_models(num_models=1)[0]\n",
    "best_hyperparameters = tuner.get_best_hyperparameters(num_trials=1)[0]\n",
    "\n",
    "\n",
    "# Print the best hyperparameters\n",
    "print('Best hyperparameters:', best_hyperparameters.values)\n"
   ]
  },
  {
   "cell_type": "code",
   "execution_count": null,
   "metadata": {},
   "outputs": [],
   "source": [
    "preds = best_model.predict(test[train_features.columns].values)\n",
    "test['price'] = preds.flatten()"
   ]
  },
  {
   "cell_type": "code",
   "execution_count": null,
   "metadata": {
    "trusted": true
   },
   "outputs": [],
   "source": []
  }
 ],
 "metadata": {
  "kaggle": {
   "accelerator": "none",
   "dataSources": [
    {
     "databundleVersionId": 10995111,
     "sourceId": 90274,
     "sourceType": "competition"
    }
   ],
   "dockerImageVersionId": 30886,
   "isGpuEnabled": false,
   "isInternetEnabled": false,
   "language": "python",
   "sourceType": "notebook"
  },
  "kernelspec": {
   "display_name": ".venv",
   "language": "python",
   "name": "python3"
  },
  "language_info": {
   "codemirror_mode": {
    "name": "ipython",
    "version": 3
   },
   "file_extension": ".py",
   "mimetype": "text/x-python",
   "name": "python",
   "nbconvert_exporter": "python",
   "pygments_lexer": "ipython3",
   "version": "3.12.2"
  }
 },
 "nbformat": 4,
 "nbformat_minor": 4
}
