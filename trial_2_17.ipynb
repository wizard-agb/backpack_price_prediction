{
 "cells": [
  {
   "cell_type": "markdown",
   "metadata": {},
   "source": [
    "So far I have tried an XGBoost, CatBoost, and LGBRegressor model. I have tried different combinations of target encoded features, and have also created a number of engineered features. I am .7 RMSE away from the top results. What should I do to improve my score?\n",
    "\n",
    "I keep coming to a point of an ensemble model using different train features. This might be interesting because I have seen largely different scores between the models. \n",
    "\n",
    "The code feels very messy right now because iterations have not been well documented. \n",
    "\n",
    "The one hot encoding worked well and the k-folds target encoding also worked well. Also filling null category values with 'Unknown' has worked well. \n",
    "\n",
    "What technique should I try next? \n",
    "\n",
    "I will try to combine different results. \n",
    "\n",
    "    - PCA analysis on the full set of target encoded data CatBoost model\n",
    "    - CatBoost on target encoded dataset without PCA\n",
    "    - XGBoost on PCA\n",
    "    - XGBoost on full dataset"
   ]
  },
  {
   "cell_type": "code",
   "execution_count": 15,
   "metadata": {},
   "outputs": [],
   "source": [
    "import pandas as pd\n",
    "import seaborn as sns\n",
    "import numpy as np\n",
    "import matplotlib.pyplot as plt\n",
    "from datetime import datetime\n",
    "\n",
    "from sklearn.experimental import enable_iterative_imputer\n",
    "from sklearn.impute import IterativeImputer\n",
    "from sklearn.impute import KNNImputer, SimpleImputer\n",
    "from sklearn.linear_model import LinearRegression\n",
    "from category_encoders import TargetEncoder\n",
    "from sklearn.preprocessing import OneHotEncoder, StandardScaler, KBinsDiscretizer, LabelEncoder\n",
    "from sklearn.model_selection import train_test_split, GridSearchCV, KFold, ParameterGrid\n",
    "from sklearn.decomposition import PCA\n",
    "\n",
    "\n",
    "#import knn classifier\n",
    "from sklearn.neighbors import KNeighborsClassifier\n",
    "from sklearn.ensemble import RandomForestRegressor, GradientBoostingRegressor, StackingRegressor, RandomForestClassifier\n",
    "import catboost as cb\n",
    "import xgboost as xgb\n",
    "import lightgbm as lgb\n",
    "\n",
    "from sklearn.metrics import mean_absolute_error,  mean_squared_error, r2_score, accuracy_score, root_mean_squared_error"
   ]
  },
  {
   "cell_type": "code",
   "execution_count": 16,
   "metadata": {},
   "outputs": [],
   "source": [
    "train = pd.read_csv('data/train.csv')\n",
    "train2 = pd.read_csv('data/training_extra.csv')\n",
    "test = pd.read_csv('data/test.csv')\n"
   ]
  },
  {
   "cell_type": "code",
   "execution_count": 17,
   "metadata": {},
   "outputs": [],
   "source": [
    "train = pd.concat([train, train2], axis=0)\n",
    "train.reset_index(inplace=True, drop=True)"
   ]
  },
  {
   "cell_type": "markdown",
   "metadata": {},
   "source": [
    "### Encode Categories"
   ]
  },
  {
   "cell_type": "markdown",
   "metadata": {},
   "source": [
    "One Hot Encode categories and fill NaN with 'Unknown'"
   ]
  },
  {
   "cell_type": "code",
   "execution_count": 18,
   "metadata": {},
   "outputs": [],
   "source": [
    "cat_cols = ['Brand', 'Material', 'Size', 'Style', 'Color', 'Laptop Compartment', 'Waterproof']\n",
    "\n",
    "# fill na with 'Unknown'\n",
    "\n",
    "for col in cat_cols:\n",
    "    train[col] = train[col].fillna('Unknown')\n",
    "    test[col] = test[col].fillna('Unknown')\n",
    "\n",
    "\n",
    "# encode the categorical columns using one-hot encoding\n",
    "\n",
    "train_ohe = pd.get_dummies(train, columns=cat_cols, drop_first=False)\n",
    "test_ohe = pd.get_dummies(test, columns=cat_cols, drop_first=False)\n",
    "\n",
    "train = pd.concat([train[cat_cols], train_ohe], axis=1)\n",
    "test = pd.concat([test[cat_cols], test_ohe], axis=1)\n",
    "\n"
   ]
  },
  {
   "cell_type": "markdown",
   "metadata": {},
   "source": [
    "Label Encoding Categories too"
   ]
  },
  {
   "cell_type": "code",
   "execution_count": 19,
   "metadata": {},
   "outputs": [],
   "source": [
    "cat_cols = ['Brand', 'Material', 'Size', 'Style', 'Color',  'Laptop Compartment', 'Waterproof']\n",
    "\n",
    "# group by brand, material, size, style, color, laptop compartment, waterproof and average price\n",
    "\n",
    "for col in cat_cols:\n",
    "    map_dict = (train.groupby([col])['Price'].mean().reset_index().sort_values(by='Price', ascending=True))\n",
    "    map_dict = dict(zip(map_dict[col], range(0,map_dict.shape[0])))\n",
    "\n",
    "    new_col = col + '_enc'\n",
    "\n",
    "    train[new_col] = train[col].map(map_dict)\n",
    "    test[new_col] = test[col].map(map_dict)\n",
    "    "
   ]
  },
  {
   "cell_type": "markdown",
   "metadata": {},
   "source": [
    "### Impute Features\n",
    "\n",
    "impute any missing values"
   ]
  },
  {
   "cell_type": "code",
   "execution_count": 20,
   "metadata": {},
   "outputs": [
    {
     "name": "stdout",
     "output_type": "stream",
     "text": [
      "1808\n",
      "0\n"
     ]
    }
   ],
   "source": [
    "print(train.isna().sum().sum())\n",
    "\n",
    "num_cols = [col for col in train.columns if train[col].dtype in ['float64', 'int64']]\n",
    "num_cols.remove('Price')\n",
    "\n",
    "for col in num_cols:\n",
    "    train.fillna({col:train[col].mean()}, inplace=True)\n",
    "    test.fillna({col:test[col].mean()}, inplace=True)\n",
    "    \n",
    "print(train.isna().sum().sum())"
   ]
  },
  {
   "cell_type": "markdown",
   "metadata": {},
   "source": [
    "### Feature Engineering\n",
    "\n",
    "standardize columns and features "
   ]
  },
  {
   "cell_type": "code",
   "execution_count": 21,
   "metadata": {},
   "outputs": [],
   "source": [
    "def engineer_features(df):\n",
    "\n",
    "    columns = [col.lower() for col in df.columns]\n",
    "    df.columns = columns\n",
    "\n",
    "    df = df.rename(columns={'weight capacity (kg)':'weight_capacity'})\n",
    "\n",
    "\n",
    "    df['weight_capacity_rounded'] = df['weight_capacity'].apply(lambda x: round(x))\n",
    "    \n",
    "    binner = KBinsDiscretizer(n_bins=4, encode='ordinal', strategy='quantile')\n",
    "    binned_values = binner.fit_transform(df[['weight_capacity_rounded']]).astype(int).flatten()\n",
    "\n",
    "    # Create bin category column\n",
    "    bin_col_name = f\"weight_capacity_bins\"\n",
    "    df[bin_col_name] = binned_values\n",
    "\n",
    "    df['weight_capacity_ratio'] = df['weight_capacity'] / df['weight_capacity'].max()\n",
    "\n",
    "    df['weight_capacity_squared'] = df['weight_capacity'] ** 2\n",
    "\n",
    "    df['weight_capacity_cubed'] = df['weight_capacity'] ** 3\n",
    "\n",
    "    df['weight_to_compartments'] = df['weight_capacity'] / (df['compartments'] + 1)\n",
    "\n",
    "    df['compartments_bins'] = pd.cut(df['compartments'], bins=[0, 2, 5, 10, np.inf], labels=['Few', 'Moderate', 'Many', 'Very Many'])\n",
    "    df['compartments_bins'] = df['compartments_bins'].astype('category').cat.codes\n",
    "\n",
    "    # interaction terms\n",
    "    df['brand_material'] = df['brand'].astype(str) + '_' + df['material'].astype(str)\n",
    "    df['brand_material'] = df['brand_material'].astype('category').cat.codes\n",
    "\n",
    "    df['brand_size'] = df['brand'].astype(str) + '_' + df['size'].astype(str)\n",
    "    df['brand_size'] = df['brand_size'].astype('category').cat.codes\n",
    "\n",
    "    df['style_size'] = df['style'].astype(str) + '_' + df['size'].astype(str)\n",
    "    df['style_size'] = df['style_size'].astype('category').cat.codes\n",
    "\n",
    "    df['style_material'] = df['style'].astype(str) + '_' + df['material'].astype(str)\n",
    "    df['style_material'] = df['style_material'].astype('category').cat.codes\n",
    "\n",
    "    df['color_material'] = df['color'].astype(str) + '_' + df['material'].astype(str)\n",
    "    df['color_material'] = df['color_material'].astype('category').cat.codes\n",
    "\n",
    "    for col in ['brand', 'material', 'size', 'style', 'color','laptop compartment', 'waterproof']:\n",
    "        avg_col_name = f\"{col}_avg_weight_capacity\"\n",
    "        std_col_name = f\"{col}_std_weight_capacity\"\n",
    "        max_col_name = f\"{col}_max_weight_capacity\"\n",
    "        min_col_name = f\"{col}_min_weight_capacity\"\n",
    "        df[avg_col_name] = df.groupby(col)['weight_capacity'].transform('mean')\n",
    "        df[std_col_name] = df.groupby(col)['weight_capacity'].transform('std')\n",
    "        df[max_col_name] = df.groupby(col)['weight_capacity'].transform('max')\n",
    "        df[min_col_name] = df.groupby(col)['weight_capacity'].transform('min')\n",
    "\n",
    "    df = df.drop(columns=['brand', 'material', 'size', 'style', 'color','laptop compartment', 'waterproof'])\n",
    "\n",
    "    return df \n",
    "\n",
    "train = engineer_features(train)\n",
    "test = engineer_features(test)\n",
    "\n"
   ]
  },
  {
   "cell_type": "markdown",
   "metadata": {},
   "source": [
    "### Target Encoding"
   ]
  },
  {
   "cell_type": "markdown",
   "metadata": {},
   "source": [
    "K Folds target encoding for specific columns"
   ]
  },
  {
   "cell_type": "code",
   "execution_count": 22,
   "metadata": {},
   "outputs": [
    {
     "data": {
      "text/plain": [
       "Index(['id', 'compartments', 'weight_capacity', 'price', 'brand_adidas',\n",
       "       'brand_jansport', 'brand_nike', 'brand_puma', 'brand_under armour',\n",
       "       'brand_unknown', 'material_canvas', 'material_leather',\n",
       "       'material_nylon', 'material_polyester', 'material_unknown',\n",
       "       'size_large', 'size_medium', 'size_small', 'size_unknown',\n",
       "       'style_backpack', 'style_messenger', 'style_tote', 'style_unknown',\n",
       "       'color_black', 'color_blue', 'color_gray', 'color_green', 'color_pink',\n",
       "       'color_red', 'color_unknown', 'laptop compartment_no',\n",
       "       'laptop compartment_unknown', 'laptop compartment_yes', 'waterproof_no',\n",
       "       'waterproof_unknown', 'waterproof_yes', 'brand_enc', 'material_enc',\n",
       "       'size_enc', 'style_enc', 'color_enc', 'laptop compartment_enc',\n",
       "       'waterproof_enc', 'weight_capacity_rounded', 'weight_capacity_bins',\n",
       "       'weight_capacity_ratio', 'weight_capacity_squared',\n",
       "       'weight_capacity_cubed', 'weight_to_compartments', 'compartments_bins',\n",
       "       'brand_material', 'brand_size', 'style_size', 'style_material',\n",
       "       'color_material', 'brand_avg_weight_capacity',\n",
       "       'brand_std_weight_capacity', 'brand_max_weight_capacity',\n",
       "       'brand_min_weight_capacity', 'material_avg_weight_capacity',\n",
       "       'material_std_weight_capacity', 'material_max_weight_capacity',\n",
       "       'material_min_weight_capacity', 'size_avg_weight_capacity',\n",
       "       'size_std_weight_capacity', 'size_max_weight_capacity',\n",
       "       'size_min_weight_capacity', 'style_avg_weight_capacity',\n",
       "       'style_std_weight_capacity', 'style_max_weight_capacity',\n",
       "       'style_min_weight_capacity', 'color_avg_weight_capacity',\n",
       "       'color_std_weight_capacity', 'color_max_weight_capacity',\n",
       "       'color_min_weight_capacity', 'laptop compartment_avg_weight_capacity',\n",
       "       'laptop compartment_std_weight_capacity',\n",
       "       'laptop compartment_max_weight_capacity',\n",
       "       'laptop compartment_min_weight_capacity',\n",
       "       'waterproof_avg_weight_capacity', 'waterproof_std_weight_capacity',\n",
       "       'waterproof_max_weight_capacity', 'waterproof_min_weight_capacity'],\n",
       "      dtype='object')"
      ]
     },
     "execution_count": 22,
     "metadata": {},
     "output_type": "execute_result"
    }
   ],
   "source": [
    "train.columns"
   ]
  },
  {
   "cell_type": "code",
   "execution_count": 24,
   "metadata": {},
   "outputs": [],
   "source": [
    "te_cols = ['brand_enc', 'material_enc', 'size_enc', 'style_enc',\n",
    "       'color_enc', 'laptop compartment_enc', 'waterproof_enc',\n",
    "       'weight_capacity_rounded', 'weight_capacity_bins',\n",
    "       'weight_capacity_ratio', 'weight_capacity_squared',\n",
    "       'weight_capacity_cubed', 'weight_to_compartments', 'compartments_bins',\n",
    "       'brand_material', 'brand_size', 'style_size', 'style_material',\n",
    "       'color_material', 'brand_avg_weight_capacity',\n",
    "       'brand_std_weight_capacity', 'brand_max_weight_capacity',\n",
    "       'brand_min_weight_capacity', 'material_avg_weight_capacity',\n",
    "       'material_std_weight_capacity', 'material_max_weight_capacity',\n",
    "       'material_min_weight_capacity', 'size_avg_weight_capacity',\n",
    "       'size_std_weight_capacity', 'size_max_weight_capacity',\n",
    "       'size_min_weight_capacity', 'style_avg_weight_capacity',\n",
    "       'style_std_weight_capacity', 'style_max_weight_capacity',\n",
    "       'style_min_weight_capacity', 'color_avg_weight_capacity',\n",
    "       'color_std_weight_capacity', 'color_max_weight_capacity',\n",
    "       'color_min_weight_capacity', 'laptop compartment_avg_weight_capacity',\n",
    "       'laptop compartment_std_weight_capacity',\n",
    "       'laptop compartment_max_weight_capacity',\n",
    "       'laptop compartment_min_weight_capacity',\n",
    "       'waterproof_avg_weight_capacity', 'waterproof_std_weight_capacity',\n",
    "       'waterproof_max_weight_capacity', 'waterproof_min_weight_capacity']\n",
    "\n",
    "new_feature_cols = [feature + '_te' for feature in te_cols]"
   ]
  },
  {
   "cell_type": "code",
   "execution_count": 25,
   "metadata": {},
   "outputs": [],
   "source": [
    "\n",
    "# Initialize KFold\n",
    "n_splits = 5\n",
    "kf = KFold(n_splits=n_splits, shuffle=True, random_state=42)\n",
    "\n",
    "for col in te_cols:\n",
    "    # Create a new column to store the encoded values\n",
    "    train[col + '_te'] = np.nan\n",
    "\n",
    "    # Out-of-fold target encoding\n",
    "    for train_idx, val_idx in kf.split(train):\n",
    "        # Split data\n",
    "        train_set, val_set = train.iloc[train_idx], train.iloc[val_idx]\n",
    "        \n",
    "        # Calculate category means on training data\n",
    "        category_means = train_set.groupby(col)['price'].mean()\n",
    "        \n",
    "        # Encode validation fold using category means from the training fold\n",
    "        train.loc[val_idx, col + '_te'] = train.loc[val_idx, col].map(category_means)\n",
    "\n",
    "    # Fill any NaN values with the overall mean target\n",
    "    overall_mean = train[col].mean()\n",
    "    \n",
    "    train.fillna({col + '_te':overall_mean}, inplace=True)  # Fill any NaN values with the overall mean target \n",
    "\n",
    "    final_category_means = train.groupby(col)['price'].mean()\n",
    "\n",
    "    # Map the test set categories using the train set means\n",
    "    test[col + '_te'] = test[col].map(final_category_means)\n",
    "\n",
    "    # Fill NaN values in the test set with the overall mean\n",
    "    test.fillna({col + '_te':overall_mean}, inplace=True)"
   ]
  },
  {
   "cell_type": "markdown",
   "metadata": {},
   "source": [
    "### Scaling"
   ]
  },
  {
   "cell_type": "code",
   "execution_count": 26,
   "metadata": {},
   "outputs": [],
   "source": [
    "feature_cols = [col for col in train.columns if col not in ['id', 'price']]\n",
    "\n",
    "scaler = StandardScaler()\n",
    "\n",
    "train[feature_cols] = scaler.fit_transform(train[feature_cols])\n",
    "test[feature_cols] = scaler.transform(test[feature_cols])"
   ]
  },
  {
   "cell_type": "markdown",
   "metadata": {},
   "source": [
    "### Base Model Runs - XGBoost, CatBoost"
   ]
  },
  {
   "cell_type": "code",
   "execution_count": 27,
   "metadata": {},
   "outputs": [],
   "source": [
    "def eval_xgb(X, y, xgb_params):\n",
    "    # Setup K-Fold Cross-Validation\n",
    "    kf = KFold(n_splits=3, shuffle=True, random_state=42)\n",
    "\n",
    "    best_score = float('inf')\n",
    "    best_params = None\n",
    "\n",
    "    model = None\n",
    "\n",
    "    # Iterate over parameter combinations\n",
    "    for params in ParameterGrid(xgb_params):\n",
    "        scores = []\n",
    "        \n",
    "        for train_idx, val_idx in kf.split(X):\n",
    "            X_train, X_val = X.iloc[train_idx], X.iloc[val_idx]\n",
    "            y_train, y_val = y.iloc[train_idx], y.iloc[val_idx]\n",
    "            \n",
    "            # Train the model\n",
    "            model = xgb.XGBRegressor(**params, objective='reg:squarederror')\n",
    "            model.fit(X_train, y_train)\n",
    "            \n",
    "            # Evaluate on validation set\n",
    "            preds = model.predict(X_val)\n",
    "            score = root_mean_squared_error(y_val, preds)\n",
    "            scores.append(score)\n",
    "        \n",
    "        # Average score across folds\n",
    "        avg_score = np.mean(scores)\n",
    "        \n",
    "        # Keep track of the best parameters\n",
    "        if avg_score < best_score:\n",
    "            best_score = avg_score\n",
    "            best_params = params\n",
    "\n",
    "    print(\"Best Parameters:\", best_params)\n",
    "    print(\"Best RMSE: {:.2f}%\".format(best_score * 100))\n",
    "\n",
    "    return model\n",
    "\n",
    "# Grid search setups\n",
    "def run_grid_search(X, y, model, params, name, scoring='neg_root_mean_squared_error'):\n",
    "    grid = GridSearchCV(model, params, cv=3, scoring=scoring, n_jobs=-1)\n",
    "    grid.fit(X, y)\n",
    "    print(f\"Best parameters for {name}: {grid.best_params_}\")\n",
    "    print(f\"Best score for {name}: {-grid.best_score_}\")\n",
    "    return grid.best_estimator_\n"
   ]
  },
  {
   "cell_type": "code",
   "execution_count": 28,
   "metadata": {},
   "outputs": [],
   "source": [
    "xgb_params = {\n",
    "    'n_estimators': [ 50,100],\n",
    "    'learning_rate': [0.1],\n",
    "    'max_depth': [5]\n",
    "}\n",
    "\n",
    "cb_params = {\n",
    "    'iterations': [500,700],\n",
    "    'learning_rate': [0.1],\n",
    "    'depth': [4]\n",
    "}\n",
    "\n",
    "cb_model = cb.CatBoostRegressor(verbose=0, random_state=42, loss_function='RMSE')\n",
    "xgb_model = xgb.XGBRegressor(objective='reg:squarederror', random_state=42)\n",
    "\n",
    "\n"
   ]
  },
  {
   "cell_type": "code",
   "execution_count": 21,
   "metadata": {},
   "outputs": [],
   "source": [
    "X = train[feature_cols]\n",
    "y = train['price']"
   ]
  },
  {
   "cell_type": "code",
   "execution_count": 24,
   "metadata": {},
   "outputs": [
    {
     "name": "stdout",
     "output_type": "stream",
     "text": [
      "Running GridSearch for XGBoost...\n",
      "Best Parameters: {'learning_rate': 0.1, 'max_depth': 5, 'n_estimators': 100}\n",
      "Best RMSE: 3869.35%\n"
     ]
    }
   ],
   "source": [
    "print(\"Running GridSearch for XGBoost...\")\n",
    "best_xgb = eval_xgb(X, y, xgb_params)"
   ]
  },
  {
   "cell_type": "code",
   "execution_count": 25,
   "metadata": {},
   "outputs": [
    {
     "name": "stdout",
     "output_type": "stream",
     "text": [
      "Running GridSearch for CatBoost...\n",
      "Best parameters for CatBoost: {'depth': 4, 'iterations': 700, 'learning_rate': 0.1}\n",
      "Best score for CatBoost: 38.68800762193501\n"
     ]
    }
   ],
   "source": [
    "\n",
    "print(\"Running GridSearch for CatBoost...\")\n",
    "best_cb = run_grid_search(X, y, cb_model, cb_params, \"CatBoost\")"
   ]
  },
  {
   "cell_type": "code",
   "execution_count": 26,
   "metadata": {},
   "outputs": [],
   "source": [
    "test['price_xgb'] = best_xgb.predict(test[feature_cols])\n",
    "test['price_cb'] = best_cb.predict(test[feature_cols])"
   ]
  },
  {
   "cell_type": "markdown",
   "metadata": {},
   "source": [
    "### PCA"
   ]
  },
  {
   "cell_type": "code",
   "execution_count": 29,
   "metadata": {},
   "outputs": [
    {
     "data": {
      "image/png": "[encoded data removed]",
      "text/plain": [
       "<Figure size 800x500 with 1 Axes>"
      ]
     },
     "metadata": {},
     "output_type": "display_data"
    }
   ],
   "source": [
    "# Apply PCA\n",
    "pca = PCA().fit(train[feature_cols])\n",
    "\n",
    "# Plot the cumulative explained variance\n",
    "plt.figure(figsize=(8, 5))\n",
    "plt.plot(range(1, len(pca.explained_variance_ratio_) + 1), \n",
    "         pca.explained_variance_ratio_.cumsum(), marker='o')\n",
    "plt.xlabel('Number of Components')\n",
    "plt.ylabel('Cumulative Explained Variance')\n",
    "plt.title('Explained Variance by Number of Components')\n",
    "plt.grid(True)\n",
    "plt.show()\n"
   ]
  },
  {
   "cell_type": "code",
   "execution_count": 30,
   "metadata": {},
   "outputs": [],
   "source": [
    "pca = PCA(n_components=30)  # Reduce to 19 components\n",
    "X_pca = pca.fit_transform(train[feature_cols])\n",
    "X_pca = pd.DataFrame(X_pca, columns=[f'PC_{i}' for i in range(1, X_pca.shape[1] + 1)])\n",
    "\n",
    "test_pca = pca.transform(test[feature_cols])\n",
    "test_pca = pd.DataFrame(test_pca, columns=[f'PC_{i}' for i in range(1, test_pca.shape[1] + 1)])\n",
    "\n",
    "train = pd.concat([train, X_pca], axis=1)\n",
    "test = pd.concat([test, test_pca], axis=1)"
   ]
  },
  {
   "cell_type": "code",
   "execution_count": 31,
   "metadata": {},
   "outputs": [],
   "source": [
    "feature_cols = [col for col in train.columns if col not in ['id', 'price']]"
   ]
  },
  {
   "cell_type": "code",
   "execution_count": 1,
   "metadata": {},
   "outputs": [
    {
     "ename": "NameError",
     "evalue": "name 'train' is not defined",
     "output_type": "error",
     "traceback": [
      "\u001b[0;31m---------------------------------------------------------------------------\u001b[0m",
      "\u001b[0;31mNameError\u001b[0m                                 Traceback (most recent call last)",
      "Cell \u001b[0;32mIn[1], line 1\u001b[0m\n\u001b[0;32m----> 1\u001b[0m X \u001b[38;5;241m=\u001b[39m \u001b[43mtrain\u001b[49m[feature_cols]\n\u001b[1;32m      2\u001b[0m y \u001b[38;5;241m=\u001b[39m train[\u001b[38;5;124m'\u001b[39m\u001b[38;5;124mprice\u001b[39m\u001b[38;5;124m'\u001b[39m]\n",
      "\u001b[0;31mNameError\u001b[0m: name 'train' is not defined"
     ]
    }
   ],
   "source": [
    "X = train[feature_cols]\n",
    "y = train['price']"
   ]
  },
  {
   "cell_type": "code",
   "execution_count": null,
   "metadata": {},
   "outputs": [
    {
     "name": "stdout",
     "output_type": "stream",
     "text": [
      "Running GridSearch for XGBoost...\n"
     ]
    },
    {
     "name": "stdout",
     "output_type": "stream",
     "text": [
      "Best Parameters: {'learning_rate': 0.1, 'max_depth': 5, 'n_estimators': 50}\n",
      "Best RMSE: 3869.93%\n"
     ]
    },
    {
     "ename": "",
     "evalue": "",
     "output_type": "error",
     "traceback": [
      "\u001b[1;31mThe Kernel crashed while executing code in the current cell or a previous cell. \n",
      "\u001b[1;31mPlease review the code in the cell(s) to identify a possible cause of the failure. \n",
      "\u001b[1;31mClick <a href='https://aka.ms/vscodeJupyterKernelCrash'>here</a> for more info. \n",
      "\u001b[1;31mView Jupyter <a href='command:jupyter.viewOutput'>log</a> for further details."
     ]
    }
   ],
   "source": [
    "print(\"Running GridSearch for XGBoost...\")\n",
    "best_xgb = eval_xgb(X, y, xgb_params)"
   ]
  },
  {
   "cell_type": "code",
   "execution_count": null,
   "metadata": {},
   "outputs": [
    {
     "name": "stdout",
     "output_type": "stream",
     "text": [
      "Running GridSearch for CatBoost...\n"
     ]
    }
   ],
   "source": [
    "\n",
    "print(\"Running GridSearch for CatBoost...\")\n",
    "best_cb = run_grid_search(X, y, cb_model, cb_params, \"CatBoost\")"
   ]
  },
  {
   "cell_type": "code",
   "execution_count": 32,
   "metadata": {},
   "outputs": [],
   "source": [
    "test['price_xgb_pca'] = best_xgb.predict(test_pca)\n",
    "test['price_cb_pca'] = best_cb.predict(test_pca)"
   ]
  },
  {
   "cell_type": "code",
   "execution_count": 33,
   "metadata": {},
   "outputs": [],
   "source": [
    "# combine predictions\n",
    "\n",
    "test['price'] = test[['price_xgb', 'price_cb', 'price_xgb_pca', 'price_cb_pca']].mean(axis=1)"
   ]
  },
  {
   "cell_type": "code",
   "execution_count": 34,
   "metadata": {},
   "outputs": [],
   "source": [
    "def create_submission_file(sub_df):\n",
    "    submission = sub_df[['id', 'price']]\n",
    "    submission = submission.rename(columns={'price': 'Price'})\n",
    "    print(submission.isna().sum().sum())\n",
    "    display(submission.head())\n",
    "    file_name = datetime.now().strftime('submissions/submission_%Y%m%d_%H%M.csv')\n",
    "    submission.to_csv(file_name, index = False)"
   ]
  },
  {
   "cell_type": "code",
   "execution_count": 35,
   "metadata": {},
   "outputs": [
    {
     "name": "stdout",
     "output_type": "stream",
     "text": [
      "0\n"
     ]
    },
    {
     "data": {
      "text/html": [
       "<div>\n",
       "<style scoped>\n",
       "    .dataframe tbody tr th:only-of-type {\n",
       "        vertical-align: middle;\n",
       "    }\n",
       "\n",
       "    .dataframe tbody tr th {\n",
       "        vertical-align: top;\n",
       "    }\n",
       "\n",
       "    .dataframe thead th {\n",
       "        text-align: right;\n",
       "    }\n",
       "</style>\n",
       "<table border=\"1\" class=\"dataframe\">\n",
       "  <thead>\n",
       "    <tr style=\"text-align: right;\">\n",
       "      <th></th>\n",
       "      <th>id</th>\n",
       "      <th>Price</th>\n",
       "    </tr>\n",
       "  </thead>\n",
       "  <tbody>\n",
       "    <tr>\n",
       "      <th>0</th>\n",
       "      <td>300000</td>\n",
       "      <td>86.616574</td>\n",
       "    </tr>\n",
       "    <tr>\n",
       "      <th>1</th>\n",
       "      <td>300001</td>\n",
       "      <td>80.535241</td>\n",
       "    </tr>\n",
       "    <tr>\n",
       "      <th>2</th>\n",
       "      <td>300002</td>\n",
       "      <td>86.097917</td>\n",
       "    </tr>\n",
       "    <tr>\n",
       "      <th>3</th>\n",
       "      <td>300003</td>\n",
       "      <td>80.914784</td>\n",
       "    </tr>\n",
       "    <tr>\n",
       "      <th>4</th>\n",
       "      <td>300004</td>\n",
       "      <td>79.776382</td>\n",
       "    </tr>\n",
       "  </tbody>\n",
       "</table>\n",
       "</div>"
      ],
      "text/plain": [
       "       id      Price\n",
       "0  300000  86.616574\n",
       "1  300001  80.535241\n",
       "2  300002  86.097917\n",
       "3  300003  80.914784\n",
       "4  300004  79.776382"
      ]
     },
     "metadata": {},
     "output_type": "display_data"
    }
   ],
   "source": [
    "create_submission_file(test)"
   ]
  },
  {
   "cell_type": "code",
   "execution_count": 38,
   "metadata": {},
   "outputs": [
    {
     "name": "stdout",
     "output_type": "stream",
     "text": [
      "RMSE on test set: 38.75493794768767\n"
     ]
    }
   ],
   "source": [
    "# try a simple linear regression model on the training data\n",
    "\n",
    "cols = [col for col in train.columns if '_te' in col]\n",
    "X = train[cols]\n",
    "y = train['price']\n",
    "\n",
    "lr = LinearRegression()\n",
    "\n",
    "\n",
    "# create train and test splits\n",
    "X_train, X_test, y_train, y_test = train_test_split(X, y, test_size=0.2, random_state=42)\n",
    "\n",
    "# calculate RMSE over the test set\n",
    "lr.fit(X_train, y_train)\n",
    "\n",
    "y_pred = lr.predict(X_test)\n",
    "\n",
    "rmse = np.sqrt(mean_squared_error(y_test, y_pred))\n",
    "print(\"RMSE on test set:\", rmse)"
   ]
  },
  {
   "cell_type": "code",
   "execution_count": null,
   "metadata": {},
   "outputs": [],
   "source": []
  }
 ],
 "metadata": {
  "kernelspec": {
   "display_name": ".venv",
   "language": "python",
   "name": "python3"
  },
  "language_info": {
   "codemirror_mode": {
    "name": "ipython",
    "version": 3
   },
   "file_extension": ".py",
   "mimetype": "text/x-python",
   "name": "python",
   "nbconvert_exporter": "python",
   "pygments_lexer": "ipython3",
   "version": "3.12.2"
  }
 },
 "nbformat": 4,
 "nbformat_minor": 2
}
